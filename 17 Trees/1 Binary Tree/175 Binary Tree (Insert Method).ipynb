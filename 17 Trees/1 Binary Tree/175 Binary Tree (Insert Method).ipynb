{
 "cells": [
  {
   "cell_type": "code",
   "execution_count": null,
   "metadata": {},
   "outputs": [],
   "source": [
    "def insert(temp,key):\n",
    "    if temp is None:\n",
    "        root = Node(key)\n",
    "        return   \n",
    "    queue = []\n",
    "    queue.append(temp)\n",
    "\n",
    "    while (len(queue)):\n",
    "        temp = queue[0]\n",
    "        queue.pop(0)\n",
    "        if temp.left is None:\n",
    "            temp.left = Node(key)\n",
    "            break\n",
    "        else: queue.append(temp.left)\n",
    "        if temp.right is None:\n",
    "            temp.right = Node(key)\n",
    "            break\n",
    "        else: queue.append(temp.right)"
   ]
  },
  {
   "cell_type": "code",
   "execution_count": null,
   "metadata": {},
   "outputs": [],
   "source": [
    "def insert(temp,key):\n",
    "    if temp is None:\n",
    "        root = Node(key)\n",
    "        return   \n",
    "    queue = []\n",
    "    queue.append(temp)\n",
    "\n",
    "    while (len(queue)):\n",
    "        temp = queue[0]\n",
    "        queue.pop(0)\n",
    "        if temp.left is None:\n",
    "            temp.left = Node(key)\n",
    "            break\n",
    "        else: queue.append(temp.left)\n",
    "        if temp.right is None:\n",
    "            temp.right = Node(key)\n",
    "            break\n",
    "        else: queue.append(temp.right)\n",
    "\n",
    "class Node:\n",
    "    def __init__(self,key):\n",
    "        self.key = key\n",
    "        self.left = None\n",
    "        self.right = None\n",
    "\n",
    "if __name__ == '__main__':\n",
    "    root = Node(10)\n",
    "    root.left = Node(11)\n",
    "    root.left.left = Node(7)\n",
    "    root.right = Node(9)\n",
    "    root.right.left = Node(15)\n",
    "    root.right.right = Node(8)\n",
    "\n",
    "    key = 12\n",
    "    insert(root, key)"
   ]
  }
 ],
 "metadata": {
  "kernelspec": {
   "display_name": "Python 3.10.5 64-bit",
   "language": "python",
   "name": "python3"
  },
  "language_info": {
   "name": "python",
   "version": "3.10.5"
  },
  "orig_nbformat": 4,
  "vscode": {
   "interpreter": {
    "hash": "fb4569285eef3a3450cb62085a5b1e0da4bce0af555edc33dcf29baf3acc1368"
   }
  }
 },
 "nbformat": 4,
 "nbformat_minor": 2
}

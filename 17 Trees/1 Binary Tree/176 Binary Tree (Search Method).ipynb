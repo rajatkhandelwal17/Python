{
 "cells": [
  {
   "cell_type": "code",
   "execution_count": null,
   "metadata": {},
   "outputs": [],
   "source": [
    "def ifNodeExists(root, key):\n",
    "    if root == None: return False\n",
    "    if root.data == key: return True\n",
    "    res1 = ifNodeExists(root.left, key)\n",
    "    if res1 == True: return True\n",
    "    res2 = ifNodeExists(root.right, key)\n",
    "    return res2"
   ]
  },
  {
   "cell_type": "code",
   "execution_count": null,
   "metadata": {},
   "outputs": [],
   "source": [
    "def ifNodeExists(root, key):\n",
    "    if root == None: return False\n",
    "    if root.data == key: return True\n",
    "    res1 = ifNodeExists(root.left, key)\n",
    "    if res1 == True: return True\n",
    "    res2 = ifNodeExists(root.right, key)\n",
    "    return res2\n",
    "\n",
    "def insert(temp,key):\n",
    "    if temp is None:\n",
    "        root = Node(key)\n",
    "        return   \n",
    "    queue = []\n",
    "    queue.append(temp)\n",
    "\n",
    "    while (len(queue)):\n",
    "        temp = queue[0]\n",
    "        queue.pop(0)\n",
    "        if temp.left is None:\n",
    "            temp.left = Node(key)\n",
    "            break\n",
    "        else: queue.append(temp.left)\n",
    "        if temp.right is None:\n",
    "            temp.right = Node(key)\n",
    "            break\n",
    "        else: queue.append(temp.right)\n",
    "\n",
    "class Node:\n",
    "    def __init__(self,key):\n",
    "        self.key = key\n",
    "        self.left = None\n",
    "        self.right = None\n",
    "\n",
    "if __name__ == '__main__':\n",
    "    root = Node(0)\n",
    "    root.left = Node(1)\n",
    "    root.left.left = Node(3)\n",
    "    root.left.left.left = Node(7)\n",
    "    root.left.right = Node(4)\n",
    "    root.left.right.left = Node(8)\n",
    "    root.left.right.right = Node(9)\n",
    "    root.right = Node(2)\n",
    "    root.right.left = Node(5)\n",
    "    root.right.right = Node(6)\n",
    " \n",
    "    key = 4\n",
    "    if ifNodeExists(root, key): print(\"YES\" )\n",
    "    else: print(\"NO\")"
   ]
  }
 ],
 "metadata": {
  "kernelspec": {
   "display_name": "Python 3.10.5 64-bit",
   "language": "python",
   "name": "python3"
  },
  "language_info": {
   "name": "python",
   "version": "3.10.5"
  },
  "orig_nbformat": 4,
  "vscode": {
   "interpreter": {
    "hash": "fb4569285eef3a3450cb62085a5b1e0da4bce0af555edc33dcf29baf3acc1368"
   }
  }
 },
 "nbformat": 4,
 "nbformat_minor": 2
}

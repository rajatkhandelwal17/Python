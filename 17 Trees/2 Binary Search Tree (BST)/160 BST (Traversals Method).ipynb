{
 "cells": [
  {
   "cell_type": "code",
   "execution_count": null,
   "metadata": {},
   "outputs": [],
   "source": [
    "'''\n",
    "In this peice of code we are going to write three methods named, preorder, inorder & postorder which is used to traversing the binary search tree...\n",
    "'''\n",
    "\n",
    "class BST:\n",
    "    def __init__(self,key):\n",
    "        self.key = key\n",
    "        self.left = None\n",
    "        self.right = None\n",
    "\n",
    "    def insert(self,data):\n",
    "        if self.key is None:\n",
    "            self.key = data\n",
    "            return\n",
    "        if self.key > data:\n",
    "            if self.left: self.left.insert(data)\n",
    "            else: self.left = BST(data)\n",
    "        else:\n",
    "            if self.right: self.right.insert(data)\n",
    "            else: self.right = BST(data)\n",
    "\n",
    "    def search(self,data):\n",
    "        if self.key == data:\n",
    "            print(\"Node is found\")\n",
    "            return\n",
    "        if data < self.key:\n",
    "            if self.left: self.left.search(data)\n",
    "            else: print(\"Node is not present in Tree\")\n",
    "        else:\n",
    "            if self.right: self.right.search(data)\n",
    "            else: print(\"Node is not present in Tree\")\n",
    "    \n",
    "    def preorder(self):\n",
    "        print(self.key,end = \" \")\n",
    "        if self.left: self.left.preorder()\n",
    "        if self.right: self.right.preorder()\n",
    "    \n",
    "    def inorder(self):\n",
    "        if self.left: self.left.inorder()\n",
    "        print(self.key,end = \" \")\n",
    "        if self.right: self.right.inorder()\n",
    "    \n",
    "    def postorder(self):\n",
    "        if self.left: self.left.postorder()\n",
    "        if self.right: self.right.postorder()\n",
    "        print(self.key,end = \" \")\n",
    "        \n",
    "root = BST(10)\n",
    "list1 = [20,4,30,4,1,5,6]\n",
    "for i in list1:\n",
    "    root.insert(i)\n",
    "root.search(30)\n",
    "\n",
    "root.preorder()\n",
    "print()\n",
    "\n",
    "root.inorder()\n",
    "print()\n",
    "\n",
    "root.postorder()\n",
    "print()"
   ]
  }
 ],
 "metadata": {
  "kernelspec": {
   "display_name": "Python 3.10.5 64-bit",
   "language": "python",
   "name": "python3"
  },
  "language_info": {
   "codemirror_mode": {
    "name": "ipython",
    "version": 3
   },
   "file_extension": ".py",
   "mimetype": "text/x-python",
   "name": "python",
   "nbconvert_exporter": "python",
   "pygments_lexer": "ipython3",
   "version": "3.10.5"
  },
  "orig_nbformat": 4,
  "vscode": {
   "interpreter": {
    "hash": "fb4569285eef3a3450cb62085a5b1e0da4bce0af555edc33dcf29baf3acc1368"
   }
  }
 },
 "nbformat": 4,
 "nbformat_minor": 2
}

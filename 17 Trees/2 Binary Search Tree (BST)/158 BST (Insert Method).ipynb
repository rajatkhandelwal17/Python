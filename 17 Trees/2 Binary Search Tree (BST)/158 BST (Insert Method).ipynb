{
 "cells": [
  {
   "cell_type": "code",
   "execution_count": 1,
   "metadata": {},
   "outputs": [],
   "source": [
    "'''\n",
    "Creating Insertion method in class which takes data as an argument and first we see if tree's root node is none then allocate value to that otherwise compare that data value with root node and call function accordingly...\n",
    "'''\n",
    "\n",
    "class BST:\n",
    "    def __init__(self,key):\n",
    "        self.key = key\n",
    "        self.left = None\n",
    "        self.right = None\n",
    "\n",
    "    def insert(self,data):\n",
    "        if self.key is None:\n",
    "            self.key = data\n",
    "            return\n",
    "        if self.key > data:\n",
    "            if self.left: self.left.insert(data)\n",
    "            else: self.left = BST(data)\n",
    "        else:\n",
    "            if self.right: self.right.insert(data)\n",
    "            else: self.right = BST(data)\n",
    "        \n",
    "root = BST(10)\n",
    "list1 = [20,4,30,4,1,5,6]\n",
    "for i in list1:\n",
    "    root.insert(i)"
   ]
  },
  {
   "cell_type": "code",
   "execution_count": 2,
   "metadata": {},
   "outputs": [],
   "source": [
    "'''\n",
    "In this peice of code, we are also dealing with duplicate values, if we found duplicate values than we are going to return at that time, so our Binary search tree will not going to contain duplicate values...\n",
    "'''\n",
    "\n",
    "class BST:\n",
    "    def __init__(self,key):\n",
    "        self.key = key\n",
    "        self.left = None\n",
    "        self.right = None\n",
    "\n",
    "    def insert(self,data):\n",
    "        if self.key is None:\n",
    "            self.key = data\n",
    "            return\n",
    "        if self.key == data: return\n",
    "        if self.key > data:\n",
    "            if self.left: self.left.insert(data)\n",
    "            else: self.left = BST(data)\n",
    "        else:\n",
    "            if self.right: self.right.insert(data)\n",
    "            else: self.right = BST(data)\n",
    "        \n",
    "root = BST(10)\n",
    "list1 = [20,4,30,4,1,5,6]\n",
    "for i in list1:\n",
    "    root.insert(i)"
   ]
  }
 ],
 "metadata": {
  "kernelspec": {
   "display_name": "Python 3.10.5 64-bit",
   "language": "python",
   "name": "python3"
  },
  "language_info": {
   "codemirror_mode": {
    "name": "ipython",
    "version": 3
   },
   "file_extension": ".py",
   "mimetype": "text/x-python",
   "name": "python",
   "nbconvert_exporter": "python",
   "pygments_lexer": "ipython3",
   "version": "3.10.5"
  },
  "orig_nbformat": 4,
  "vscode": {
   "interpreter": {
    "hash": "fb4569285eef3a3450cb62085a5b1e0da4bce0af555edc33dcf29baf3acc1368"
   }
  }
 },
 "nbformat": 4,
 "nbformat_minor": 2
}

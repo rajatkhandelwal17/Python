{
 "cells": [
  {
   "cell_type": "code",
   "execution_count": null,
   "metadata": {},
   "outputs": [],
   "source": [
    "class AVLTree():\n",
    "\n",
    "    def insert_node(self,root,key):\n",
    "\n",
    "        if not root: return TreeNode(key)\n",
    "        elif key < root.key: root.left = self.insert_node(root.left, key)\n",
    "        else: root.right = self.insert_node(root.right, key)\n",
    "\n",
    "        root.height = 1 + max(self.getHeight(root.left),self.getHeight(root.right))\n",
    "\n",
    "        balanceFactor = self.getBalance(root)\n",
    "\n",
    "        if balanceFactor > 1:\n",
    "            if key < root.left.key: return self.leftRotate(root)\n",
    "            else: return self.leftrightRotate(root)\n",
    "\n",
    "        if balanceFactor < -1:\n",
    "            if key > root.right.key: return self.rightRotate(root)\n",
    "            else: return self.rightleftRotate(root)\n",
    "\n",
    "        return root"
   ]
  },
  {
   "cell_type": "code",
   "execution_count": null,
   "metadata": {},
   "outputs": [],
   "source": [
    "class TreeNode():\n",
    "    def __init__(self,key):\n",
    "        self.key = key\n",
    "        self.left = None\n",
    "        self.right = None\n",
    "        self.height = 1\n",
    "\n",
    "class AVLTree():\n",
    "\n",
    "    def insert_node(self,root,key):\n",
    "\n",
    "        if not root: return TreeNode(key)\n",
    "        elif key < root.key: root.left = self.insert_node(root.left, key)\n",
    "        else: root.right = self.insert_node(root.right, key)\n",
    "\n",
    "        root.height = 1 + max(self.getHeight(root.left),self.getHeight(root.right))\n",
    "\n",
    "        balanceFactor = self.getBalance(root)\n",
    "\n",
    "        if balanceFactor > 1:\n",
    "            if key < root.left.key: return self.leftRotate(root)\n",
    "            else: return self.leftrightRotate(root)\n",
    "\n",
    "        if balanceFactor < -1:\n",
    "            if key > root.right.key: return self.rightRotate(root)\n",
    "            else: return self.rightleftRotate(root)\n",
    "\n",
    "        return root"
   ]
  }
 ],
 "metadata": {
  "kernelspec": {
   "display_name": "Python 3.10.5 64-bit",
   "language": "python",
   "name": "python3"
  },
  "language_info": {
   "name": "python",
   "version": "3.10.5"
  },
  "orig_nbformat": 4,
  "vscode": {
   "interpreter": {
    "hash": "fb4569285eef3a3450cb62085a5b1e0da4bce0af555edc33dcf29baf3acc1368"
   }
  }
 },
 "nbformat": 4,
 "nbformat_minor": 2
}

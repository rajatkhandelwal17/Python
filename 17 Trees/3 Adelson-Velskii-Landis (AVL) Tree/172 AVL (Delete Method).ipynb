{
 "cells": [
  {
   "cell_type": "code",
   "execution_count": null,
   "metadata": {},
   "outputs": [],
   "source": [
    "def getHeight(root):\n",
    "   if root is None: return 0\n",
    "   return root.height\n",
    "   \n",
    "def rightRotate(disbalancedNode):\n",
    "   newRoot = disbalancedNode.left\n",
    "   disbalancedNode.left = disbalancedNode.left.right\n",
    "   newRoot.right = disbalancedNode\n",
    "   disbalancedNode.height = 1 + max(getHeight(disbalancedNode.left), getHeight(disbalancedNode.right))\n",
    "   newRoot.height = 1 + max(getHeight(newRoot.left), getHeight(newRoot.right))\n",
    "   return newRoot\n",
    "   \n",
    "def leftRotate(disbalancedNode):\n",
    "   newRoot = disbalancedNode.right\n",
    "   disbalancedNode.right = disbalancedNode.right.left\n",
    "   newRoot.left = disbalancedNode\n",
    "   disbalancedNode.height = 1 + max(getHeight(disbalancedNode.left), getHeight(disbalancedNode.right))\n",
    "   newRoot.height = 1 + max(getHeight(newRoot.left), getHeight(newRoot.right))\n",
    "   return newRoot\n",
    "   \n",
    "def getBalance(root):\n",
    "   if root is None: return 0\n",
    "   return getHeight(root.left) - getHeight(root.right)\n",
    "   \n",
    "def getMinValueNode(root):\n",
    "   if root is None or root.left is None: return root\n",
    "   return getMinValueNode(root.left)\n",
    "   \n",
    "def deleteNode(root, key):\n",
    "   if root is None:\n",
    "       return root\n",
    "   elif key < root.data:\n",
    "       root.left = deleteNode(root.left, key)\n",
    "   elif key > root.data:\n",
    "       root.right = deleteNode(root.right, key)\n",
    "   else:\n",
    "       if root.left is None:\n",
    "           curr = root.right\n",
    "           root = None\n",
    "           return curr\n",
    "       if root.right is None:\n",
    "           curr = root.left\n",
    "           root = None\n",
    "           return curr\n",
    "       curr = getMinValueNode(root.right)\n",
    "       root.data = curr.data\n",
    "       root.right = deleteNode(root.right, curr.data)\n",
    "       \n",
    "   root.height = 1 + max(getHeight(root.left), getHeight(root.right))\n",
    "   \n",
    "   balance = getBalance(root)\n",
    "   if balance > 1 and getBalance(root.left) >= 0: return rightRotate(root)\n",
    "   elif balance > 1 and getBalance(root.left) < 0:\n",
    "       root.left = leftRotate(root.left)\n",
    "       return rightRotate(root) \n",
    "   elif balance < -1 and getBalance(root.right) <= 0: return leftRotate(root)\n",
    "   elif balance < -1 and getBalance(root.right) > 0:\n",
    "       root.right = rightRotate(root.right)\n",
    "       return leftRotate(root)\n",
    "       \n",
    "   return root"
   ]
  }
 ],
 "metadata": {
  "kernelspec": {
   "display_name": "Python 3.10.5 64-bit",
   "language": "python",
   "name": "python3"
  },
  "language_info": {
   "name": "python",
   "version": "3.10.5"
  },
  "orig_nbformat": 4,
  "vscode": {
   "interpreter": {
    "hash": "fb4569285eef3a3450cb62085a5b1e0da4bce0af555edc33dcf29baf3acc1368"
   }
  }
 },
 "nbformat": 4,
 "nbformat_minor": 2
}

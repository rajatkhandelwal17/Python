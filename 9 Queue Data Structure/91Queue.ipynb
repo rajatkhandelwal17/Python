{
 "cells": [
  {
   "cell_type": "code",
   "execution_count": null,
   "metadata": {},
   "outputs": [],
   "source": [
    "# Basically, a queue is a data structure in which FIFO(First In First Out) or LILO(Last In Last Out) phenomena takes place...But this is not the case with \"Priority Queue\"..In this Queue We process or delete that element  First Which Has A High priority..."
   ]
  },
  {
   "cell_type": "code",
   "execution_count": null,
   "metadata": {},
   "outputs": [],
   "source": [
    "# There Are Two Ways By which We can give priorities To the elements of the queue: \n",
    "# first is.... low Number -> high priority\n",
    "# second is....high number -> low priority"
   ]
  },
  {
   "cell_type": "code",
   "execution_count": null,
   "metadata": {},
   "outputs": [],
   "source": [
    "# Implementation of priority Queue Is Possible In two ways:\n",
    "# 1. By the help of list\n",
    "# 2. By the help of class \"PriorityQueue\" In A module"
   ]
  }
 ],
 "metadata": {
  "language_info": {
   "name": "python"
  },
  "orig_nbformat": 4
 },
 "nbformat": 4,
 "nbformat_minor": 2
}

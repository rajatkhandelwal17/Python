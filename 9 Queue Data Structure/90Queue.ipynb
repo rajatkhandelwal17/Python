{
 "cells": [
  {
   "cell_type": "code",
   "execution_count": null,
   "metadata": {},
   "outputs": [],
   "source": [
    "# Implementation of Queue in python Using Modules..\n",
    "# Here Module Name is \"queue\" and Class name is \"Queue\"..\n",
    "# First Import Module Named \"queue\"...\n",
    "# In modules there are lot of in-built functions which we use to do operatons with Queue..."
   ]
  },
  {
   "cell_type": "code",
   "execution_count": null,
   "metadata": {},
   "outputs": [],
   "source": [
    "import queue                   # Importing Module Named queue\n",
    "queue = queue.Queue()          # creating queue by the help of Queue class\n",
    "queue                          # Printing Queue"
   ]
  },
  {
   "cell_type": "code",
   "execution_count": null,
   "metadata": {},
   "outputs": [],
   "source": [
    "if not queue: print(\"Queue Is empty\")\n",
    "else: print(\"Queue Is Not Empty\")"
   ]
  },
  {
   "cell_type": "code",
   "execution_count": null,
   "metadata": {},
   "outputs": [],
   "source": [
    "queue.put(10)                 # Appending values at queue...\n",
    "queue.put(50)           \n",
    "queue.put(30)\n",
    "queue                         # Printing Queue"
   ]
  },
  {
   "cell_type": "code",
   "execution_count": null,
   "metadata": {},
   "outputs": [],
   "source": [
    "queue.get()                  # Deleting the first entered Element That is 10\n",
    "queue.get()                  # Deleting the second entered element that is 50\n",
    "queue.get()                  # Deleting the third entered element that is 30"
   ]
  }
 ],
 "metadata": {
  "interpreter": {
   "hash": "f23faf4bfe871c203c8bec80520af5927fc7cb1ae3bd834ddf554ee587ad1c05"
  },
  "kernelspec": {
   "display_name": "Python 3.8.7 64-bit",
   "language": "python",
   "name": "python3"
  },
  "language_info": {
   "codemirror_mode": {
    "name": "ipython",
    "version": 3
   },
   "file_extension": ".py",
   "mimetype": "text/x-python",
   "name": "python",
   "nbconvert_exporter": "python",
   "pygments_lexer": "ipython3",
   "version": "3.8.7"
  },
  "orig_nbformat": 4
 },
 "nbformat": 4,
 "nbformat_minor": 2
}

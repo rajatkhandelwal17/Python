{
 "cells": [
  {
   "cell_type": "code",
   "execution_count": null,
   "metadata": {},
   "outputs": [],
   "source": [
    "# Implementation of Queue in python Using Modules..\n",
    "# Here Module Name is \"collections\" and Class name is \"deque\"..\n",
    "# First Import Module Named \"collections\"...\n",
    "# In modules there are lot of in-built functions which we use to do operatons with Queue..."
   ]
  },
  {
   "cell_type": "code",
   "execution_count": null,
   "metadata": {},
   "outputs": [],
   "source": [
    "import collections                   # Importing Module Named Collections\n",
    "queue = collections.deque()          # creating queue by the help of dequeue class\n",
    "queue                                # Printing Queue"
   ]
  },
  {
   "cell_type": "code",
   "execution_count": null,
   "metadata": {},
   "outputs": [],
   "source": [
    "if not queue: print(\"Queue Is empty\")\n",
    "else: print(\"Queue Is Not Empty\")"
   ]
  },
  {
   "cell_type": "code",
   "execution_count": null,
   "metadata": {},
   "outputs": [],
   "source": [
    "queue.appendleft(10)                 # Appending value at left of queue...\n",
    "queue.appendleft(20)                 # One type Of Double Ended queue\n",
    "queue.appendleft(30)\n",
    "queue                                # Printing Queue\n",
    "print(queue[0])                  # Getting rear value from queue\n",
    "print(queue[-1])                 # Getting front Value from queue"
   ]
  },
  {
   "cell_type": "code",
   "execution_count": null,
   "metadata": {},
   "outputs": [],
   "source": [
    "queue.pop()                          # Deleting Value From Right\n",
    "queue.pop()                          # Just using pop() function for delete\n",
    "queue.pop()\n",
    "queue                                # Print Empty Queue"
   ]
  }
 ],
 "metadata": {
  "interpreter": {
   "hash": "f23faf4bfe871c203c8bec80520af5927fc7cb1ae3bd834ddf554ee587ad1c05"
  },
  "kernelspec": {
   "display_name": "Python 3.8.7 64-bit",
   "language": "python",
   "name": "python3"
  },
  "language_info": {
   "codemirror_mode": {
    "name": "ipython",
    "version": 3
   },
   "file_extension": ".py",
   "mimetype": "text/x-python",
   "name": "python",
   "nbconvert_exporter": "python",
   "pygments_lexer": "ipython3",
   "version": "3.8.7"
  },
  "orig_nbformat": 4
 },
 "nbformat": 4,
 "nbformat_minor": 2
}

{
 "cells": [
  {
   "cell_type": "code",
   "execution_count": null,
   "metadata": {},
   "outputs": [],
   "source": [
    "# Implementation of Queue in python Using Modules..\n",
    "# Here Module Name is \"collections\" and Class name is \"deque\"..\n",
    "# First Import Module Named \"collections\"...\n",
    "# In modules there are lot of in-built functions which we use to do operatons with Queue..."
   ]
  },
  {
   "cell_type": "code",
   "execution_count": null,
   "metadata": {},
   "outputs": [],
   "source": [
    "import collections                   # Importing Module Named Collections\n",
    "queue = collections.deque()          # creating queue by the help of dequeue class\n",
    "queue                                # Printing Queue"
   ]
  },
  {
   "cell_type": "code",
   "execution_count": null,
   "metadata": {},
   "outputs": [],
   "source": [
    "if not queue: print(\"Queue Is empty\")\n",
    "else: print(\"Queue Is Not Empty\")"
   ]
  },
  {
   "cell_type": "code",
   "execution_count": null,
   "metadata": {},
   "outputs": [],
   "source": [
    "queue.append(10)                 # Appending value at left of queue...\n",
    "queue.append(20)                 # Second type Of Double Ended queue...\n",
    "queue.append(30)\n",
    "queue                            # Printing Queue\n",
    "print(queue[0])                  # Getting front value from queue\n",
    "print(queue[-1])                 # Getting Rear Value from queue"
   ]
  },
  {
   "cell_type": "code",
   "execution_count": null,
   "metadata": {},
   "outputs": [],
   "source": [
    "queue.popleft()                          # Deleting Value From Right\n",
    "queue.popleft()                          # Just using pop() function for delete\n",
    "queue.popleft()\n",
    "queue                                    # Print Empty Queue"
   ]
  }
 ],
 "metadata": {
  "kernelspec": {
   "display_name": "Python 3.10.5 64-bit",
   "language": "python",
   "name": "python3"
  },
  "language_info": {
   "codemirror_mode": {
    "name": "ipython",
    "version": 3
   },
   "file_extension": ".py",
   "mimetype": "text/x-python",
   "name": "python",
   "nbconvert_exporter": "python",
   "pygments_lexer": "ipython3",
   "version": "3.10.5"
  },
  "orig_nbformat": 4,
  "vscode": {
   "interpreter": {
    "hash": "fb4569285eef3a3450cb62085a5b1e0da4bce0af555edc33dcf29baf3acc1368"
   }
  }
 },
 "nbformat": 4,
 "nbformat_minor": 2
}

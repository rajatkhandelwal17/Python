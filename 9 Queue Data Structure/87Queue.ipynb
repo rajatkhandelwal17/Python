{
 "cells": [
  {
   "cell_type": "code",
   "execution_count": null,
   "metadata": {},
   "outputs": [],
   "source": [
    "# Implementation of Queue in python Using Modules..\n",
    "# Here Module Name is \"collections\" and Class name is \"deque\"..\n",
    "# First Import Module Named \"collections\"...\n",
    "# In modules there are lot of in-built functions which we use to do operatons with Queue..."
   ]
  },
  {
   "cell_type": "code",
   "execution_count": null,
   "metadata": {},
   "outputs": [],
   "source": [
    "# We can create single ended queue as you see in previous file but we can also create double ended queue in which...\n",
    "\n",
    "# If you want insertion from right and deletion from left: \n",
    "# Then For Insertion use append() method\n",
    "# And for deletion use popleft() method\n",
    "\n",
    "# If you want insertion from left and deletion from right: \n",
    "# Then for insertion use appendleft() method\n",
    "# And for Deletion use pop() method"
   ]
  }
 ],
 "metadata": {
  "language_info": {
   "name": "python"
  },
  "orig_nbformat": 4
 },
 "nbformat": 4,
 "nbformat_minor": 2
}

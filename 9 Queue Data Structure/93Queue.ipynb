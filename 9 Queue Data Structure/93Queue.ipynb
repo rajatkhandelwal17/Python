{
 "cells": [
  {
   "cell_type": "code",
   "execution_count": null,
   "metadata": {},
   "outputs": [],
   "source": [
    "# Implementation of Priority Queue in python Using Modules..\n",
    "# Here Module Name is \"queue\" and Class name is \"PriorityQueue\"..\n",
    "# First Import Module Named \"queue\"...\n",
    "# In modules there are lot of in-built functions which we use to do operatons with Queue..."
   ]
  },
  {
   "cell_type": "code",
   "execution_count": null,
   "metadata": {},
   "outputs": [],
   "source": [
    "import queue                         # Importing the Module named \"queue\"\n",
    "queue = queue.PriorityQueue()        # Creating queue using class \"PriorityQueue\"\n",
    "queue                                # Printing Queue"
   ]
  },
  {
   "cell_type": "code",
   "execution_count": null,
   "metadata": {},
   "outputs": [],
   "source": [
    "queue.put(10)                        # Adding Values to queuee\n",
    "queue.put(60)                        # By using put function of class\n",
    "queue.put(20)\n",
    "queue.put(40)\n",
    "queue.put(40)\n",
    "queue                                # Printing Queue"
   ]
  },
  {
   "cell_type": "code",
   "execution_count": null,
   "metadata": {},
   "outputs": [],
   "source": [
    "queue.get()                         # Deleting Values From queue\n",
    "queue.get()                         # It is going to delete low numbers first\n",
    "queue.get()                         # Because In this Low number -> High priority\n",
    "queue.get()\n",
    "queue.get()"
   ]
  }
 ],
 "metadata": {
  "interpreter": {
   "hash": "f23faf4bfe871c203c8bec80520af5927fc7cb1ae3bd834ddf554ee587ad1c05"
  },
  "kernelspec": {
   "display_name": "Python 3.8.7 64-bit",
   "language": "python",
   "name": "python3"
  },
  "language_info": {
   "codemirror_mode": {
    "name": "ipython",
    "version": 3
   },
   "file_extension": ".py",
   "mimetype": "text/x-python",
   "name": "python",
   "nbconvert_exporter": "python",
   "pygments_lexer": "ipython3",
   "version": "3.8.7"
  },
  "orig_nbformat": 4
 },
 "nbformat": 4,
 "nbformat_minor": 2
}

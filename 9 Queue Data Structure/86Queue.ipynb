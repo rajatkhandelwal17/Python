{
 "cells": [
  {
   "cell_type": "code",
   "execution_count": null,
   "metadata": {},
   "outputs": [],
   "source": [
    "# Implementation of Queue using list\n",
    "# Queue has basically four main operations : enqueue, dequeue, isfull, isempty\n",
    "# In list Implementation for enqueue is the process of adding elements to queue\n",
    "# In list Implementation For dequeue is the process of removing the elements from queue\n",
    "\n",
    "# Enqueue =====> append() method\n",
    "# Dequeue =====> pop() method ====> list.pop(0) [Always]"
   ]
  },
  {
   "cell_type": "code",
   "execution_count": null,
   "metadata": {},
   "outputs": [],
   "source": [
    "queue = []\n",
    "\n",
    "def enqueue():\n",
    "    element = int(input(\"Enter The element\"))\n",
    "    queue.append(element)\n",
    "    print(element,\"is Addeed To Queue\")\n",
    "\n",
    "def dequeue():\n",
    "    if not queue: print(\"Queue Is Empty\")\n",
    "    else: \n",
    "        e = queue.pop(0)\n",
    "        print(\"Removed Element:\",e)\n",
    "\n",
    "def isempty():\n",
    "    if not queue: print(\"Queue is Empty\")\n",
    "    else: print(\"Queue Is not Empty\")\n",
    "\n",
    "def rear():\n",
    "    if not queue: print(-1)\n",
    "    else: print(\"Rear Element Is:\",queue[-1])\n",
    "\n",
    "def front():\n",
    "    if not queue: print(-1)\n",
    "    else: print(\"Front Element Is:\",queue[0])\n",
    "\n",
    "def display():\n",
    "    print(\"Queue Is:\",queue)\n",
    "\n",
    "while True:\n",
    "    print(\"Select The Operation: Enqueue, Dequeue, isempty, Rear, Front, display, Exit\")\n",
    "    choice = int(input())\n",
    "    if choice == 1: enqueue()\n",
    "    elif choice == 2: dequeue()\n",
    "    elif choice == 3: isempty()\n",
    "    elif choice == 4: rear()\n",
    "    elif choice == 5: front()\n",
    "    elif choice == 6: display()\n",
    "    elif choice == 7: \n",
    "        print(\"OOPS YOU QUIT THE LOOP\")\n",
    "        break\n",
    "    else: print(\"Enter Correct Operation!!!\")"
   ]
  }
 ],
 "metadata": {
  "interpreter": {
   "hash": "f23faf4bfe871c203c8bec80520af5927fc7cb1ae3bd834ddf554ee587ad1c05"
  },
  "kernelspec": {
   "display_name": "Python 3.8.7 64-bit",
   "language": "python",
   "name": "python3"
  },
  "language_info": {
   "codemirror_mode": {
    "name": "ipython",
    "version": 3
   },
   "file_extension": ".py",
   "mimetype": "text/x-python",
   "name": "python",
   "nbconvert_exporter": "python",
   "pygments_lexer": "ipython3",
   "version": "3.8.7"
  },
  "orig_nbformat": 4
 },
 "nbformat": 4,
 "nbformat_minor": 2
}

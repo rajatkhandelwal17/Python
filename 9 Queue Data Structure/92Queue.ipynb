{
 "cells": [
  {
   "cell_type": "code",
   "execution_count": null,
   "metadata": {},
   "outputs": [],
   "source": [
    "# Implementation of priority Queue with the help of lists:"
   ]
  },
  {
   "cell_type": "code",
   "execution_count": null,
   "metadata": {},
   "outputs": [],
   "source": [
    "pqueue = []               # Creating Priority Queue"
   ]
  },
  {
   "cell_type": "code",
   "execution_count": null,
   "metadata": {},
   "outputs": [],
   "source": [
    "# Here We are Taking lowest Value as high priority...if you want higher value as highest priority then sort the queue or list in decreasing order"
   ]
  },
  {
   "cell_type": "code",
   "execution_count": null,
   "metadata": {},
   "outputs": [],
   "source": [
    "pqueue.append(10)        # Adding Values to Priority Queue\n",
    "pqueue.append(40)\n",
    "pqueue.sort()            # Sorting queue In Increasing Order"
   ]
  },
  {
   "cell_type": "code",
   "execution_count": null,
   "metadata": {},
   "outputs": [],
   "source": [
    "pqueue.append(20)        # Appending Again a value to queue\n",
    "pqueue.sort()            # Sort Again In Increasing Order\n",
    "pqueue                   # Printing queue"
   ]
  },
  {
   "cell_type": "code",
   "execution_count": null,
   "metadata": {},
   "outputs": [],
   "source": [
    "pqueue.pop(0)\n",
    "pqueue.pop(0)            # Deleting Values from start of the queue always \n",
    "pqueue.pop(0)            # If we are taking priority as low number high priority\n",
    "pqueue                   # Sort then delete first low numbers so use pop(0) [Always]"
   ]
  }
 ],
 "metadata": {
  "interpreter": {
   "hash": "f23faf4bfe871c203c8bec80520af5927fc7cb1ae3bd834ddf554ee587ad1c05"
  },
  "kernelspec": {
   "display_name": "Python 3.8.7 64-bit",
   "language": "python",
   "name": "python3"
  },
  "language_info": {
   "codemirror_mode": {
    "name": "ipython",
    "version": 3
   },
   "file_extension": ".py",
   "mimetype": "text/x-python",
   "name": "python",
   "nbconvert_exporter": "python",
   "pygments_lexer": "ipython3",
   "version": "3.8.7"
  },
  "orig_nbformat": 4
 },
 "nbformat": 4,
 "nbformat_minor": 2
}

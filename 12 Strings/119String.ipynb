{
 "cells": [
  {
   "cell_type": "code",
   "execution_count": null,
   "metadata": {},
   "outputs": [],
   "source": [
    "# Python - Escape Characters\n",
    "# To insert characters that are illegal in a string, use an escape character.\n",
    "# An escape character is a backslash \\ followed by the character you want to insert."
   ]
  },
  {
   "cell_type": "code",
   "execution_count": null,
   "metadata": {},
   "outputs": [],
   "source": [
    "# An example of an illegal character is a double quote inside a string that is surrounded by double quotes:\n",
    "\n",
    "# Example\n",
    "# You will get an error if you use double quotes inside a string that is surrounded by double quotes:\n",
    "\n",
    "# txt = \"We are the so-called \"Vikings\" from the north.\"\n",
    "# To fix this problem, use the escape character \\\":"
   ]
  },
  {
   "cell_type": "code",
   "execution_count": null,
   "metadata": {},
   "outputs": [],
   "source": [
    "# Example\n",
    "# The escape character allows you to use double quotes when you normally would not be allowed:\n",
    "\n",
    "txt = \"We are the so-called \\\"Vikings\\\" from the north.\""
   ]
  }
 ],
 "metadata": {
  "language_info": {
   "name": "python"
  },
  "orig_nbformat": 4
 },
 "nbformat": 4,
 "nbformat_minor": 2
}

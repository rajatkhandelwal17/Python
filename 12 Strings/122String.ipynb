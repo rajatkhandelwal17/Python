{
 "cells": [
  {
   "cell_type": "code",
   "execution_count": null,
   "metadata": {},
   "outputs": [],
   "source": [
    "# Python - String Methods:\n",
    "# Python has a set of built-in methods that you can use on strings.\n",
    "# Note: All string methods returns new values. They do not change the original string."
   ]
  },
  {
   "cell_type": "code",
   "execution_count": null,
   "metadata": {},
   "outputs": [],
   "source": [
    "# Returns a left trim version of the string\n",
    "string = \"           rajat khandelwal      \"\n",
    "string.lstrip()"
   ]
  },
  {
   "cell_type": "code",
   "execution_count": null,
   "metadata": {},
   "outputs": [],
   "source": [
    "# Returns a tuple where the string is parted into three parts\n",
    "string = \"rajat khandelwal\"\n",
    "string.partition('kh')"
   ]
  },
  {
   "cell_type": "code",
   "execution_count": null,
   "metadata": {},
   "outputs": [],
   "source": [
    "# Returns a string where a specified value is replaced with a specified value\n",
    "string = \"rajat khandelwal\"\n",
    "string.replace('kh','khh')"
   ]
  },
  {
   "cell_type": "code",
   "execution_count": null,
   "metadata": {},
   "outputs": [],
   "source": [
    "# Searches the string for a specified value and returns the last position of where it was found\n",
    "string = \"rajat khandelwal\"\n",
    "string.rfind('a')"
   ]
  },
  {
   "cell_type": "code",
   "execution_count": null,
   "metadata": {},
   "outputs": [],
   "source": [
    "# Searches the string for a specified value and returns the last position of where it was found\n",
    "string = \"rajat khandelwal\"\n",
    "string.rindex('a')"
   ]
  },
  {
   "cell_type": "code",
   "execution_count": null,
   "metadata": {},
   "outputs": [],
   "source": [
    "# Returns a right justified version of the string\n",
    "string = \"rajat khandelwal\"\n",
    "string.rjust(55)"
   ]
  },
  {
   "cell_type": "code",
   "execution_count": null,
   "metadata": {},
   "outputs": [],
   "source": [
    "# Returns a tuple where the string is parted into three parts\n",
    "string = \"rajat khandelwal\"\n",
    "string.rpartition('r')"
   ]
  },
  {
   "cell_type": "code",
   "execution_count": null,
   "metadata": {},
   "outputs": [],
   "source": [
    "# Splits the string at the specified separator, and returns a list\n",
    "string = \"rajat khandelwal\"\n",
    "string.rsplit('a')"
   ]
  },
  {
   "cell_type": "code",
   "execution_count": null,
   "metadata": {},
   "outputs": [],
   "source": [
    "# Returns a right trim version of the string\n",
    "string = \"rajat khandelwal                     \"\n",
    "string.rstrip()"
   ]
  },
  {
   "cell_type": "code",
   "execution_count": null,
   "metadata": {},
   "outputs": [],
   "source": [
    "# Splits the string at the specified separator, and returns a list\n",
    "string = \"rajat khandelwal\"\n",
    "string.split('a')"
   ]
  },
  {
   "cell_type": "code",
   "execution_count": null,
   "metadata": {},
   "outputs": [],
   "source": [
    "# Splits the string at line breaks and returns a list\n",
    "string = \"\"\" Rajat \n",
    "Shuchi Khandelwal \n",
    "Jyoti Khandelwal\"\"\"\n",
    "string.splitlines()"
   ]
  },
  {
   "cell_type": "code",
   "execution_count": null,
   "metadata": {},
   "outputs": [],
   "source": [
    "# Returns true if the string starts with the specified value\n",
    "string = \"rajat khandelwal\"\n",
    "string.startswith('r')"
   ]
  },
  {
   "cell_type": "code",
   "execution_count": null,
   "metadata": {},
   "outputs": [],
   "source": [
    "# Returns a trimmed version of the string\n",
    "string = \"rajat khandelwal\"\n",
    "string.strip()"
   ]
  },
  {
   "cell_type": "code",
   "execution_count": null,
   "metadata": {},
   "outputs": [],
   "source": [
    "# Swaps cases, lower case becomes upper case and vice versa\n",
    "string = \"Rajat Khandelwal\"\n",
    "string.swapcase()"
   ]
  },
  {
   "cell_type": "code",
   "execution_count": null,
   "metadata": {},
   "outputs": [],
   "source": [
    "# Fills the string with a specified number of 0 values at the beginning\n",
    "string = \"Rajat Khandelwal\"\n",
    "string.zfill(100)"
   ]
  }
 ],
 "metadata": {
  "interpreter": {
   "hash": "f23faf4bfe871c203c8bec80520af5927fc7cb1ae3bd834ddf554ee587ad1c05"
  },
  "kernelspec": {
   "display_name": "Python 3.8.7 64-bit",
   "language": "python",
   "name": "python3"
  },
  "language_info": {
   "codemirror_mode": {
    "name": "ipython",
    "version": 3
   },
   "file_extension": ".py",
   "mimetype": "text/x-python",
   "name": "python",
   "nbconvert_exporter": "python",
   "pygments_lexer": "ipython3",
   "version": "3.8.7"
  },
  "orig_nbformat": 4
 },
 "nbformat": 4,
 "nbformat_minor": 2
}

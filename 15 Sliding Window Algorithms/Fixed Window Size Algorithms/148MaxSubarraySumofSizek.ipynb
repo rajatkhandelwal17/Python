{
 "cells": [
  {
   "cell_type": "code",
   "execution_count": null,
   "metadata": {},
   "outputs": [],
   "source": [
    "# O(n) solution in Python3 for finding\n",
    "# maximum sum of a subarray of size k\n",
    "\n",
    "# Returns maximum sum in\n",
    "# a subarray of size k.\n",
    "def maxSum(arr, n, k):\n",
    "\n",
    "\t# k must be smaller than n\n",
    "\tif (n < k):\n",
    "\t\n",
    "\t\tprint(\"Invalid\")\n",
    "\t\treturn -1\n",
    "\t\n",
    "\t# Compute sum of first\n",
    "\t# window of size k\n",
    "\tres = 0\n",
    "\tfor i in range(k):\n",
    "\t\tres += arr[i]\n",
    "\n",
    "\t# Compute sums of remaining windows by\n",
    "\t# removing first element of previous\n",
    "\t# window and adding last element of\n",
    "\t# current window.\n",
    "\tcurr_sum = res\n",
    "\tfor i in range(k, n):\n",
    "\t\n",
    "\t\tcurr_sum += arr[i] - arr[i-k]\n",
    "\t\tres = max(res, curr_sum)\n",
    "\n",
    "\treturn res\n",
    "\n",
    "# Driver code\n",
    "arr = [1, 4, 2, 10, 2, 3, 1, 0, 20]\n",
    "k = 4\n",
    "n = len(arr)\n",
    "print(maxSum(arr, n, k))\n",
    "\n",
    "# This code is contributed by Anant Agarwal."
   ]
  }
 ],
 "metadata": {
  "kernelspec": {
   "display_name": "Python 3.10.5 64-bit",
   "language": "python",
   "name": "python3"
  },
  "language_info": {
   "name": "python",
   "version": "3.10.5"
  },
  "orig_nbformat": 4,
  "vscode": {
   "interpreter": {
    "hash": "fb4569285eef3a3450cb62085a5b1e0da4bce0af555edc33dcf29baf3acc1368"
   }
  }
 },
 "nbformat": 4,
 "nbformat_minor": 2
}

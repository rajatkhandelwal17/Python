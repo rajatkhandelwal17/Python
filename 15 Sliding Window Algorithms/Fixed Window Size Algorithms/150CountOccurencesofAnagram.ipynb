{
 "cells": [
  {
   "cell_type": "code",
   "execution_count": null,
   "metadata": {},
   "outputs": [],
   "source": [
    "# A Simple Python program to count anagrams of a\n",
    "# pattern in a text with the help of sliding window problem\n",
    "string = \"forxxorfxdofr\"\n",
    "ptr = \"for\"\n",
    "n = len(string)\n",
    "k = len(ptr)\n",
    "temp = []\n",
    "d = {}\n",
    "for i in ptr:\n",
    "\tif i in d:\n",
    "\t\td[i] += 1\n",
    "\telse:\n",
    "\t\td[i] = 1\n",
    "i = 0\n",
    "j = 0\n",
    "count = len(d)\n",
    "\n",
    "ans = 0\n",
    "\n",
    "\n",
    "while j < n:\n",
    "\tif string[j] in d:\n",
    "\t\td[string[j]] -= 1\n",
    "\t\tif d[string[j]] == 0:\n",
    "\t\t\tcount -= 1\n",
    "\tif (j-i+1) < k:\n",
    "\t\tj += 1\n",
    "\telif (j-i+1) == k:\n",
    "\t\tif count == 0:\n",
    "\t\t\tans += 1\n",
    "\n",
    "\t\tif string[i] in d:\n",
    "\t\t\td[string[i]] += 1\n",
    "\t\t\tif d[string[i]] == 1:\n",
    "\t\t\t\tcount += 1\n",
    "\n",
    "\t\ti += 1\n",
    "\t\tj += 1\n",
    "print(ans)\n"
   ]
  }
 ],
 "metadata": {
  "kernelspec": {
   "display_name": "Python 3.10.5 64-bit",
   "language": "python",
   "name": "python3"
  },
  "language_info": {
   "name": "python",
   "version": "3.10.5"
  },
  "orig_nbformat": 4,
  "vscode": {
   "interpreter": {
    "hash": "fb4569285eef3a3450cb62085a5b1e0da4bce0af555edc33dcf29baf3acc1368"
   }
  }
 },
 "nbformat": 4,
 "nbformat_minor": 2
}

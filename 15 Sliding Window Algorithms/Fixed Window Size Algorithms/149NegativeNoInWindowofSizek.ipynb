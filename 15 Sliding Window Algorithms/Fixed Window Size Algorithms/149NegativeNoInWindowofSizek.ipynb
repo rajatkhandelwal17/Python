{
 "cells": [
  {
   "cell_type": "code",
   "execution_count": null,
   "metadata": {},
   "outputs": [],
   "source": [
    "# Python3 implementation to find the\n",
    "# first negative integer in every window\n",
    "# of size k import deque() from collections\n",
    "from collections import deque\n",
    "\n",
    "# function to find the first negative\n",
    "# integer in every window of size k\n",
    "def printFirstNegativeInteger(arr, n, k):\n",
    "\t\n",
    "\t# A Double Ended Queue, Di that will store\n",
    "\t# indexes of useful array elements for the\n",
    "\t# current window of size k. The useful\n",
    "\t# elements are all negative integers.\n",
    "\tDi = deque()\n",
    "\n",
    "\t# Process first k (or first window)\n",
    "\t# elements of array\n",
    "\tfor i in range(k):\n",
    "\t\t\n",
    "\t\t# Add current element at the rear of Di\n",
    "\t\t# if it is a negative integer\n",
    "\t\tif (arr[i] < 0):\n",
    "\t\t\tDi.append(i);\n",
    "\t\n",
    "\t# Process rest of the elements, i.e.,\n",
    "\t# from arr[k] to arr[n-1]\n",
    "\tfor i in range(k, n):\n",
    "\t\t\n",
    "\t\t# if the window does not have\n",
    "\t\t# a negative integer\n",
    "\t\tif (not Di):\n",
    "\t\t\tprint(0, end = ' ')\n",
    "\t\t\n",
    "\t\t# if Di is not empty then the element\n",
    "\t\t# at the front of the queue is the first\n",
    "\t\t# negative integer of the previous window\n",
    "\t\telse:\n",
    "\t\t\tprint(arr[Di[0]], end = ' ');\n",
    "\n",
    "\t\t# Remove the elements which are\n",
    "\t\t# out of this window\n",
    "\t\twhile Di and Di[0] <= (i - k):\n",
    "\t\t\tDi.popleft() # Remove from front of queue\n",
    "\n",
    "\t\t# Add current element at the rear of Di\n",
    "\t\t# if it is a negative integer\n",
    "\t\tif (arr[i] < 0):\n",
    "\t\t\tDi.append(i);\n",
    "\n",
    "\t# Print the first negative\n",
    "\t# integer of last window\n",
    "\tif not Di:\n",
    "\t\tprint(0)\n",
    "\telse:\n",
    "\t\tprint(arr[Di[0]], end = \" \")\n",
    "\t\n",
    "# Driver Code\n",
    "if __name__ ==\"__main__\":\n",
    "\tarr = [12, -1, -7, 8, -15, 30, 16, 28]\n",
    "\tn = len(arr)\n",
    "\tk = 3\n",
    "\tprintFirstNegativeInteger(arr, n, k);\n",
    "\n",
    "# This code is contributed by\n",
    "# chaudhary_19 (Mayank Chaudhary)\n"
   ]
  }
 ],
 "metadata": {
  "kernelspec": {
   "display_name": "Python 3.10.5 64-bit",
   "language": "python",
   "name": "python3"
  },
  "language_info": {
   "name": "python",
   "version": "3.10.5"
  },
  "orig_nbformat": 4,
  "vscode": {
   "interpreter": {
    "hash": "fb4569285eef3a3450cb62085a5b1e0da4bce0af555edc33dcf29baf3acc1368"
   }
  }
 },
 "nbformat": 4,
 "nbformat_minor": 2
}

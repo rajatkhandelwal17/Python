{
 "cells": [
  {
   "cell_type": "code",
   "execution_count": null,
   "metadata": {},
   "outputs": [],
   "source": [
    "# Here, we are planning to implement a simple sliding window methodology\n",
    "\n",
    "def longestUniqueSubsttr(string):\n",
    "\t\n",
    "\t# Creating a set to store the last positions of occurrence\n",
    "\tseen = {}\n",
    "\tmaximum_length = 0\n",
    "\n",
    "\t# starting the initial point of window to index 0\n",
    "\tstart = 0\n",
    "\t\n",
    "\tfor end in range(len(string)):\n",
    "\n",
    "\t\t# Checking if we have already seen the element or not\n",
    "\t\tif string[end] in seen:\n",
    "\n",
    "\t\t\t# If we have seen the number, move the start pointer\n",
    "\t\t\t# to position after the last occurrence\n",
    "\t\t\tstart = max(start, seen[string[end]] + 1)\n",
    "\n",
    "\t\t# Updating the last seen value of the character\n",
    "\t\tseen[string[end]] = end\n",
    "\t\tmaximum_length = max(maximum_length, end-start + 1)\n",
    "\treturn maximum_length\n",
    "\n",
    "# Driver Code\n",
    "string = \"geeksforgeeks\"\n",
    "print(\"The input string is\", string)\n",
    "length = longestUniqueSubsttr(string)\n",
    "print(\"The length of the longest non-repeating character substring is\", length)\n"
   ]
  }
 ],
 "metadata": {
  "kernelspec": {
   "display_name": "Python 3.10.5 64-bit",
   "language": "python",
   "name": "python3"
  },
  "language_info": {
   "name": "python",
   "version": "3.10.5"
  },
  "orig_nbformat": 4,
  "vscode": {
   "interpreter": {
    "hash": "fb4569285eef3a3450cb62085a5b1e0da4bce0af555edc33dcf29baf3acc1368"
   }
  }
 },
 "nbformat": 4,
 "nbformat_minor": 2
}

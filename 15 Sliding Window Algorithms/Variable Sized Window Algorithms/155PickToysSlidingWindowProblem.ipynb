{
 "cells": [
  {
   "cell_type": "code",
   "execution_count": null,
   "metadata": {},
   "outputs": [],
   "source": [
    "# Python 3 Program to maximize the\n",
    "# number of toys with K amount\n",
    "\n",
    "# This functions returns the required\n",
    "# number of toys\n",
    "def maximum_toys(cost, N, K):\n",
    "\tcount = 0\n",
    "\tsum = 0\n",
    "\n",
    "\t# sort the cost array\n",
    "\tcost.sort(reverse = False)\n",
    "\tfor i in range(0, N, 1):\n",
    "\t\t\n",
    "\t\t# Check if we can buy ith toy or not\n",
    "\t\tif (sum+cost[i] <= K):\n",
    "\t\t\tsum = sum + cost[i]\n",
    "\t\t\t# Increment the count variable\n",
    "\t\t\tcount += 1\n",
    "\t\n",
    "\treturn count\n",
    "\n",
    "# Driver Code\n",
    "if __name__ == '__main__':\n",
    "\tK = 50\n",
    "\tcost = [1, 12, 5, 111, 200,\n",
    "\t\t\t1000, 10, 9, 12, 15]\n",
    "\tN = len(cost)\n",
    "\n",
    "\tprint(maximum_toys(cost, N, K))\n",
    "\n",
    "# This code is contributed by\n",
    "# Sanjit_Prasad\n"
   ]
  }
 ],
 "metadata": {
  "language_info": {
   "name": "python"
  },
  "orig_nbformat": 4
 },
 "nbformat": 4,
 "nbformat_minor": 2
}

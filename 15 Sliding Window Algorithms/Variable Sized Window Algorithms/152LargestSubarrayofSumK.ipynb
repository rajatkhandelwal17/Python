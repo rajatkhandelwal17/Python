{
 "cells": [
  {
   "cell_type": "code",
   "execution_count": null,
   "metadata": {},
   "outputs": [],
   "source": [
    "# Python implementation to find the length\n",
    "# of longest subarray having sum k\n",
    "\n",
    "# function to find the length of longest\n",
    "# subarray having sum k\n",
    "import sys\n",
    "\n",
    "def lenOfLongSubarr(A, N, K):\n",
    "\n",
    "\ti, j, sum = 0, 0, 0\n",
    "\tmaxLen = -sys.maxsize -1\n",
    "\n",
    "\twhile (j < N):\n",
    "\t\tsum += A[j]\n",
    "\t\tif (sum < K):\n",
    "\t\t\tj += 1\n",
    "\t\telif (sum == K):\n",
    "\t\t\tmaxLen = max(maxLen, j - i + 1)\n",
    "\t\t\tj += 1\n",
    "\t\telif (sum > K):\n",
    "\t\t\twhile (sum > K):\n",
    "\t\t\t\tsum -= A[i]\n",
    "\t\t\t\ti += 1\n",
    "\t\t\tif (sum == K):\n",
    "\t\t\t\tmaxLen = max(maxLen, j - i + 1)\n",
    "\t\t\tj += 1\n",
    "\treturn maxLen\n",
    "\n",
    "# Driver Code\n",
    "arr = [ 10, 5, 2, 7, 1, 9 ]\n",
    "n = len(arr)\n",
    "k = 15\n",
    "print(\"Length = \"+ str(lenOfLongSubarr(arr, n, k)))\n",
    "\n",
    "# This code is contributed by shinjanpatra\n"
   ]
  }
 ],
 "metadata": {
  "kernelspec": {
   "display_name": "Python 3.10.5 64-bit",
   "language": "python",
   "name": "python3"
  },
  "language_info": {
   "name": "python",
   "version": "3.10.5"
  },
  "orig_nbformat": 4,
  "vscode": {
   "interpreter": {
    "hash": "fb4569285eef3a3450cb62085a5b1e0da4bce0af555edc33dcf29baf3acc1368"
   }
  }
 },
 "nbformat": 4,
 "nbformat_minor": 2
}

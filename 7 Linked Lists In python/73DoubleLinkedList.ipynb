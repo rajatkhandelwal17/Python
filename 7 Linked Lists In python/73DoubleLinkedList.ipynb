{
 "cells": [
  {
   "cell_type": "code",
   "execution_count": null,
   "metadata": {},
   "outputs": [],
   "source": [
    "class Node:\n",
    "    def __init__(self,data):\n",
    "        self.data = data\n",
    "        self.next = None\n",
    "        self.prev = None"
   ]
  },
  {
   "cell_type": "code",
   "execution_count": null,
   "metadata": {},
   "outputs": [],
   "source": [
    "class DoubleLinkedList:\n",
    "    def __init__(self):\n",
    "        self.head = None"
   ]
  },
  {
   "cell_type": "code",
   "execution_count": null,
   "metadata": {},
   "outputs": [],
   "source": [
    "def printList(self):\n",
    "    n = self.head\n",
    "    if self.head is None:\n",
    "        print(\"Empty Linked List\")\n",
    "        return\n",
    "    while n is not None:\n",
    "        print(n.data,end = '<==>')\n",
    "        n = n.next\n",
    "    print()"
   ]
  },
  {
   "cell_type": "code",
   "execution_count": null,
   "metadata": {},
   "outputs": [],
   "source": [
    "def printListReverse(self):\n",
    "    n = self.head\n",
    "    if self.head is None:\n",
    "        print(\"Empty Linked List\")\n",
    "        return\n",
    "    while n.next is not None:\n",
    "        n = n.next\n",
    "    while n.prev is not None:\n",
    "        print(n.data,end = '<==>')\n",
    "        n = n.prev\n",
    "    print()"
   ]
  },
  {
   "cell_type": "code",
   "execution_count": null,
   "metadata": {},
   "outputs": [],
   "source": [
    "class Node:\n",
    "    def __init__(self,data):\n",
    "        self.data = data\n",
    "        self.next = None\n",
    "        self.prev = None\n",
    "\n",
    "class DoubleLinkedList:\n",
    "    def __init__(self):\n",
    "        self.head = None\n",
    "\n",
    "    def printList(self):\n",
    "        n = self.head\n",
    "        if self.head is None:\n",
    "            print(\"Empty Linked List\")\n",
    "            return\n",
    "        while n is not None:\n",
    "            print(n.data,end = '<==>')\n",
    "            n = n.next\n",
    "        print()\n",
    "\n",
    "    def printListReverse(self):\n",
    "        n = self.head\n",
    "        if self.head is None:\n",
    "            print(\"Empty Linked List\")\n",
    "            return\n",
    "        while n.next is not None:\n",
    "            n = n.next\n",
    "        while n.prev is not None:\n",
    "            print(n.data,end = '<==>')\n",
    "            n = n.prev\n",
    "        print()\n",
    "    \n",
    "if __name__ == '__main__':\n",
    "    lst1 = DoubleLinkedList()\n",
    "    lst1.printList()\n",
    "    lst1.printListReverse()"
   ]
  }
 ],
 "metadata": {
  "interpreter": {
   "hash": "f23faf4bfe871c203c8bec80520af5927fc7cb1ae3bd834ddf554ee587ad1c05"
  },
  "kernelspec": {
   "display_name": "Python 3.8.7 64-bit",
   "language": "python",
   "name": "python3"
  },
  "language_info": {
   "codemirror_mode": {
    "name": "ipython",
    "version": 3
   },
   "file_extension": ".py",
   "mimetype": "text/x-python",
   "name": "python",
   "nbconvert_exporter": "python",
   "pygments_lexer": "ipython3",
   "version": "3.8.7"
  },
  "orig_nbformat": 4
 },
 "nbformat": 4,
 "nbformat_minor": 2
}

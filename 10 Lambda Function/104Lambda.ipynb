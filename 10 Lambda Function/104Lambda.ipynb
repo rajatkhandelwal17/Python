{
 "cells": [
  {
   "cell_type": "code",
   "execution_count": null,
   "metadata": {},
   "outputs": [],
   "source": [
    "# Using Filter With Dictonaries along with lambda"
   ]
  },
  {
   "cell_type": "code",
   "execution_count": null,
   "metadata": {},
   "outputs": [],
   "source": [
    "sales = [{'Country':'India','Sale':150.5},{'Country':'China','Sale':200.2},{'Country':'US','Sale':300.3},{'Country':'UK','Sale':210.4}]\n",
    "ans = filter(lambda x: x['Country'] == 'India',sales)\n",
    "print(list(ans))"
   ]
  },
  {
   "cell_type": "code",
   "execution_count": null,
   "metadata": {},
   "outputs": [],
   "source": [
    "sales = [{'Country':'India','Sale':150.5},{'Country':'China','Sale':200.2},{'Country':'US','Sale':300.3},{'Country':'UK','Sale':210.4}]\n",
    "ans = filter(lambda x: x['Sale'] > 200,sales)\n",
    "print(list(ans))"
   ]
  }
 ],
 "metadata": {
  "interpreter": {
   "hash": "f23faf4bfe871c203c8bec80520af5927fc7cb1ae3bd834ddf554ee587ad1c05"
  },
  "kernelspec": {
   "display_name": "Python 3.8.7 64-bit",
   "language": "python",
   "name": "python3"
  },
  "language_info": {
   "codemirror_mode": {
    "name": "ipython",
    "version": 3
   },
   "file_extension": ".py",
   "mimetype": "text/x-python",
   "name": "python",
   "nbconvert_exporter": "python",
   "pygments_lexer": "ipython3",
   "version": "3.8.7"
  },
  "orig_nbformat": 4
 },
 "nbformat": 4,
 "nbformat_minor": 2
}

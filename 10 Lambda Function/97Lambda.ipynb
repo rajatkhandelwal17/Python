{
 "cells": [
  {
   "cell_type": "code",
   "execution_count": null,
   "metadata": {},
   "outputs": [],
   "source": [
    "# Here we see how to sort using lambda:"
   ]
  },
  {
   "cell_type": "code",
   "execution_count": null,
   "metadata": {},
   "outputs": [],
   "source": [
    "attendance = [35,39,32,37,30,33]\n",
    "# sorted() function does not impact on orifinal list...\n",
    "print(sorted(attendance))\n",
    "print(sorted(attendance,reverse=True))\n",
    "print(attendance)"
   ]
  },
  {
   "cell_type": "code",
   "execution_count": null,
   "metadata": {},
   "outputs": [],
   "source": [
    "attendance = [35,39,32,37,30,33]\n",
    "# sort() function does impact on original list...\n",
    "attendance.sort()\n",
    "print(attendance)\n",
    "attendance.sort(reverse=True)\n",
    "print(attendance)"
   ]
  },
  {
   "cell_type": "code",
   "execution_count": null,
   "metadata": {},
   "outputs": [],
   "source": [
    "attendance = [35,39,32,37,30,33]\n",
    "attendance.sort(key=lambda x:x*1.5)\n",
    "# from list attendance it takes values one by one and sort it\n",
    "print(attendance)"
   ]
  },
  {
   "cell_type": "code",
   "execution_count": null,
   "metadata": {},
   "outputs": [],
   "source": [
    "attendance = [35,39,32,37,30,33]\n",
    "attendance.sort(key=lambda x:x*1.5,reverse=True)\n",
    "# from list attendance it takes values one by one and sort it in decreasing order\n",
    "print(attendance)"
   ]
  },
  {
   "cell_type": "code",
   "execution_count": null,
   "metadata": {},
   "outputs": [],
   "source": [
    "class_att = [('9A',35),('9B',37),('9C',30),('9D',32),('9E',34)]\n",
    "sorted(class_att,key = lambda x:x[0])\n",
    "# from list class_att it takes values one by one and sort it according to x[0]"
   ]
  },
  {
   "cell_type": "code",
   "execution_count": null,
   "metadata": {},
   "outputs": [],
   "source": [
    "class_att = [('9A',35),('9B',37),('9C',30),('9D',32),('9E',34)]\n",
    "sorted(class_att,key = lambda x:x[1])\n",
    "# from list class_att it takes values one by one and sort it according to x[1]"
   ]
  }
 ],
 "metadata": {
  "interpreter": {
   "hash": "f23faf4bfe871c203c8bec80520af5927fc7cb1ae3bd834ddf554ee587ad1c05"
  },
  "kernelspec": {
   "display_name": "Python 3.8.7 64-bit",
   "language": "python",
   "name": "python3"
  },
  "language_info": {
   "codemirror_mode": {
    "name": "ipython",
    "version": 3
   },
   "file_extension": ".py",
   "mimetype": "text/x-python",
   "name": "python",
   "nbconvert_exporter": "python",
   "pygments_lexer": "ipython3",
   "version": "3.8.7"
  },
  "orig_nbformat": 4
 },
 "nbformat": 4,
 "nbformat_minor": 2
}

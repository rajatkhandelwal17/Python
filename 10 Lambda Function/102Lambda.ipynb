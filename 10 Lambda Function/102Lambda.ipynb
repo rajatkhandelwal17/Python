{
 "cells": [
  {
   "cell_type": "code",
   "execution_count": null,
   "metadata": {},
   "outputs": [],
   "source": [
    "# lambda function on nested loops"
   ]
  },
  {
   "cell_type": "code",
   "execution_count": null,
   "metadata": {},
   "outputs": [],
   "source": [
    "scores = [[1,35,80],[2,32,75],[3,30,82],[4,33,75],[5,37,60]]\n",
    "# Here 1st index of sublist represents student_number\n",
    "# here 2nd index of sublist represents average attendance \n",
    "# here 3rd index of sublist represents marks\n",
    "\n",
    "# We have to check if average attendance of student >= 35 then increament marks by 2 if not then decrease marks by 2 "
   ]
  },
  {
   "cell_type": "code",
   "execution_count": null,
   "metadata": {},
   "outputs": [],
   "source": [
    "scores = [[1,35,80],[2,32,75],[3,30,82],[4,33,75],[5,37,60]]\n",
    "ans = map(lambda x: x[2]+2 if x[1] >= 35 else x[2]-2 ,scores)\n",
    "print(list(ans))"
   ]
  },
  {
   "cell_type": "code",
   "execution_count": null,
   "metadata": {},
   "outputs": [],
   "source": [
    "scores = [[1,35,80],[2,32,75],[3,30,82],[4,33,75],[5,37,60]]\n",
    "ans = map(lambda x: [x[0],x[1],x[2]+2] if x[1] >= 35 else [x[0],x[1],x[2]-2] ,scores)\n",
    "print(list(ans))"
   ]
  },
  {
   "cell_type": "code",
   "execution_count": null,
   "metadata": {},
   "outputs": [],
   "source": [
    "scores = [[1,35,80],[2,32,75],[3,30,82],[4,33,75],[5,37,60]]\n",
    "ans = filter(lambda x: x[1] >= 35 ,scores)\n",
    "print(list(ans))"
   ]
  }
 ],
 "metadata": {
  "interpreter": {
   "hash": "f23faf4bfe871c203c8bec80520af5927fc7cb1ae3bd834ddf554ee587ad1c05"
  },
  "kernelspec": {
   "display_name": "Python 3.8.7 64-bit",
   "language": "python",
   "name": "python3"
  },
  "language_info": {
   "codemirror_mode": {
    "name": "ipython",
    "version": 3
   },
   "file_extension": ".py",
   "mimetype": "text/x-python",
   "name": "python",
   "nbconvert_exporter": "python",
   "pygments_lexer": "ipython3",
   "version": "3.8.7"
  },
  "orig_nbformat": 4
 },
 "nbformat": 4,
 "nbformat_minor": 2
}

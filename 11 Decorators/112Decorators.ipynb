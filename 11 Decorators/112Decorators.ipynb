{
 "cells": [
  {
   "cell_type": "code",
   "execution_count": null,
   "metadata": {},
   "outputs": [],
   "source": [
    "# Multiple Decorators On A function:\n",
    "\n",
    "# Here we are applying Multiple Decorators On A Single Function, So remember always when we mention the decorators name on function the below name is first called then upper name called.."
   ]
  },
  {
   "cell_type": "code",
   "execution_count": null,
   "metadata": {},
   "outputs": [],
   "source": [
    "def upper_d(func):\n",
    "    def inner():\n",
    "        str1 = func()\n",
    "        return str1.upper()\n",
    "    return inner\n",
    "\n",
    "def split_d(func):\n",
    "    def wrapper():\n",
    "        str2 = func()\n",
    "        return str2.split()\n",
    "    return wrapper\n",
    "    \n",
    "@split_d\n",
    "@upper_d\n",
    "def ordinary():\n",
    "    return \"good morning\"\n",
    "print(ordinary())"
   ]
  },
  {
   "cell_type": "code",
   "execution_count": null,
   "metadata": {},
   "outputs": [],
   "source": [
    "# Decorators Taking Parameters:\n",
    "\n",
    "# When the decorators taking parameters then basically what to do..Create decorator that taking parameter user want to provide in which creat one function that takes input function to decorate as well as create another function that returning output...\n",
    "# But There is 2nd way also to give parameters in inner function"
   ]
  },
  {
   "cell_type": "code",
   "execution_count": null,
   "metadata": {},
   "outputs": [],
   "source": [
    "def outer(expr):    \n",
    "    def upper_d(func):\n",
    "        def inner():\n",
    "            return func() + expr\n",
    "        return inner\n",
    "    return upper_d \n",
    "@outer('Rajat')\n",
    "def ordinary():\n",
    "    return \"Good Morning Mr. \"\n",
    "print(ordinary())"
   ]
  },
  {
   "cell_type": "code",
   "execution_count": null,
   "metadata": {},
   "outputs": [],
   "source": [
    "def upper_d(func):\n",
    "    def inner(expr):\n",
    "        return func() + expr\n",
    "    return inner \n",
    "@outer('Rajat')\n",
    "def ordinary():\n",
    "    return \"Good Morning Mr. \"\n",
    "print(ordinary())"
   ]
  },
  {
   "cell_type": "code",
   "execution_count": null,
   "metadata": {},
   "outputs": [],
   "source": [
    "# General Decorator:\n",
    "\n",
    "# General decorator is the decorator that implies for many functions..It means one decorator for multiple functions and returning output..."
   ]
  },
  {
   "cell_type": "code",
   "execution_count": null,
   "metadata": {},
   "outputs": [],
   "source": [
    "def div_decorator(func):\n",
    "    def inner(*args):\n",
    "        list1 = []\n",
    "        list1 = args[1:]\n",
    "        for i in list1:\n",
    "            if i==0: return \"Give Proper Input!!\"\n",
    "        return func(*args)\n",
    "    return inner\n",
    "\n",
    "@div_decorator\n",
    "def div1(a,b):\n",
    "    return a/b\n",
    "\n",
    "@div_decorator\n",
    "def div2(a,b,c):\n",
    "    return a/b/c\n",
    "\n",
    "print(div1(1,2))\n",
    "print(div1(5,0))\n",
    "print(div2(100,50,25))\n",
    "print(div2(90,0,55))\n",
    "print(div2(1000,100,0))"
   ]
  }
 ],
 "metadata": {
  "interpreter": {
   "hash": "f23faf4bfe871c203c8bec80520af5927fc7cb1ae3bd834ddf554ee587ad1c05"
  },
  "kernelspec": {
   "display_name": "Python 3.8.7 64-bit",
   "language": "python",
   "name": "python3"
  },
  "language_info": {
   "codemirror_mode": {
    "name": "ipython",
    "version": 3
   },
   "file_extension": ".py",
   "mimetype": "text/x-python",
   "name": "python",
   "nbconvert_exporter": "python",
   "pygments_lexer": "ipython3",
   "version": "3.8.7"
  },
  "orig_nbformat": 4
 },
 "nbformat": 4,
 "nbformat_minor": 2
}

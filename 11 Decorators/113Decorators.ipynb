{
 "cells": [
  {
   "cell_type": "code",
   "execution_count": null,
   "metadata": {},
   "outputs": [],
   "source": [
    "# Class Decorators:\n",
    "\n",
    "# Till Now we have seen That decorators are applied on functions, we passes functions in them and they were returning correct or desired output..But now we are going to see a decorator which takes a method as parameter and return our correct or desired output..So this type of decorator is called as class decorator\n",
    "\n",
    "# We will also see how to apply decorator on a  particular method"
   ]
  },
  {
   "cell_type": "code",
   "execution_count": null,
   "metadata": {},
   "outputs": [],
   "source": [
    "def check_name(method):\n",
    "    def inner(self1):\n",
    "        if self1.name == \"Rajat\":\n",
    "            print(\"Hey My name Is Also Same As Rajat\")\n",
    "        else: method(self1)\n",
    "    return inner\n",
    "\n",
    "class Printing:\n",
    "    def __init__(self,name):\n",
    "        self.name = name\n",
    "    @check_name\n",
    "    def print_name(self):\n",
    "        print(\"Entered User Name is:\",self.name)\n",
    "\n",
    "p = Printing(\"Rajat\")\n",
    "p.print_name()\n",
    "p1 = Printing(\"Sagar\")\n",
    "p1.print_name()"
   ]
  },
  {
   "cell_type": "code",
   "execution_count": null,
   "metadata": {},
   "outputs": [],
   "source": [
    "class Decorator:\n",
    "    def __init__(self,func):\n",
    "        self.func = func\n",
    "    def __call__(self):\n",
    "        str1 = self.func()\n",
    "        return str1.upper()\n",
    "\n",
    "@Decorator\n",
    "def greet():\n",
    "    return \"Good Morning\"\n",
    "print(greet())"
   ]
  },
  {
   "cell_type": "code",
   "execution_count": null,
   "metadata": {},
   "outputs": [],
   "source": [
    "class Check_div:\n",
    "    def __init__(self,func):\n",
    "        self.func = func\n",
    "    def __call__(self,*args,**kwargs):\n",
    "        if args[1] == 0:\n",
    "            return (\"You Can't divide, Change the output\")\n",
    "        else: return self.func(*args,**kwargs)\n",
    "\n",
    "@Check_div\n",
    "def div(a,b):\n",
    "    return a/b\n",
    "print(div(3,0))\n",
    "print(div(3,3))"
   ]
  },
  {
   "cell_type": "code",
   "execution_count": null,
   "metadata": {},
   "outputs": [],
   "source": [
    "class Check_div:\n",
    "    def __init__(self,func):\n",
    "        self.func = func\n",
    "    def __call__(self,*args,**kwargs):\n",
    "        list1 = []\n",
    "        list1 = args[1:]\n",
    "        for i in list1:\n",
    "            if i == 0:\n",
    "                return (\"You Can't divide, Change the output\")\n",
    "        else: return self.func(*args,**kwargs)\n",
    "\n",
    "@Check_div\n",
    "def div(a,b):\n",
    "    return a/b\n",
    "\n",
    "@Check_div\n",
    "def div1(a,b,c):\n",
    "    return a/b/c\n",
    "\n",
    "print(div(3,0))\n",
    "print(div(10,5))\n",
    "print(div1(3,0,5))\n",
    "print(div1(10,20,30))"
   ]
  }
 ],
 "metadata": {
  "interpreter": {
   "hash": "f23faf4bfe871c203c8bec80520af5927fc7cb1ae3bd834ddf554ee587ad1c05"
  },
  "kernelspec": {
   "display_name": "Python 3.8.7 64-bit",
   "language": "python",
   "name": "python3"
  },
  "language_info": {
   "codemirror_mode": {
    "name": "ipython",
    "version": 3
   },
   "file_extension": ".py",
   "mimetype": "text/x-python",
   "name": "python",
   "nbconvert_exporter": "python",
   "pygments_lexer": "ipython3",
   "version": "3.8.7"
  },
  "orig_nbformat": 4
 },
 "nbformat": 4,
 "nbformat_minor": 2
}

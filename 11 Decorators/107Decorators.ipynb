{
 "cells": [
  {
   "cell_type": "code",
   "execution_count": null,
   "metadata": {},
   "outputs": [],
   "source": [
    "# Before Understanding the decorator..we have to understand some of the topics that are given below: \n",
    "# 1. Namespace and variable scope\n",
    "# 2. LEGB Rule(Left Enclosed Global Built-In)\n",
    "# 3. Closures\n",
    "# 4. Decorators  "
   ]
  },
  {
   "cell_type": "code",
   "execution_count": null,
   "metadata": {},
   "outputs": [],
   "source": [
    "# Variable Scope:\n",
    "\n",
    "# Basically There can be four scopes of a variable like:\n",
    "# 1. Local scope (variables are called as local variables)\n",
    "# 2. Global Scope (Variables are called as global variables)\n",
    "# 3. Enclosed Scope (Variables are called as Enclosed Variables)\n",
    "# 4. Built-In Scope (Variables are called as Built-In Variables)"
   ]
  },
  {
   "cell_type": "code",
   "execution_count": null,
   "metadata": {},
   "outputs": [],
   "source": [
    "def func():\n",
    "    print(dir())           # Here We can see directory or namespace of this function empty\n",
    "    x = \"Local Variable\"   # This is a local variable created\n",
    "    print(dir())        # But here one variable x is there because that was in local scope\n",
    "    print(x)\n",
    "func() # Here We are calling A function So that variable created and print also...\n",
    "print(x) # But if we want to directly access that variable than this will not happen.."
   ]
  },
  {
   "cell_type": "code",
   "execution_count": null,
   "metadata": {},
   "outputs": [],
   "source": [
    "abc = \"Global Variable\"      # This is a global variable created\n",
    "print(dir())               # This will print dir and also involve the global variable\n",
    "def func(): \n",
    "    x = \"Local Variable\"\n",
    "    print(x,\"&&\",abc)       # Here We can access it and this will print the value of x and y\n",
    "print(abc)                 # But remember we can't modify global variable in local namespace\n",
    "func()                     # Until you don't have permission"
   ]
  },
  {
   "cell_type": "code",
   "execution_count": null,
   "metadata": {},
   "outputs": [],
   "source": [
    "x = 10          # Global Variable...\n",
    "def func():\n",
    "    y = 11      # Local Variable\n",
    "    x+=1        # Updating Global Variable With The Value 1 without permission...\n",
    "    print(x,y)  # This will show error because you modified that can not happen...\n",
    "func()"
   ]
  },
  {
   "cell_type": "code",
   "execution_count": null,
   "metadata": {},
   "outputs": [],
   "source": [
    "x = 10          # Global Variable\n",
    "def func():\n",
    "    global x    # Permission Allowed To Local Namespace To modify the global variable(x)\n",
    "    y = 11      # Local Variable\n",
    "    x+=1        # Modifying the value of x and increamenting it by 1\n",
    "    print(x,y)  # Printing the value of x and y\n",
    "func()"
   ]
  },
  {
   "cell_type": "code",
   "execution_count": null,
   "metadata": {},
   "outputs": [],
   "source": [
    "x = 10                  # Global Variable Created (Global Namespace or global Scope)...\n",
    "def func():             # This is enclosed function having enclosed scope...\n",
    "    y = 100             # Non Local Variable(Enclosed Variable)(Non Local Scope / namespace)\n",
    "    def func1():        # This is a local function having local scope...\n",
    "        z = 1000        # Local variable Created (Local Namespace or local Scope)...\n",
    "        print(x,y,z)    # As we know we can print but not modify without permission...\n",
    "    func1()\n",
    "func()\n",
    "print(\"Remember The variables In Non-Local Scope We can never access access them globally\")"
   ]
  },
  {
   "cell_type": "code",
   "execution_count": null,
   "metadata": {},
   "outputs": [],
   "source": [
    "x = 10                  # Global Variable Created (Global Namespace or global Scope)...\n",
    "def func():             # This is enclosed function having enclosed scope...\n",
    "    y = 100             # Non Local Variable(Enclosed Variable)(Non Local Scope / namespace)\n",
    "    def func1():        # This is a local function having local scope...\n",
    "        z = 1000        # Local variable Created (Local Namespace or local Scope)...\n",
    "        x+=1\n",
    "        y+=1            # You Can't Do that because you don't have permission...\n",
    "        print(x,y,z)    # As we know we can print but not modify without permission...\n",
    "    func1()\n",
    "func()\n",
    "print(\"Remember The variables In Non-Local Scope We can never access access them globally\")"
   ]
  },
  {
   "cell_type": "code",
   "execution_count": null,
   "metadata": {},
   "outputs": [],
   "source": [
    "x = 10                  # Global Variable Created (Global Namespace or global Scope)...\n",
    "def func():             # This is enclosed function having enclosed scope...\n",
    "    y = 100             # Non Local Variable(Enclosed Variable)(Non Local Scope / namespace)\n",
    "    def func1():        # This is a local function having local scope...\n",
    "        global x\n",
    "        nonlocal y      # Permission granted To local scope to modify these\n",
    "        x+=1\n",
    "        y+=1\n",
    "        z = 1000        # Local variable Created (Local Namespace or local Scope)...\n",
    "        print(x,y,z)    # As we know we can print but not modify without permission...\n",
    "    func1()\n",
    "func()\n",
    "print(dir())\n",
    "print(\"Remember The variables In Non-Local Scope We can never access access them globally\")"
   ]
  }
 ],
 "metadata": {
  "interpreter": {
   "hash": "f23faf4bfe871c203c8bec80520af5927fc7cb1ae3bd834ddf554ee587ad1c05"
  },
  "kernelspec": {
   "display_name": "Python 3.8.7 64-bit",
   "language": "python",
   "name": "python3"
  },
  "language_info": {
   "codemirror_mode": {
    "name": "ipython",
    "version": 3
   },
   "file_extension": ".py",
   "mimetype": "text/x-python",
   "name": "python",
   "nbconvert_exporter": "python",
   "pygments_lexer": "ipython3",
   "version": "3.8.7"
  },
  "orig_nbformat": 4
 },
 "nbformat": 4,
 "nbformat_minor": 2
}

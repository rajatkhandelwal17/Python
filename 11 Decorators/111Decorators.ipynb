{
 "cells": [
  {
   "cell_type": "code",
   "execution_count": null,
   "metadata": {},
   "outputs": [],
   "source": [
    "# Here a function named print_str() which returns string in lowercase...Now I want string in uppercase but i don't want to do any change in my function\n",
    "# So I need decorator which reflect that change that takes function as parameter \n",
    "\n",
    "def str_upper(func):\n",
    "    def inner():\n",
    "        str1 = func()\n",
    "        return str1.upper()\n",
    "    return inner\n",
    "def print_str():\n",
    "    return \"good morning\"\n",
    "print(print_str())\n",
    "# Here we are calling function that returns string in small case..."
   ]
  },
  {
   "cell_type": "code",
   "execution_count": null,
   "metadata": {},
   "outputs": [],
   "source": [
    "def str_upper(func):\n",
    "    def inner():\n",
    "        str1 = func()\n",
    "        return str1.upper()\n",
    "    return inner\n",
    "def print_str():\n",
    "    return \"good morning\"\n",
    "# Here we are calling the decorator by passing the function name as parameter that return inner not calling inner so that will store in d but we not get desired output\n",
    "d = str_upper(print_str)\n",
    "print(d)"
   ]
  },
  {
   "cell_type": "code",
   "execution_count": null,
   "metadata": {},
   "outputs": [],
   "source": [
    "def str_upper(func):\n",
    "    def inner():\n",
    "        str1 = func()\n",
    "        return str1.upper()\n",
    "    return inner\n",
    "def print_str():\n",
    "    return \"good morning\"\n",
    "print(print_str())\n",
    "# Here we are calling the decorator by passing the function name as parameter that return inner not calling inner so that will store in d,We are calling d() so it will return output\n",
    "d = str_upper(print_str)\n",
    "print(d())"
   ]
  },
  {
   "cell_type": "code",
   "execution_count": null,
   "metadata": {},
   "outputs": [],
   "source": [
    "# Instead of above process let do some changes here:\n",
    "def str_upper(func):\n",
    "    def inner():\n",
    "        str1 = func()\n",
    "        return str1.upper()\n",
    "    return inner()\n",
    "def print_str():\n",
    "    return \"good morning\"\n",
    "print(print_str())\n",
    "# Here decorator does call its nested function instead of returning it and gives output\n",
    "d = str_upper(print_str)\n",
    "print(d)"
   ]
  },
  {
   "cell_type": "code",
   "execution_count": null,
   "metadata": {},
   "outputs": [],
   "source": [
    "# Here also do some changes...\n",
    "def str_upper(func):\n",
    "    def inner():\n",
    "        str1 = func()\n",
    "        return str1.upper()\n",
    "    return inner\n",
    "@str_upper                 # Here we mentioned decorator name so when we call function that decorator will automatically called takes that function as parameter and returns output\n",
    "def print_str():\n",
    "    return \"good morning\"\n",
    "print(print_str())"
   ]
  },
  {
   "cell_type": "code",
   "execution_count": null,
   "metadata": {},
   "outputs": [],
   "source": [
    "def div_decorator(func):\n",
    "    def inner(x,y):\n",
    "        if y== 0: return \"Give Proper Input\"\n",
    "        return func(x,y)\n",
    "    return inner\n",
    "@div_decorator\n",
    "def div(a,b):\n",
    "    return a/b\n",
    "print(div(12,3))\n",
    "print(div(12,0))"
   ]
  }
 ],
 "metadata": {
  "interpreter": {
   "hash": "f23faf4bfe871c203c8bec80520af5927fc7cb1ae3bd834ddf554ee587ad1c05"
  },
  "kernelspec": {
   "display_name": "Python 3.8.7 64-bit",
   "language": "python",
   "name": "python3"
  },
  "language_info": {
   "codemirror_mode": {
    "name": "ipython",
    "version": 3
   },
   "file_extension": ".py",
   "mimetype": "text/x-python",
   "name": "python",
   "nbconvert_exporter": "python",
   "pygments_lexer": "ipython3",
   "version": "3.8.7"
  },
  "orig_nbformat": 4
 },
 "nbformat": 4,
 "nbformat_minor": 2
}

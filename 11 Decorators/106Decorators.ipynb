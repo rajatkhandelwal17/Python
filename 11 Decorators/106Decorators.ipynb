{
 "cells": [
  {
   "cell_type": "code",
   "execution_count": null,
   "metadata": {},
   "outputs": [],
   "source": [
    "# Before Understanding the decorator..we have to understand some of the topics that are given below: \n",
    "# 1. Namespace and variable scope\n",
    "# 2. LEGB Rule(Left Enclosed Global Built-In)\n",
    "# 3. Closures\n",
    "# 4. Decorators  "
   ]
  },
  {
   "cell_type": "code",
   "execution_count": null,
   "metadata": {},
   "outputs": [],
   "source": [
    "# NAMESPACE: \n",
    "\n",
    "# Suppose You are making a program or a python file in which you declared a variable to some value like x = 10 then if you again create variable with same name like x = 100 then it may loss previous data..So Namespace is a kind of system which stores the unique names.\n",
    "\n",
    "# But If you are working on a project than ypu have lot of modules but this is not their case in main program in which we are importing a module we can use same names...just because if we want to access the attributes like variables or functions of a module then we call them by mention their module name."
   ]
  },
  {
   "cell_type": "code",
   "execution_count": null,
   "metadata": {},
   "outputs": [],
   "source": [
    "# Basically There are total three types of namespaces:\n",
    "# 1. Built-In Namespace\n",
    "# 2. Global Namespace\n",
    "# 3. Local Namespace"
   ]
  }
 ],
 "metadata": {
  "interpreter": {
   "hash": "f23faf4bfe871c203c8bec80520af5927fc7cb1ae3bd834ddf554ee587ad1c05"
  },
  "kernelspec": {
   "display_name": "Python 3.8.7 64-bit",
   "language": "python",
   "name": "python3"
  },
  "language_info": {
   "codemirror_mode": {
    "name": "ipython",
    "version": 3
   },
   "file_extension": ".py",
   "mimetype": "text/x-python",
   "name": "python",
   "nbconvert_exporter": "python",
   "pygments_lexer": "ipython3",
   "version": "3.8.7"
  },
  "orig_nbformat": 4
 },
 "nbformat": 4,
 "nbformat_minor": 2
}

{
 "cells": [
  {
   "cell_type": "code",
   "execution_count": null,
   "metadata": {},
   "outputs": [],
   "source": [
    "# Before Understanding the decorator..we have to understand some of the topics that are given below: \n",
    "# 1. Namespace and variable scope\n",
    "# 2. LEGB Rule(Left Enclosed Global Built-In)\n",
    "# 3. Closures\n",
    "# 4. Decorators  "
   ]
  },
  {
   "cell_type": "code",
   "execution_count": null,
   "metadata": {},
   "outputs": [],
   "source": [
    "# Decorators:\n",
    "\n",
    "# Decorator is Something that accepts a function and Add Some Functionalities then return A function or We can Also say that Any callable python object that is used to modify a function or a class...\n",
    "# There are two types of decorators In Python: functional decorators and Class Decorators"
   ]
  },
  {
   "cell_type": "code",
   "execution_count": null,
   "metadata": {},
   "outputs": [],
   "source": [
    "# There are total three things In decorators: \n",
    "# 1. Nested Functions (DONE)\n",
    "# 2. Function return function (DONE)\n",
    "# 3. Function Return Reference (DONE)\n",
    "# 4. Function As Parameter"
   ]
  },
  {
   "cell_type": "code",
   "execution_count": null,
   "metadata": {},
   "outputs": [],
   "source": [
    "def function():\n",
    "    print(\"Hi I Am Function1\")\n",
    "def function2(func):\n",
    "    print(\"Hi I Am Function2 Now I Will Call Function1\")\n",
    "    func()\n",
    "function2(function)"
   ]
  }
 ],
 "metadata": {
  "interpreter": {
   "hash": "f23faf4bfe871c203c8bec80520af5927fc7cb1ae3bd834ddf554ee587ad1c05"
  },
  "kernelspec": {
   "display_name": "Python 3.8.7 64-bit",
   "language": "python",
   "name": "python3"
  },
  "language_info": {
   "codemirror_mode": {
    "name": "ipython",
    "version": 3
   },
   "file_extension": ".py",
   "mimetype": "text/x-python",
   "name": "python",
   "nbconvert_exporter": "python",
   "pygments_lexer": "ipython3",
   "version": "3.8.7"
  },
  "orig_nbformat": 4
 },
 "nbformat": 4,
 "nbformat_minor": 2
}

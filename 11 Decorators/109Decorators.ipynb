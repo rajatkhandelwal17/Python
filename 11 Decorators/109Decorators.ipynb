{
 "cells": [
  {
   "cell_type": "code",
   "execution_count": null,
   "metadata": {},
   "outputs": [],
   "source": [
    "# Before Understanding the decorator..we have to understand some of the topics that are given below: \n",
    "# 1. Namespace and variable scope\n",
    "# 2. LEGB Rule(Left Enclosed Global Built-In)\n",
    "# 3. Closures\n",
    "# 4. Decorators  "
   ]
  },
  {
   "cell_type": "code",
   "execution_count": null,
   "metadata": {},
   "outputs": [],
   "source": [
    "# To understand closure We have to understand two things:\n",
    "# 1. Nested Funcion (DONE)\n",
    "# 2. Function Are First Class Object\n",
    "\n",
    "# Basically In My Language..What Is closure??...When We define nested function that is function inside function so we can't call that nested function directly from global scope because the nested function scope is only in the enclosed scope...But With The help of closure we can do this thing...We can call nested function globally."
   ]
  },
  {
   "cell_type": "code",
   "execution_count": null,
   "metadata": {},
   "outputs": [],
   "source": [
    "def outer():          # Defination of global function starts...\n",
    "    x=3\n",
    "    def inner():      # Defination of nested function starts...\n",
    "        print(x)\n",
    "    inner()           # Calling this nested function from inside...\n",
    "\n",
    "outer()  # This is normal calling of function that is in global scope now..."
   ]
  },
  {
   "cell_type": "code",
   "execution_count": null,
   "metadata": {},
   "outputs": [],
   "source": [
    "def outer():          # Defination of global function starts...\n",
    "    x=3\n",
    "    def inner():      # Defination of nested function starts...\n",
    "        print(x)\n",
    "    return inner()    # Calling this nested function from inside In other way...\n",
    "\n",
    "outer()               # We can't do this Can't call nested function from outside..."
   ]
  },
  {
   "cell_type": "code",
   "execution_count": null,
   "metadata": {},
   "outputs": [],
   "source": [
    "def outer():          # Defination of global function starts...\n",
    "    x=3\n",
    "    def inner():      # Defination of nested function starts...\n",
    "        print(x)\n",
    "    inner()           # Calling this nested function from inside...\n",
    "\n",
    "inner()               # But We can't do this Can't call nested function from outside..."
   ]
  },
  {
   "cell_type": "code",
   "execution_count": null,
   "metadata": {},
   "outputs": [],
   "source": [
    "def outer():          # Defination of global function starts...\n",
    "    x=3\n",
    "    def inner():      # Defination of nested function starts...\n",
    "        print(x)\n",
    "    return inner      # Calling this nested function from inside In other way...\n",
    "\n",
    "a = outer()           # It Will Return Reference of inner function and storing in a\n",
    "a()                   # And calling that reference means calling that function..."
   ]
  },
  {
   "cell_type": "code",
   "execution_count": null,
   "metadata": {},
   "outputs": [],
   "source": [
    "# So Now We are calling nested function directly from global scope...With the help of closure...This is called closure..."
   ]
  },
  {
   "cell_type": "code",
   "execution_count": null,
   "metadata": {},
   "outputs": [],
   "source": [
    "# Criteria Needed to create a closure in python:\n",
    "\n",
    "# 1. Nested Function\n",
    "# 2. Nested Function Must refer Values In Enclosing Scope\n",
    "# 3. Enclosing Function Must Return nested Function"
   ]
  },
  {
   "cell_type": "code",
   "execution_count": null,
   "metadata": {},
   "outputs": [],
   "source": [
    "# Advantages of Closures:\n",
    "\n",
    "# 1. Can avoid global values\n",
    "# 2. Data Hiding\n",
    "# 3. It allows Us to implement Decorators"
   ]
  }
 ],
 "metadata": {
  "interpreter": {
   "hash": "f23faf4bfe871c203c8bec80520af5927fc7cb1ae3bd834ddf554ee587ad1c05"
  },
  "kernelspec": {
   "display_name": "Python 3.8.7 64-bit",
   "language": "python",
   "name": "python3"
  },
  "language_info": {
   "codemirror_mode": {
    "name": "ipython",
    "version": 3
   },
   "file_extension": ".py",
   "mimetype": "text/x-python",
   "name": "python",
   "nbconvert_exporter": "python",
   "pygments_lexer": "ipython3",
   "version": "3.8.7"
  },
  "orig_nbformat": 4
 },
 "nbformat": 4,
 "nbformat_minor": 2
}

{
 "cells": [
  {
   "cell_type": "code",
   "execution_count": null,
   "metadata": {},
   "outputs": [],
   "source": [
    "# Before Understanding the decorator..we have to understand some of the topics that are given below: \n",
    "# 1. Namespace and variable scope\n",
    "# 2. LEGB Rule(Left Enclosed Global Built-In)\n",
    "# 3. Closures\n",
    "# 4. Decorators  "
   ]
  },
  {
   "cell_type": "code",
   "execution_count": null,
   "metadata": {},
   "outputs": [],
   "source": [
    "# LEGB Rule(Left Enclosed Global Built-In):\n",
    "\n",
    "# What This Rule Stands...It means suppose you have a global variable then you have a non local variable then you have a local variable..and you are accessing the values from local scope...\n",
    "\n",
    "# So the procedure of getting accessibility o all these variables in this manner or way: first he will try to find that variable in his local scope then if not found the control will transferred to Enclosed scope then if not found the control will transferred to global scope  and last if that is found in global scope also then at last it will goto built-in scope to find out that varoiable...\n",
    "\n",
    "# If the control unable to get that variable then it will throw error..."
   ]
  },
  {
   "cell_type": "code",
   "execution_count": null,
   "metadata": {},
   "outputs": [],
   "source": [
    "# LOCAL ==> ENCLOSED ==> GLOBAL ==> BUILT-INS"
   ]
  }
 ],
 "metadata": {
  "language_info": {
   "name": "python"
  },
  "orig_nbformat": 4
 },
 "nbformat": 4,
 "nbformat_minor": 2
}

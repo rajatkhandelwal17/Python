{
 "cells": [
  {
   "cell_type": "code",
   "execution_count": null,
   "metadata": {},
   "outputs": [],
   "source": [
    "# Implementation of stack in python Using Modules..\n",
    "# Here Module Name is \"Queue\" and Class name is \"LifoQueue\"..\n",
    "# First Import Module Named \"Queue\"...\n",
    "# In modules there are lot of in-built functions which we use to do operatons with stack..."
   ]
  },
  {
   "cell_type": "code",
   "execution_count": null,
   "metadata": {},
   "outputs": [],
   "source": [
    "import queue                           # First We Import Module Named \"queue\"\n",
    "stack = queue.LifoQueue()              # Then We create stack with class \"Lifoqueue\"\n",
    "print(stack)                           # Printing Stack"
   ]
  },
  {
   "cell_type": "code",
   "execution_count": null,
   "metadata": {},
   "outputs": [],
   "source": [
    "print(not stack)                       # Checking Stack is empty or not"
   ]
  },
  {
   "cell_type": "code",
   "execution_count": null,
   "metadata": {},
   "outputs": [],
   "source": [
    "stack.put(10)                          # Push Operation or Append Values In stack\n",
    "stack.put(20)\n",
    "stack.put(30)"
   ]
  },
  {
   "cell_type": "code",
   "execution_count": null,
   "metadata": {},
   "outputs": [],
   "source": [
    "stack.get()                            # Pop operation or get values from stack\n",
    "stack.get()\n",
    "stack.get()"
   ]
  },
  {
   "cell_type": "code",
   "execution_count": null,
   "metadata": {},
   "outputs": [],
   "source": [
    "# If stack is empty then if we try to get the item in stack then it will block the execution of furthur until it is waiting for value in stack and this funcion is going to get it...\n",
    "# To solve this we use timeout parameter"
   ]
  }
 ],
 "metadata": {
  "interpreter": {
   "hash": "f23faf4bfe871c203c8bec80520af5927fc7cb1ae3bd834ddf554ee587ad1c05"
  },
  "kernelspec": {
   "display_name": "Python 3.8.7 64-bit",
   "language": "python",
   "name": "python3"
  },
  "language_info": {
   "codemirror_mode": {
    "name": "ipython",
    "version": 3
   },
   "file_extension": ".py",
   "mimetype": "text/x-python",
   "name": "python",
   "nbconvert_exporter": "python",
   "pygments_lexer": "ipython3",
   "version": "3.8.7"
  },
  "orig_nbformat": 4
 },
 "nbformat": 4,
 "nbformat_minor": 2
}

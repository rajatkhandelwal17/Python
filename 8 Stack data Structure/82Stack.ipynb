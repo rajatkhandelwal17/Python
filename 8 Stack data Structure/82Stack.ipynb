{
 "cells": [
  {
   "cell_type": "code",
   "execution_count": null,
   "metadata": {},
   "outputs": [],
   "source": [
    "# Implementation of stack in python Using Lists..."
   ]
  },
  {
   "cell_type": "code",
   "execution_count": null,
   "metadata": {},
   "outputs": [],
   "source": [
    "stack = []\n",
    "\n",
    "def push():\n",
    "    element = input(\"Enter The Element\")\n",
    "    stack.append(element)\n",
    "    print(stack)\n",
    "\n",
    "def pop_ele():\n",
    "    if not stack: print(\"Stack Is Empty\")\n",
    "    else:\n",
    "        e = stack.pop()\n",
    "        print(\"Removed Element:\",e)\n",
    "        print(stack)\n",
    "\n",
    "def peek():\n",
    "    if not stack: print(\"Stack Is Empty\")\n",
    "    else: print(stack[-1])\n",
    "\n",
    "def isempty():\n",
    "    if not stack: print(\"Stack Is empty\")\n",
    "    else: print(\"Stack Is Not Empty\")\n",
    "\n",
    "while True:\n",
    "    print(\"Select The Operation: 1.Push 2.Pop 3.Peek 4.Empty 5. Quit\")\n",
    "    choice = int(input())\n",
    "    if choice == 1: push()\n",
    "    elif choice == 2: pop_ele()\n",
    "    elif choice == 3: peek()\n",
    "    elif choice == 4: isempty()\n",
    "    elif choice == 5:\n",
    "        print(\"Oops You Quit The Loop\") \n",
    "        break\n",
    "    else:\n",
    "        print(\"Enter The Correct Operation\")"
   ]
  }
 ],
 "metadata": {
  "language_info": {
   "name": "python"
  },
  "orig_nbformat": 4
 },
 "nbformat": 4,
 "nbformat_minor": 2
}

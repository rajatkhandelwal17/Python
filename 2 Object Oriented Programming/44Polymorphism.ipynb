{
 "cells": [
  {
   "cell_type": "code",
   "execution_count": null,
   "metadata": {},
   "outputs": [],
   "source": [
    "# What is Polymorphism?\n",
    "# The literal meaning of polymorphism is the condition of occurrence in different forms.\n",
    "\n",
    "# Polymorphism is a very important concept in programming. It refers to the use of a single type entity (method, operator or object) to represent different types in different scenarios."
   ]
  },
  {
   "cell_type": "code",
   "execution_count": null,
   "metadata": {},
   "outputs": [],
   "source": [
    "# Example 1: Polymorphism in addition operator\n",
    "\n",
    "# We know that the + operator is used extensively in Python programs. But, it does not have a single usage.\n",
    "# For integer data types, + operator is used to perform arithmetic addition operation.\n",
    "\n",
    "# num1 = 1\n",
    "# num2 = 2\n",
    "# print(num1+num2)\n",
    "# Hence, the above program outputs 3.\n",
    "\n",
    "# Similarly, for string data types, + operator is used to perform concatenation.\n",
    "# str1 = \"Python\"\n",
    "# str2 = \"Programming\"\n",
    "# print(str1+\" \"+str2)\n",
    "# As a result, the above program outputs Python Programming."
   ]
  },
  {
   "cell_type": "code",
   "execution_count": null,
   "metadata": {},
   "outputs": [],
   "source": [
    "# Function Polymorphism in Python\n",
    "\n",
    "# There are some functions in Python which are compatible to run with multiple data types.\n",
    "# One such function is the len() function. It can run with many data types in Python. Let's look at some example use cases of the function.\n",
    "\n",
    "# print(len(\"Programiz\"))\n",
    "# print(len([\"Python\", \"Java\", \"C\"]))\n",
    "# print(len({\"Name\": \"John\", \"Address\": \"Nepal\"}))\n",
    "\n",
    "# Output\n",
    "\n",
    "# 9\n",
    "# 3\n",
    "# 2\n",
    "# Here, we can see that many data types such as string, list, tuple, set, and dictionary can work with the len() function. However, we can see that it returns specific information about specific data types."
   ]
  },
  {
   "cell_type": "code",
   "execution_count": null,
   "metadata": {},
   "outputs": [],
   "source": [
    "# Class Polymorphism in Python\n",
    "\n",
    "# Polymorphism is a very important concept in Object-Oriented Programming\n",
    "# We can use the concept of polymorphism while creating class methods as Python allows different classes to have methods with the same name.\n",
    "\n",
    "# We can then later generalize calling these methods by disregarding the object we are working with. Let's look at an example:\n",
    "\n",
    "# class Cat:\n",
    "#     def __init__(self, name, age):\n",
    "#         self.name = name\n",
    "#         self.age = age\n",
    "\n",
    "#     def info(self):\n",
    "#         print(f\"I am a cat. My name is {self.name}. I am {self.age} years old.\")\n",
    "\n",
    "#     def make_sound(self):\n",
    "#         print(\"Meow\")\n",
    "\n",
    "\n",
    "# class Dog:\n",
    "#     def __init__(self, name, age):\n",
    "#         self.name = name\n",
    "#         self.age = age\n",
    "\n",
    "#     def info(self):\n",
    "#         print(f\"I am a dog. My name is {self.name}. I am {self.age} years old.\")\n",
    "\n",
    "#     def make_sound(self):\n",
    "#         print(\"Bark\")\n",
    "\n",
    "\n",
    "# cat1 = Cat(\"Kitty\", 2.5)\n",
    "# dog1 = Dog(\"Fluffy\", 4)\n",
    "\n",
    "# for animal in (cat1, dog1):\n",
    "#     animal.make_sound()\n",
    "#     animal.info()\n",
    "#     animal.make_sound()\n",
    "\n",
    "# Output\n",
    "\n",
    "# Meow\n",
    "# I am a cat. My name is Kitty. I am 2.5 years old.\n",
    "# Meow\n",
    "# Bark\n",
    "# I am a dog. My name is Fluffy. I am 4 years old.\n",
    "# Bark\n",
    "\n",
    "\n",
    "# Here, we have created two classes Cat and Dog. They share a similar structure and have the same method names info() and make_sound().\n",
    "\n",
    "# However, notice that we have not created a common superclass or linked the classes together in any way. Even then, we can pack these two different objects into a tuple and iterate through it using a common animal variable. It is possible due to polymorphism."
   ]
  },
  {
   "cell_type": "code",
   "execution_count": null,
   "metadata": {},
   "outputs": [],
   "source": [
    "# There are total four ways by which we can acchive polymorphism--\n",
    "# \n",
    "# 1. Duck Typing...\n",
    "# 2. Operator Overloading...\n",
    "# 3. Method Overloading...\n",
    "# 4. Method Overriding ..."
   ]
  }
 ],
 "metadata": {
  "language_info": {
   "name": "python"
  },
  "orig_nbformat": 4
 },
 "nbformat": 4,
 "nbformat_minor": 2
}

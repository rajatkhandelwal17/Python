{
 "cells": [
  {
   "cell_type": "code",
   "execution_count": null,
   "metadata": {},
   "outputs": [],
   "source": [
    "# Constructors in Python"
   ]
  },
  {
   "cell_type": "code",
   "execution_count": null,
   "metadata": {},
   "outputs": [],
   "source": [
    "# Class functions that begin with double underscore __ are called special functions as they have special meaning.\n",
    "\n",
    "# Of one particular interest is the __init__() function. This special function gets called whenever a new object of that class is instantiated.\n",
    "\n",
    "# This type of function is also called constructors in Object Oriented Programming (OOP). We normally use it to initialize all the variables."
   ]
  },
  {
   "cell_type": "code",
   "execution_count": null,
   "metadata": {},
   "outputs": [],
   "source": [
    "class Computer:\n",
    "    def __init__(self):\n",
    "        self.name = \"Rajat\"\n",
    "        self.age = 20\n",
    "c1 = Computer()\n",
    "c2 = Computer()\n",
    "print(c1.name, c2.name)"
   ]
  },
  {
   "cell_type": "code",
   "execution_count": null,
   "metadata": {},
   "outputs": [],
   "source": [
    "class Computer:\n",
    "    def __init__(self):\n",
    "        self.name = \"Rajat\"\n",
    "        self.age = 20\n",
    "c1 = Computer()\n",
    "c2 = Computer()\n",
    "c1.name = \"Amar\"\n",
    "print(c1.name, c2.name)"
   ]
  },
  {
   "cell_type": "code",
   "execution_count": null,
   "metadata": {},
   "outputs": [],
   "source": [
    "class Computer:\n",
    "    def __init__(self):\n",
    "        self.name = \"Rajat\"\n",
    "        self.age = 20\n",
    "c1 = Computer()\n",
    "c2 = Computer()\n",
    "c1.name = \"Amar\"\n",
    "c1.age = 25\n",
    "print(c1.name, c1.age)\n",
    "print(c2.name, c2.age)"
   ]
  },
  {
   "cell_type": "code",
   "execution_count": null,
   "metadata": {},
   "outputs": [],
   "source": [
    "class Computer:\n",
    "    def __init__(self):\n",
    "        self.name = \"Rajat\"\n",
    "        self.age = 20\n",
    "    def update(self):\n",
    "        self.age = 30\n",
    "c1 = Computer()\n",
    "c2 = Computer()\n",
    "c1.name = \"Amar\"\n",
    "c1.age = 25\n",
    "c2.update()\n",
    "print(c1.name, c1.age)\n",
    "print(c2.name, c2.age)"
   ]
  },
  {
   "cell_type": "code",
   "execution_count": null,
   "metadata": {},
   "outputs": [],
   "source": [
    "# \" ABOUT SELF PARAMETER \"\n",
    "\n",
    "# You may have noticed the self parameter in function definition inside the class but we called the method simply as object_name.method() without any arguments. It still worked.\n",
    "\n",
    "# This is because, whenever an object calls its method, the object itself is passed as the first argument. So, object_name.method() translates into Class_Name.method(object_name).\n",
    "\n",
    "# In general, calling a method with a list of n arguments is equivalent to calling the corresponding function with an argument list that is created by inserting the method's object before the first argument.\n",
    "\n",
    "# For these reasons, the first argument of the function in class must be the object itself. This is conventionally called self. It can be named otherwise but we highly recommend to follow the convention."
   ]
  },
  {
   "cell_type": "code",
   "execution_count": null,
   "metadata": {},
   "outputs": [],
   "source": [
    "class Computer:\n",
    "    def __init__(self):\n",
    "        self.name = \"Rajat\"\n",
    "        self.age = 20\n",
    "    def update(self):\n",
    "        self.age = 30\n",
    "    def compare(self,others):        # compare(who is calling, whom to compare)\n",
    "        if self.age == others.age: print(\"These Objects Are Same\")\n",
    "        else: print(\"These Objects Are Not Same\")\n",
    "\n",
    "c1 = Computer()\n",
    "c2 = Computer()\n",
    "print(c1.name, c1.age)\n",
    "print(c2.name, c2.age)\n",
    "\n",
    "c1.update()\n",
    "print(c1.name, c1.age)\n",
    "c1.compare(c2)"
   ]
  },
  {
   "cell_type": "code",
   "execution_count": null,
   "metadata": {},
   "outputs": [],
   "source": [
    "class Computer:\n",
    "    def __init__(self):\n",
    "        self.name = \"Rajat\"\n",
    "        self.age = 20\n",
    "    def update(self):\n",
    "        self.age = 30\n",
    "    def compare(self,others):        # compare(who is calling, whom to compare)\n",
    "        if self.age == others.age: return True\n",
    "        else: return False\n",
    "\n",
    "c1 = Computer()\n",
    "c2 = Computer()\n",
    "print(c1.name, c1.age)\n",
    "print(c2.name, c2.age)\n",
    "\n",
    "c1.update()\n",
    "print(c1.name, c1.age)\n",
    "if c1.compare(c2): print(\"They are Same\")\n",
    "else: print(\"They Are Not Same\")"
   ]
  }
 ],
 "metadata": {
  "interpreter": {
   "hash": "f23faf4bfe871c203c8bec80520af5927fc7cb1ae3bd834ddf554ee587ad1c05"
  },
  "kernelspec": {
   "display_name": "Python 3.8.7 64-bit",
   "language": "python",
   "name": "python3"
  },
  "language_info": {
   "codemirror_mode": {
    "name": "ipython",
    "version": 3
   },
   "file_extension": ".py",
   "mimetype": "text/x-python",
   "name": "python",
   "nbconvert_exporter": "python",
   "pygments_lexer": "ipython3",
   "version": "3.8.7"
  },
  "orig_nbformat": 4
 },
 "nbformat": 4,
 "nbformat_minor": 2
}

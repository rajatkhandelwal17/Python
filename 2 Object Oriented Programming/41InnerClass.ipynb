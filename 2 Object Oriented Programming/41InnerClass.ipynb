{
 "cells": [
  {
   "cell_type": "code",
   "execution_count": null,
   "metadata": {},
   "outputs": [],
   "source": [
    "class student:\n",
    "    def __init__(self,name,roll_no):\n",
    "        self.name = name\n",
    "        self.roll_no = roll_no\n",
    "\n",
    "s1 = student('Rajat',20)\n",
    "s2 = student('Amar',25)\n",
    "\n",
    "print(s1.name, s1.roll_no)\n",
    "print(s2.name, s2.roll_no)"
   ]
  },
  {
   "cell_type": "code",
   "execution_count": null,
   "metadata": {},
   "outputs": [],
   "source": [
    "class student:\n",
    "    def __init__(self,name,roll_no):\n",
    "        self.name = name\n",
    "        self.roll_no = roll_no\n",
    "    def show(self):\n",
    "        print(self.name, self.roll_no)\n",
    "\n",
    "s1 = student('Rajat',20)\n",
    "s2 = student('Amar',25)\n",
    "s1.show()"
   ]
  },
  {
   "cell_type": "code",
   "execution_count": null,
   "metadata": {},
   "outputs": [],
   "source": [
    "class student:                                          # OUTER CLASS\n",
    "    def __init__(self,name,roll_no):\n",
    "        self.name = name\n",
    "        self.roll_no = roll_no\n",
    "    def show(self):\n",
    "        print(self.name, self.roll_no)\n",
    "\n",
    "    class Laptop:                                       # INNER CLASS\n",
    "        def __init__(self):\n",
    "            self.brand = \"HP\"\n",
    "            self.cpu = \"I5\"\n",
    "            self.ram = 8\n",
    "\n",
    "s1 = student('Rajat',20)\n",
    "s2 = student('Amar',25)\n",
    "s1.show()\n",
    "\n",
    "lap1 = s1.Laptop                        # CREATING OBJECT OF LAPTOP CLASS USING STUDENT CLASS\n",
    "lap2 = s2.Laptop\n",
    "print(id(lap1), id(lap2))"
   ]
  },
  {
   "cell_type": "code",
   "execution_count": null,
   "metadata": {},
   "outputs": [],
   "source": [
    "# We can create object of inner class inside the outer class as we see just above...\n",
    "\n",
    "# We can create object of inner class outside the outer class providing the use of outer class name to call it..."
   ]
  },
  {
   "cell_type": "code",
   "execution_count": null,
   "metadata": {},
   "outputs": [],
   "source": [
    "class student:                                          # OUTER CLASS\n",
    "    def __init__(self,name,roll_no):\n",
    "        self.name = name\n",
    "        self.roll_no = roll_no\n",
    "    def show(self):\n",
    "        print(self.name, self.roll_no)\n",
    "\n",
    "    class Laptop:                                       # INNER CLASS\n",
    "        def __init__(self):\n",
    "            self.brand = \"HP\"\n",
    "            self.cpu = \"I5\"\n",
    "            self.ram = 8\n",
    "\n",
    "s1 = student('Rajat',20)\n",
    "s2 = student('Amar',25)\n",
    "s1.show()\n",
    "\n",
    "lap1 = student.Laptop()\n",
    "print(lap1.brand, lap1.cpu, lap1.ram)"
   ]
  },
  {
   "cell_type": "code",
   "execution_count": 9,
   "metadata": {},
   "outputs": [
    {
     "name": "stdout",
     "output_type": "stream",
     "text": [
      "Rajat 20\n",
      "HP I5 8\n"
     ]
    }
   ],
   "source": [
    "class student:                                          # OUTER CLASS\n",
    "    def __init__(self,name,roll_no):\n",
    "        self.name = name\n",
    "        self.roll_no = roll_no\n",
    "    def show(self):\n",
    "        print(self.name, self.roll_no)\n",
    "\n",
    "    class Laptop:                                       # INNER CLASS\n",
    "        def __init__(self):\n",
    "            self.brand = \"HP\"\n",
    "            self.cpu = \"I5\"\n",
    "            self.ram = 8\n",
    "        def show(self):\n",
    "            print(self.brand, self.cpu, self.ram)\n",
    "\n",
    "s1 = student('Rajat',20)\n",
    "s2 = student('Amar',25)\n",
    "s1.show()\n",
    "\n",
    "lap1 = student.Laptop()\n",
    "lap1.show()"
   ]
  }
 ],
 "metadata": {
  "interpreter": {
   "hash": "f23faf4bfe871c203c8bec80520af5927fc7cb1ae3bd834ddf554ee587ad1c05"
  },
  "kernelspec": {
   "display_name": "Python 3.8.7 64-bit",
   "language": "python",
   "name": "python3"
  },
  "language_info": {
   "codemirror_mode": {
    "name": "ipython",
    "version": 3
   },
   "file_extension": ".py",
   "mimetype": "text/x-python",
   "name": "python",
   "nbconvert_exporter": "python",
   "pygments_lexer": "ipython3",
   "version": "3.8.7"
  },
  "orig_nbformat": 4
 },
 "nbformat": 4,
 "nbformat_minor": 2
}

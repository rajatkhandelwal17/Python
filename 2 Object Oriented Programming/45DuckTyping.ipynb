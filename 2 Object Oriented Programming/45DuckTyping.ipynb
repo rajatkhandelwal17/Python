{
 "cells": [
  {
   "cell_type": "code",
   "execution_count": null,
   "metadata": {},
   "outputs": [],
   "source": [
    "# Duck Typing :-\n",
    "\n",
    "# Duck Typing is a type system used in dynamic languages. For example, Python, Perl, Ruby, PHP, Javascript, etc. where the type or the class of an object is less important than the method it defines. Using Duck Typing, we do not check types at all. Instead, we check for the presence of a given method or attribute."
   ]
  },
  {
   "cell_type": "code",
   "execution_count": null,
   "metadata": {},
   "outputs": [],
   "source": [
    "# The name Duck Typing comes from the phrase:\n",
    "# “If it looks like a duck and quacks like a duck, it’s a duck”"
   ]
  },
  {
   "cell_type": "code",
   "execution_count": null,
   "metadata": {},
   "outputs": [],
   "source": [
    "class Pycharm:\n",
    "    def execute(self):\n",
    "        print(\"Compiling\")\n",
    "        print(\"Running\")\n",
    "class Laptop:\n",
    "    def code(self,ide):\n",
    "        ide.execute()\n",
    "\n",
    "ide = Pycharm()\n",
    "lap1 = Laptop()\n",
    "lap1.code(ide)"
   ]
  },
  {
   "cell_type": "code",
   "execution_count": null,
   "metadata": {},
   "outputs": [],
   "source": [
    "class Pycharm:\n",
    "    def execute(self):\n",
    "        print(\"Compiling\")\n",
    "        print(\"Running\")\n",
    "\n",
    "class Myeditor:\n",
    "    def execute(self):\n",
    "        print(\"Spelling Check\")\n",
    "        print(\"Conventional Check\")\n",
    "        print(\"Compiling\")\n",
    "        print(\"Running\")\n",
    "\n",
    "class Laptop:\n",
    "    def code(self,ide):\n",
    "        ide.execute()\n",
    "\n",
    "ide = Myeditor()\n",
    "lap1 = Laptop()\n",
    "lap1.code(ide)"
   ]
  },
  {
   "cell_type": "code",
   "execution_count": null,
   "metadata": {},
   "outputs": [],
   "source": [
    "class Bird:\n",
    "\tdef fly(self):\n",
    "\t\tprint(\"fly with wings\")\n",
    "\n",
    "class Airplane:\n",
    "\tdef fly(self):\n",
    "\t\tprint(\"fly with fuel\")\n",
    "\n",
    "class Fish:\n",
    "\tdef swim(self):\n",
    "\t\tprint(\"fish swim in sea\")\n",
    "\n",
    "for obj in Bird(), Airplane(), Fish():\n",
    "\tobj.fly()"
   ]
  }
 ],
 "metadata": {
  "interpreter": {
   "hash": "f23faf4bfe871c203c8bec80520af5927fc7cb1ae3bd834ddf554ee587ad1c05"
  },
  "kernelspec": {
   "display_name": "Python 3.8.7 64-bit",
   "language": "python",
   "name": "python3"
  },
  "language_info": {
   "codemirror_mode": {
    "name": "ipython",
    "version": 3
   },
   "file_extension": ".py",
   "mimetype": "text/x-python",
   "name": "python",
   "nbconvert_exporter": "python",
   "pygments_lexer": "ipython3",
   "version": "3.8.7"
  },
  "orig_nbformat": 4
 },
 "nbformat": 4,
 "nbformat_minor": 2
}

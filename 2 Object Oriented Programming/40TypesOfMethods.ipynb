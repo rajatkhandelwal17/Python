{
 "cells": [
  {
   "cell_type": "code",
   "execution_count": null,
   "metadata": {},
   "outputs": [],
   "source": [
    "# TYPES OF METHODS\n",
    "\n",
    "# THERE ARE TOTAL THREE TYPES OF METHODS\n",
    "#       1. INSTANCE METHODS\n",
    "#       2. CLASS METHODS\n",
    "#       3. STATIC METHODS "
   ]
  },
  {
   "cell_type": "code",
   "execution_count": null,
   "metadata": {},
   "outputs": [],
   "source": [
    "# INSTANCE METHODS:\n",
    "\n",
    "# This is a very basic and easy method that we use regularly when we create classes in python. If we want to print an instance variable or instance method we must create an object of that required class.\n",
    "\n",
    "# If we are using self as a function parameter or in front of a variable, that is nothing but the calling instance itself.\n",
    "\n",
    "# As we are working with instance variables we use self keyword.\n",
    "\n",
    "# Note: Instance variables are used with instance methods."
   ]
  },
  {
   "cell_type": "code",
   "execution_count": null,
   "metadata": {},
   "outputs": [],
   "source": [
    "class student:\n",
    "    school = \"Telusko\"\n",
    "    def __init__(self,m1,m2,m3):\n",
    "        self.m1 = m1\n",
    "        self.m2 = m2\n",
    "        self.m3 = m3\n",
    "    def avg(self):  \n",
    "        return (self.m1 + self.m2 + self.m3)/3\n",
    "s1 = student(34,67,32)\n",
    "s2 = student(89,323,12)\n",
    "print(s1.avg(), s2.avg())"
   ]
  },
  {
   "cell_type": "code",
   "execution_count": null,
   "metadata": {},
   "outputs": [],
   "source": [
    "# Accessor Method: This method is used to access the state of the object i.e, the data hidden in the object can be accessed from this method. However, this method cannot change the state of the object, it can only access the data hidden. We can name these methods with the word get. \n",
    "\n",
    "\n",
    "# Mutator Method: This method is used to mutate/modify the state of an object i.e, it alters the hidden value of the data variable. It can set the value of a variable instantly to a new value. This method is also called as update method. Moreover, we can name these methods with the word set. "
   ]
  },
  {
   "cell_type": "code",
   "execution_count": null,
   "metadata": {},
   "outputs": [],
   "source": [
    "class student:\n",
    "    school = \"Telusko\"\n",
    "\n",
    "    def __init__(self,m1,m2,m3):\n",
    "        self.m1 = m1\n",
    "        self.m2 = m2\n",
    "        self.m3 = m3\n",
    "\n",
    "    def avg(self):\n",
    "        return (self.m1 + self.m2 + self.m3)/3\n",
    "\n",
    "    def get_ml(self):\n",
    "        return self.ml\n",
    "\n",
    "    def set_ml(self, value):\n",
    "        self.ml = value\n",
    "\n",
    "s1 = student(34,67,32)\n",
    "s2 = student(89,323,12)\n",
    "print(s1.avg(), s2.avg())\n",
    "s1.set_ml(100)\n",
    "print(s1.get_ml())"
   ]
  },
  {
   "cell_type": "code",
   "execution_count": null,
   "metadata": {},
   "outputs": [],
   "source": [
    "# CLASS METHOD:\n",
    "\n",
    "# There are two ways to create class methods in python:\n",
    "# 1. Using classmethod(function)\n",
    "# 2. Using @classmethod annotation\n",
    "\n",
    "# A class method can be called either using the class (such as C.f()) or using an instance (such as C().f()). The instance is ignored except for its class. If a class method is called from a derived class, the derived class object is passed as the implied first argument.\n",
    "\n",
    "# As we are working with ClassMethod we use the cls keyword. Class variables are used with class methods."
   ]
  },
  {
   "cell_type": "code",
   "execution_count": null,
   "metadata": {},
   "outputs": [],
   "source": [
    "class student:\n",
    "    school = \"Telusko\"\n",
    "    def __init__(self,m1,m2,m3):\n",
    "        self.m1 = m1\n",
    "        self.m2 = m2\n",
    "        self.m3 = m3\n",
    "    def avg(self):  \n",
    "        return (self.m1 + self.m2 + self.m3)/3\n",
    "\n",
    "    @classmethod\n",
    "    def getSchool(cls):\n",
    "        return cls.school\n",
    "\n",
    "s1 = student(34,67,32)\n",
    "s2 = student(89,323,12)\n",
    "print(s1.avg(), s2.avg())\n",
    "\n",
    "print(student.getSchool())"
   ]
  },
  {
   "cell_type": "code",
   "execution_count": null,
   "metadata": {},
   "outputs": [],
   "source": [
    "# STATIC METHOD:\n",
    "\n",
    "# A static method can be called without an object for that class, using the class name directly. If you want to do something extra with a class we use static methods.\n",
    "\n",
    "# For example, If you want to print factorial of a number then we don't need to use class variables or instance variables to print the factorial of a number. We just simply pass a number to the static method that we have created and it returns the factorial."
   ]
  },
  {
   "cell_type": "code",
   "execution_count": null,
   "metadata": {},
   "outputs": [],
   "source": [
    "class student:\n",
    "    school = \"Telusko\"\n",
    "    def __init__(self,m1,m2,m3):\n",
    "        self.m1 = m1\n",
    "        self.m2 = m2\n",
    "        self.m3 = m3\n",
    "    def avg(self):  \n",
    "        return (self.m1 + self.m2 + self.m3)/3\n",
    "\n",
    "    @classmethod\n",
    "    def getSchool(cls):\n",
    "        return cls.school\n",
    "    \n",
    "    @staticmethod\n",
    "    def info():\n",
    "        print(\"This is Student Class\")\n",
    "\n",
    "s1 = student(34,67,32)\n",
    "s2 = student(89,323,12)\n",
    "print(s1.avg(), s2.avg())\n",
    "\n",
    "print(student.getSchool())\n",
    "student.info()"
   ]
  }
 ],
 "metadata": {
  "interpreter": {
   "hash": "f23faf4bfe871c203c8bec80520af5927fc7cb1ae3bd834ddf554ee587ad1c05"
  },
  "kernelspec": {
   "display_name": "Python 3.8.7 64-bit",
   "language": "python",
   "name": "python3"
  },
  "language_info": {
   "codemirror_mode": {
    "name": "ipython",
    "version": 3
   },
   "file_extension": ".py",
   "mimetype": "text/x-python",
   "name": "python",
   "nbconvert_exporter": "python",
   "pygments_lexer": "ipython3",
   "version": "3.8.7"
  },
  "orig_nbformat": 4
 },
 "nbformat": 4,
 "nbformat_minor": 2
}

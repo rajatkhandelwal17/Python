{
 "cells": [
  {
   "cell_type": "code",
   "execution_count": null,
   "metadata": {},
   "outputs": [],
   "source": [
    "# Method Overriding in Python:\n",
    "\n",
    "# Method overriding is an ability of any object-oriented programming language that allows a subclass or child class to provide a specific implementation of a method that is already provided by one of its super-classes or parent classes. \n",
    "\n",
    "# When a method in a subclass has the same name, same parameters or signature and same return type(or sub-type) as a method in its super-class, then the method in the subclass is said to override the method in the super-class."
   ]
  },
  {
   "cell_type": "code",
   "execution_count": null,
   "metadata": {},
   "outputs": [],
   "source": [
    "# Python program to demonstrate \n",
    "# method overriding\n",
    "\n",
    "class Parent():\n",
    "\tdef __init__(self):\n",
    "\t\tself.value = \"Inside Parent\"\n",
    "\tdef show(self):\n",
    "\t\tprint(self.value)\n",
    "\t\t\n",
    "class Child(Parent):\n",
    "\tpass\n",
    "\t\t\t\t\n",
    "obj1 = Parent()\n",
    "obj2 = Child()\n",
    "obj1.show()\n",
    "obj2.show()"
   ]
  },
  {
   "cell_type": "code",
   "execution_count": null,
   "metadata": {},
   "outputs": [],
   "source": [
    "# Python program to demonstrate \n",
    "# method overriding\n",
    "\n",
    "class Parent():\n",
    "\tdef __init__(self):\n",
    "\t\tself.value = \"Inside Parent\"\n",
    "\tdef show(self):\n",
    "\t\tprint(self.value)\n",
    "\t\t\n",
    "class Child(Parent):\n",
    "\tdef __init__(self):\n",
    "\t\tself.value = \"Inside Child\"\t\n",
    "\tdef show(self):\n",
    "\t\tprint(self.value)\n",
    "\t\t\t\t\n",
    "obj1 = Parent()\n",
    "obj2 = Child()\n",
    "obj1.show()\n",
    "obj2.show()"
   ]
  },
  {
   "cell_type": "code",
   "execution_count": null,
   "metadata": {},
   "outputs": [],
   "source": [
    "# Python program to demonstrate\n",
    "# overriding in multiple inheritance\n",
    "\n",
    "class Parent1():\n",
    "\tdef show(self):\n",
    "\t\tprint(\"Inside Parent1\")\n",
    "\n",
    "class Parent2():\n",
    "\tdef display(self):\n",
    "\t\tprint(\"Inside Parent2\")\n",
    "\t\t\n",
    "class Child(Parent1, Parent2):\n",
    "\tdef show(self):\n",
    "\t\tprint(\"Inside Child\")\n",
    "\t\n",
    "obj = Child()\n",
    "\n",
    "obj.show()\n",
    "obj.display()"
   ]
  },
  {
   "cell_type": "code",
   "execution_count": null,
   "metadata": {},
   "outputs": [],
   "source": [
    "# Python program to demonstrate\n",
    "# overriding in multilevel inheritance \n",
    "\n",
    "class Parent():\n",
    "\tdef display(self):\n",
    "\t\tprint(\"Inside Parent\")\n",
    "\t\n",
    "class Child(Parent):\n",
    "\tdef show(self):\n",
    "\t\tprint(\"Inside Child\")\n",
    "\t\n",
    "class GrandChild(Child):\n",
    "\tdef show(self):\n",
    "\t\tprint(\"Inside GrandChild\")\t\t\n",
    "\t\n",
    "g = GrandChild()\n",
    "g.show()\n",
    "g.display()"
   ]
  },
  {
   "cell_type": "code",
   "execution_count": null,
   "metadata": {},
   "outputs": [],
   "source": [
    "# Python program to demonstrate\n",
    "# calling the parent's class method\n",
    "# inside the overridden method\n",
    "\n",
    "class Parent():\n",
    "\tdef show(self):\n",
    "\t\tprint(\"Inside Parent\")\n",
    "\t\t\n",
    "class Child(Parent):\n",
    "\tdef show(self):\n",
    "\t\tParent.show(self)\n",
    "\t\tprint(\"Inside Child\")\n",
    "\t\t\n",
    "obj = Child()\n",
    "obj.show()"
   ]
  },
  {
   "cell_type": "code",
   "execution_count": null,
   "metadata": {},
   "outputs": [],
   "source": [
    "# Python program to demonstrate\n",
    "# calling the parent's class method\n",
    "# inside the overridden method using\n",
    "# super()\n",
    "\n",
    "class Parent():\n",
    "\tdef show(self):\n",
    "\t\tprint(\"Inside Parent\")\n",
    "\t\t\n",
    "class Child(Parent):\n",
    "\tdef show(self):\n",
    "\t\tsuper().show()\n",
    "\t\tprint(\"Inside Child\")\n",
    "\t\t\n",
    "obj = Child()\n",
    "obj.show()"
   ]
  },
  {
   "cell_type": "code",
   "execution_count": null,
   "metadata": {},
   "outputs": [],
   "source": [
    "# Program to define the use of super()\n",
    "# function in multiple inheritance\n",
    "\n",
    "class A:\n",
    "\tdef __init__(self):\n",
    "\t\tprint('(Class A)')\n",
    "\t\n",
    "\tdef func(self, b):\n",
    "\t\tprint('(Class A):', b)\n",
    "\t\n",
    "class B(A):\n",
    "\tdef __init__(self):\n",
    "\t\tprint('(Class B)')\n",
    "\t\tsuper().__init__()\n",
    "\t\n",
    "\tdef func(self, b):\n",
    "\t\tprint('(Class B):', b)\n",
    "\t\tsuper().func(b + 1)\n",
    "\t\n",
    "class C(B):\n",
    "\tdef __init__(self):\n",
    "\t\tprint('(Class C)')\n",
    "\t\tsuper().__init__()\n",
    "\t\n",
    "\tdef func(self, b):\n",
    "\t\tprint('(Class C):', b)\n",
    "\t\tsuper().func(b + 1)\n",
    "\t\n",
    "if __name__ == '__main__':\n",
    "\tobj = C()\n",
    "\tobj.func(10)"
   ]
  }
 ],
 "metadata": {
  "interpreter": {
   "hash": "f23faf4bfe871c203c8bec80520af5927fc7cb1ae3bd834ddf554ee587ad1c05"
  },
  "kernelspec": {
   "display_name": "Python 3.8.7 64-bit",
   "language": "python",
   "name": "python3"
  },
  "language_info": {
   "codemirror_mode": {
    "name": "ipython",
    "version": 3
   },
   "file_extension": ".py",
   "mimetype": "text/x-python",
   "name": "python",
   "nbconvert_exporter": "python",
   "pygments_lexer": "ipython3",
   "version": "3.8.7"
  },
  "orig_nbformat": 4
 },
 "nbformat": 4,
 "nbformat_minor": 2
}

{
 "cells": [
  {
   "cell_type": "code",
   "execution_count": null,
   "metadata": {},
   "outputs": [],
   "source": [
    "# An Object is simply a collection of data (variables) and methods (functions) that act on those data. Similarly, a class is a blueprint for that object.\n",
    "\n",
    "# As many houses can be made from a house's blueprint, we can create many objects from a class. An object is also called an instance of a class and the process of creating this object is called instantiation."
   ]
  },
  {
   "cell_type": "code",
   "execution_count": null,
   "metadata": {},
   "outputs": [],
   "source": [
    "# Defining a Class in Python\n",
    "# Like function definitions begin with the def keyword in Python, class definitions begin with a class keyword.\n",
    "\n",
    "# The first string inside the class is called docstring and has a brief description of the class. Although not mandatory, this is highly recommended.\n",
    "\n",
    "# Class -> Attributes -> Variables\n",
    "# Class -> Behaviour -> Methods(Functions)"
   ]
  },
  {
   "cell_type": "code",
   "execution_count": null,
   "metadata": {},
   "outputs": [],
   "source": [
    "class MyNewClass:\n",
    "    '''This is a docstring. I have created a new class'''\n",
    "    pass"
   ]
  },
  {
   "cell_type": "code",
   "execution_count": null,
   "metadata": {},
   "outputs": [],
   "source": [
    "# A class creates a new local namespace where all its attributes are defined. Attributes may be data or functions.\n",
    "\n",
    "# There are also special attributes in it that begins with double underscores __. For example, __doc__ gives us the docstring of that class.\n",
    "\n",
    "# As soon as we define a class, a new class object is created with the same name. This class object allows us to access the different attributes as well as to instantiate new objects of that class."
   ]
  },
  {
   "cell_type": "code",
   "execution_count": null,
   "metadata": {},
   "outputs": [],
   "source": [
    "# We saw that the class object could be used to access different attributes.\n",
    "\n",
    "# It can also be used to create new object instances (instantiation) of that class. The procedure to create an object is similar to a function call.\n",
    "\n",
    "# Size of the object?\n",
    "# Depends on the Number of Variables And size of each variable\n",
    "\n",
    "# Who Allocates Size to object?\n",
    "# The Memory Allocates to Objects In heap We can identify By using id "
   ]
  },
  {
   "cell_type": "code",
   "execution_count": null,
   "metadata": {},
   "outputs": [],
   "source": [
    "# CONSTRUCTING CLASS & CREATING OBJECTS - \n",
    "\n",
    "class Computer:\n",
    "    def config():\n",
    "        print(\"Computer Detail -- 4GB RAM, 1TB Secondary Memory\")\n",
    "com1 = Computer()        # CREATING 1ST OBJECT OF CLASS\n",
    "com2 = Computer()       # CREATING 2ND OBJECT OF CLASS\n",
    "Computer.config()   # CALLING METHOD BY USE OF CLASS FOR OBJECT 1\n",
    "Computer.config()   # CALLING METHOD BY USE OF CLASS FOR OBJECT 2"
   ]
  },
  {
   "cell_type": "code",
   "execution_count": null,
   "metadata": {},
   "outputs": [],
   "source": [
    "class Computer:\n",
    "    def config(self):\n",
    "        print(\"Computer Detail -- 4GB RAM, 1TB Secondary Memory\")\n",
    "com1 = Computer()        # CREATING 1ST OBJECT OF CLASS\n",
    "com2 = Computer()         # CREATING 2ND OBJECT OF CLASS\n",
    "Computer.config(com1) # CALLING METHOD BY USE OF CLASS FOR OBJECT 1\n",
    "Computer.config(com2) # CALLING METHOD BY USE OF CLASS FOR OBJECT 2"
   ]
  },
  {
   "cell_type": "code",
   "execution_count": null,
   "metadata": {},
   "outputs": [],
   "source": [
    "class Computer:\n",
    "    def config(self):\n",
    "        print(\"Computer Detail -- 4GB RAM, 1TB Secondary Memory\")\n",
    "com1 = Computer()         # CREATING 1ST OBJECT OF CLASS\n",
    "com2 = Computer()        # CREATING 2ND OBJECT OF CLASS\n",
    "com1.config()           # CALLING METHOD BY USE OF OBJECT 1\n",
    "com2.config()           # CALLING METHOD BY USE OF OBJECT 2"
   ]
  }
 ],
 "metadata": {
  "interpreter": {
   "hash": "f23faf4bfe871c203c8bec80520af5927fc7cb1ae3bd834ddf554ee587ad1c05"
  },
  "kernelspec": {
   "display_name": "Python 3.8.7 64-bit",
   "language": "python",
   "name": "python3"
  },
  "language_info": {
   "codemirror_mode": {
    "name": "ipython",
    "version": 3
   },
   "file_extension": ".py",
   "mimetype": "text/x-python",
   "name": "python",
   "nbconvert_exporter": "python",
   "pygments_lexer": "ipython3",
   "version": "3.8.7"
  },
  "orig_nbformat": 4
 },
 "nbformat": 4,
 "nbformat_minor": 2
}

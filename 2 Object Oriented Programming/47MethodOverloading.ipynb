{
 "cells": [
  {
   "cell_type": "code",
   "execution_count": null,
   "metadata": {},
   "outputs": [],
   "source": [
    "# Python | Method Overloading:-\n",
    "\n",
    "# Like other languages (for example, method overloading in C++) do, python does not support method overloading by default. But there are different ways to achieve method overloading in Python. \n",
    "\n",
    "# The problem with method overloading in Python is that we may overload the methods but can only use the latest defined method. "
   ]
  },
  {
   "cell_type": "code",
   "execution_count": null,
   "metadata": {},
   "outputs": [],
   "source": [
    "class student:\n",
    "    def __init__(self,m1,m2):\n",
    "        self.m1 = m1\n",
    "        self.m2 = m2\n",
    "    def sum(self,a,b):           # Function only for adding two values...\n",
    "        s = a+b\n",
    "        return s\n",
    "s1 = student(58,69)\n",
    "print(s1.sum(10,100))"
   ]
  },
  {
   "cell_type": "code",
   "execution_count": null,
   "metadata": {},
   "outputs": [],
   "source": [
    "class student:\n",
    "    def __init__(self,m1,m2):\n",
    "        self.m1 = m1\n",
    "        self.m2 = m2\n",
    "    def sum(self,a,b):\n",
    "        s = a+b\n",
    "        return s\n",
    "s1 = student(58,69)\n",
    "print(s1.sum(10,100,11)) # Calling Function for three values..but it will throw error bcoz of 3 values"
   ]
  },
  {
   "cell_type": "code",
   "execution_count": null,
   "metadata": {},
   "outputs": [],
   "source": [
    "class student:\n",
    "    def __init__(self,m1,m2):\n",
    "        self.m1 = m1\n",
    "        self.m2 = m2\n",
    "    def sum(self,a,b,c):                # Function only for adding three values...\n",
    "        s = a+b+c\n",
    "        return s\n",
    "s1 = student(58,69)\n",
    "print(s1.sum(10,100,11))"
   ]
  },
  {
   "cell_type": "code",
   "execution_count": null,
   "metadata": {},
   "outputs": [],
   "source": [
    "class student:\n",
    "    def __init__(self,m1,m2):\n",
    "        self.m1 = m1\n",
    "        self.m2 = m2\n",
    "    def sum(self,a=None,b=None,c=None):    # This wil throw error    \n",
    "        s = a+b+c\n",
    "        return s\n",
    "\n",
    "s1 = student(58,69)\n",
    "s2 = student(1,2)\n",
    "\n",
    "print(s1.sum(10,100,11))\n",
    "print(s2.sum(111,222))     "
   ]
  },
  {
   "cell_type": "code",
   "execution_count": null,
   "metadata": {},
   "outputs": [],
   "source": [
    "class student:\n",
    "    def __init__(self,m1,m2):\n",
    "        self.m1 = m1\n",
    "        self.m2 = m2\n",
    "    def sum(self,a=None,b=None,c=None): \n",
    "        s = 0\n",
    "        if a!=None and b!=None and c!=None: s = a+b+c    \n",
    "        elif a!=None and b!=None: s = a+b\n",
    "        else: s = a\n",
    "        return s\n",
    "\n",
    "s1 = student(58,69)\n",
    "s2 = student(1,2)\n",
    "\n",
    "print(s1.sum(10,100,11))\n",
    "print(s2.sum(111,222))  \n",
    "print(s2.sum(5))   "
   ]
  },
  {
   "cell_type": "code",
   "execution_count": null,
   "metadata": {},
   "outputs": [],
   "source": [
    "def product(a,b):\n",
    "\tp = a*b\n",
    "\tprint(p)\n",
    "\t\n",
    "def product(a,b,c):\n",
    "\tp = a*b*c\n",
    "\tprint(p)\n",
    "\n",
    "product(2,5) # This will show error because after overloading there is no existance of previous method\n",
    "product(4,5,5)"
   ]
  },
  {
   "cell_type": "code",
   "execution_count": null,
   "metadata": {},
   "outputs": [],
   "source": [
    "def add(datatype, *args):\n",
    "\tif datatype =='int': answer = 0\n",
    "\tif datatype =='str': answer =''\n",
    "\tfor x in args: answer = answer + x\n",
    "\tprint(answer)\n",
    "\n",
    "add('int',5,6)\n",
    "add('str','Hi ','Geeks')"
   ]
  }
 ],
 "metadata": {
  "interpreter": {
   "hash": "f23faf4bfe871c203c8bec80520af5927fc7cb1ae3bd834ddf554ee587ad1c05"
  },
  "kernelspec": {
   "display_name": "Python 3.8.7 64-bit",
   "language": "python",
   "name": "python3"
  },
  "language_info": {
   "codemirror_mode": {
    "name": "ipython",
    "version": 3
   },
   "file_extension": ".py",
   "mimetype": "text/x-python",
   "name": "python",
   "nbconvert_exporter": "python",
   "pygments_lexer": "ipython3",
   "version": "3.8.7"
  },
  "orig_nbformat": 4
 },
 "nbformat": 4,
 "nbformat_minor": 2
}

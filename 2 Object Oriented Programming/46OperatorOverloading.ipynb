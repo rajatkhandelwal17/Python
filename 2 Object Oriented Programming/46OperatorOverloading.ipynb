{
 "cells": [
  {
   "cell_type": "code",
   "execution_count": null,
   "metadata": {},
   "outputs": [],
   "source": [
    "# Python Operator Overloading\n",
    "\n",
    "# Python operators work for built-in classes. But the same operator behaves differently with different types. For example, the + operator will perform arithmetic addition on two numbers, merge two lists, or concatenate two strings.\n",
    "\n",
    "# This feature in Python that allows the same operator to have different meaning according to the context is called operator overloading."
   ]
  },
  {
   "cell_type": "code",
   "execution_count": null,
   "metadata": {},
   "outputs": [],
   "source": [
    "a = 10\n",
    "b = 20\n",
    "print(a+b) # 10+20=30\n",
    "\n",
    "a = 5\n",
    "b = 6\n",
    "print(a+b)\n",
    "print(int.__add__(a,b)) # We can also do this..Add function of int class & passing two arguments...\n",
    "\n",
    "# Above data types are integers so we are calling add function of integer class..Here but now we are going to deal with string so use add method present on string class...\n",
    "\n",
    "a = '5'\n",
    "b = '6'\n",
    "print(a+b)\n",
    "print(str.__add__(a,b))\n",
    "\n",
    "a = 5\n",
    "b = \"World\"\n",
    "print(a+b) # It will add or give error??...definately error  because unsupported operand type"
   ]
  },
  {
   "cell_type": "code",
   "execution_count": null,
   "metadata": {},
   "outputs": [],
   "source": [
    "# So basically __add__(), __sub__(), __mul__() are like magic methods...or we can say these are double underscore methods..."
   ]
  },
  {
   "cell_type": "code",
   "execution_count": null,
   "metadata": {},
   "outputs": [],
   "source": [
    "class student:\n",
    "    def __init__(self,m1,m2):\n",
    "        self.m1 = m1\n",
    "        self.m2 = m2\n",
    "s1 = student(58,69)\n",
    "s2 = student(60,65)\n",
    "\n",
    "print(s1.m1+s2.m1) # It will provide sum..\n",
    "print(s1.m2+s2.m2) #  It will provide sum..\n",
    "print(s1+s2) # It will show eror because we can not add two objects"
   ]
  },
  {
   "cell_type": "code",
   "execution_count": null,
   "metadata": {},
   "outputs": [],
   "source": [
    "class student:\n",
    "    def __init__(self,m1,m2):\n",
    "        self.m1 = m1\n",
    "        self.m2 = m2\n",
    "    def __add__(self,others):\n",
    "        m1 = self.m1 + others.m1\n",
    "        m2 = self.m2 + others.m2\n",
    "        s3 = student(m1,m2)\n",
    "        return s3\n",
    "\n",
    "s1 = student(58,69)\n",
    "s2 = student(60,65)\n",
    "\n",
    "print(s1.__add__(s2))\n",
    "print(student.__add__(s1,s2))\n",
    "\n",
    "s3 = s1+s2  # By default '+' is working for add..so we use __add__\n",
    "print(s3.m1)"
   ]
  },
  {
   "cell_type": "code",
   "execution_count": null,
   "metadata": {},
   "outputs": [],
   "source": [
    "class student:\n",
    "    def __init__(self,m1,m2):\n",
    "        self.m1 = m1\n",
    "        self.m2 = m2\n",
    "    def __add__(self,others):\n",
    "        m1 = self.m1 + others.m1\n",
    "        m2 = self.m2 + others.m2\n",
    "        s3 = student(m1,m2)\n",
    "        return s3\n",
    "\n",
    "s1 = student(58,69)\n",
    "s2 = student(60,65)\n",
    "s3 = s1+s2\n",
    "\n",
    "if s1>s2: print(\"s1 wins\") # Ths will show error because we have to overload this operator...\n",
    "else: print(\"s2 wins\") # Remember, operators are not for objects, only for values..."
   ]
  },
  {
   "cell_type": "code",
   "execution_count": null,
   "metadata": {},
   "outputs": [],
   "source": [
    "class student:\n",
    "    def __init__(self,m1,m2):\n",
    "        self.m1 = m1\n",
    "        self.m2 = m2\n",
    "\n",
    "    def __add__(self,others):\n",
    "        m1 = self.m1 + others.m1\n",
    "        m2 = self.m2 + others.m2\n",
    "        s3 = student(m1,m2)\n",
    "        return s3\n",
    "        \n",
    "    def __gt__(self,others):\n",
    "        s1 = self.m1 + self.m2\n",
    "        s2 = others.m1 + others.m2\n",
    "        if s1 > s2: return True\n",
    "        else: return False \n",
    "\n",
    "s1 = student(58,69)\n",
    "s2 = student(60,65)\n",
    "if s1 > s2: print(\"s1 Wins\") #  By default '>' is working for greater then..so we use __gt__\n",
    "else: print(\"s2 wins\")"
   ]
  },
  {
   "cell_type": "code",
   "execution_count": null,
   "metadata": {},
   "outputs": [],
   "source": [
    "class student:\n",
    "    def __init__(self,m1,m2):\n",
    "        self.m1 = m1\n",
    "        self.m2 = m2\n",
    "\n",
    "    def __add__(self,others):\n",
    "        m1 = self.m1 + others.m1\n",
    "        m2 = self.m2 + others.m2\n",
    "        s3 = student(m1,m2)\n",
    "        return s3\n",
    "        \n",
    "    def __gt__(self,others):\n",
    "        s1 = self.m1 + self.m2\n",
    "        s2 = others.m1 + others.m2\n",
    "        if s1 > s2: return True\n",
    "        else: return False \n",
    "\n",
    "s1 = student(58,69)\n",
    "s2 = student(60,65)\n",
    "print(s1)\n",
    "print(s2)"
   ]
  },
  {
   "cell_type": "code",
   "execution_count": 33,
   "metadata": {},
   "outputs": [
    {
     "name": "stdout",
     "output_type": "stream",
     "text": [
      "9\n",
      "(58, 69)\n",
      "(60, 65)\n"
     ]
    },
    {
     "ename": "TypeError",
     "evalue": "__str__ returned non-string (type tuple)",
     "output_type": "error",
     "traceback": [
      "\u001b[1;31m---------------------------------------------------------------------------\u001b[0m",
      "\u001b[1;31mTypeError\u001b[0m                                 Traceback (most recent call last)",
      "\u001b[1;32m~\\AppData\\Local\\Temp/ipykernel_18376/3003127706.py\u001b[0m in \u001b[0;36m<module>\u001b[1;34m\u001b[0m\n\u001b[0;32m     26\u001b[0m \u001b[0mprint\u001b[0m\u001b[1;33m(\u001b[0m\u001b[0ms1\u001b[0m\u001b[1;33m.\u001b[0m\u001b[0m__str__\u001b[0m\u001b[1;33m(\u001b[0m\u001b[1;33m)\u001b[0m\u001b[1;33m)\u001b[0m\u001b[1;33m\u001b[0m\u001b[1;33m\u001b[0m\u001b[0m\n\u001b[0;32m     27\u001b[0m \u001b[0mprint\u001b[0m\u001b[1;33m(\u001b[0m\u001b[0ms2\u001b[0m\u001b[1;33m.\u001b[0m\u001b[0m__str__\u001b[0m\u001b[1;33m(\u001b[0m\u001b[1;33m)\u001b[0m\u001b[1;33m)\u001b[0m\u001b[1;33m\u001b[0m\u001b[1;33m\u001b[0m\u001b[0m\n\u001b[1;32m---> 28\u001b[1;33m \u001b[0mprint\u001b[0m\u001b[1;33m(\u001b[0m\u001b[0ms1\u001b[0m\u001b[1;33m)\u001b[0m\u001b[1;33m\u001b[0m\u001b[1;33m\u001b[0m\u001b[0m\n\u001b[0m",
      "\u001b[1;31mTypeError\u001b[0m: __str__ returned non-string (type tuple)"
     ]
    }
   ],
   "source": [
    "class student:\n",
    "    def __init__(self,m1,m2):\n",
    "        self.m1 = m1\n",
    "        self.m2 = m2\n",
    "\n",
    "    def __add__(self,others):\n",
    "        m1 = self.m1 + others.m1\n",
    "        m2 = self.m2 + others.m2\n",
    "        s3 = student(m1,m2)\n",
    "        return s3\n",
    "        \n",
    "    def __gt__(self,others):\n",
    "        s1 = self.m1 + self.m2\n",
    "        s2 = others.m1 + others.m2\n",
    "        if s1 > s2: return True\n",
    "        else: return False \n",
    "\n",
    "    def __str__(self):\n",
    "        return self.m1, self.m2\n",
    "        \n",
    "s1 = student(58,69)\n",
    "s2 = student(60,65)\n",
    "\n",
    "a = 9\n",
    "print(a.__str__())\n",
    "print(s1.__str__())\n",
    "print(s2.__str__())"
   ]
  },
  {
   "cell_type": "code",
   "execution_count": 31,
   "metadata": {},
   "outputs": [
    {
     "name": "stdout",
     "output_type": "stream",
     "text": [
      "9\n",
      "58 69\n",
      "60 65\n",
      "58 69\n",
      "60 65\n"
     ]
    }
   ],
   "source": [
    "class student:\n",
    "    def __init__(self,m1,m2):\n",
    "        self.m1 = m1\n",
    "        self.m2 = m2\n",
    "\n",
    "    def __add__(self,others):\n",
    "        m1 = self.m1 + others.m1\n",
    "        m2 = self.m2 + others.m2\n",
    "        s3 = student(m1,m2)\n",
    "        return s3\n",
    "        \n",
    "    def __gt__(self,others):\n",
    "        s1 = self.m1 + self.m2\n",
    "        s2 = others.m1 + others.m2\n",
    "        if s1 > s2: return True\n",
    "        else: return False \n",
    "\n",
    "    def __str__(self):\n",
    "        return '{} {}'.format(self.m1, self.m2)\n",
    "        \n",
    "s1 = student(58,69)\n",
    "s2 = student(60,65)\n",
    "\n",
    "a = 9\n",
    "print(a.__str__())\n",
    "print(s1.__str__())\n",
    "print(s2.__str__())\n",
    "print(s1)\n",
    "print(s2)"
   ]
  }
 ],
 "metadata": {
  "interpreter": {
   "hash": "f23faf4bfe871c203c8bec80520af5927fc7cb1ae3bd834ddf554ee587ad1c05"
  },
  "kernelspec": {
   "display_name": "Python 3.8.7 64-bit",
   "language": "python",
   "name": "python3"
  },
  "language_info": {
   "codemirror_mode": {
    "name": "ipython",
    "version": 3
   },
   "file_extension": ".py",
   "mimetype": "text/x-python",
   "name": "python",
   "nbconvert_exporter": "python",
   "pygments_lexer": "ipython3",
   "version": "3.8.7"
  },
  "orig_nbformat": 4
 },
 "nbformat": 4,
 "nbformat_minor": 2
}

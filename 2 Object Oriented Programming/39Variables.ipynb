{
 "cells": [
  {
   "cell_type": "code",
   "execution_count": null,
   "metadata": {},
   "outputs": [],
   "source": [
    "# Types Of variables:\n",
    "# There are 2 types of variables present - Class/static variables and Instance variables"
   ]
  },
  {
   "cell_type": "code",
   "execution_count": null,
   "metadata": {},
   "outputs": [],
   "source": [
    "# All objects share class or static variables. \n",
    "\n",
    "# An instance or non-static variables are different for different objects (every object has a copy).\n",
    "\n",
    "# For example, let a Computer Science Student be represented by class CSStudent. The class may have a static variable whose value is “cse” for all objects. \n",
    "\n",
    "# And class may also have non-static members like name and roll. In C++ and Java, we can use static keywords to make a variable a class variable. The variables which don’t have a preceding static keyword are instance variables..."
   ]
  },
  {
   "cell_type": "code",
   "execution_count": null,
   "metadata": {},
   "outputs": [],
   "source": [
    "# The Python approach is simple; it doesn’t require a static keyword. \n",
    "\n",
    "# All variables which are assigned a value in the class declaration are class variables. And variables that are assigned values inside methods are instance variables."
   ]
  },
  {
   "cell_type": "code",
   "execution_count": null,
   "metadata": {},
   "outputs": [],
   "source": [
    "class Car:\n",
    "    wheels = 4            # STATIC/CLASS VARIABLE 1 (common for all)\n",
    "    def __init__(self):\n",
    "        self.mil = 10     # INSTANCE VARIABLE 1 (If we pass args then it can different for all object)\n",
    "        self.com = \"Audi\" # INSTANCE VARIABLE 2 (If we pass args then it can different for all object)\n",
    "c1 = Car()\n",
    "c2 = Car()\n",
    "c1.mil = 80\n",
    "print(c1.com, c1.mil, c1.wheels)\n",
    "print(c2.com, c2.mil, c2.wheels)"
   ]
  },
  {
   "cell_type": "code",
   "execution_count": null,
   "metadata": {},
   "outputs": [],
   "source": [
    "# NameSpace:\n",
    "    # Namespace is an area where you create and store object/variable..There are two types of namespaces like class namespace, object/ instance Namespace\n",
    "\n",
    "# In the above code as we write instance variables inside constructor as mil and com are lies inside instance namespace or object namespace\n",
    "\n",
    "# In the above code as we write Class variables inside Class outside any method or constructor as Wheel are lies inside Class namespace..."
   ]
  }
 ],
 "metadata": {
  "language_info": {
   "name": "python"
  },
  "orig_nbformat": 4
 },
 "nbformat": 4,
 "nbformat_minor": 2
}

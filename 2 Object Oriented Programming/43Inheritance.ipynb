{
 "cells": [
  {
   "cell_type": "code",
   "execution_count": null,
   "metadata": {},
   "outputs": [],
   "source": [
    "# TOPIC ==== Constructor in Inheritance or use of MRO(Method Resolution Order)"
   ]
  },
  {
   "cell_type": "code",
   "execution_count": null,
   "metadata": {},
   "outputs": [],
   "source": [
    "class A:\n",
    "    def __init__(self):\n",
    "        print(\"In A Init\")\n",
    "    def feature1(self):\n",
    "        print(\"Feature 1 is working\")\n",
    "    def feature2(self):\n",
    "        print(\"Feature 2 is working\")\n",
    "class B(A):\n",
    "    def feature1(self):\n",
    "        print(\"Feature 1 is working\")\n",
    "    def feature4(self):\n",
    "        print(\"Feature 4 is working\")\n",
    "a1 = B()\n",
    "# It is normal, when we create the object of any class then it will search its constructor, if it is found then it is ok but if that was not found then it will call the parent class constructor"
   ]
  },
  {
   "cell_type": "code",
   "execution_count": null,
   "metadata": {},
   "outputs": [],
   "source": [
    "# Remember One Important thing, that is Sub class can aceess all the features of super class But Super class can not access any features of sub class"
   ]
  },
  {
   "cell_type": "code",
   "execution_count": null,
   "metadata": {},
   "outputs": [],
   "source": [
    "# If you create object of sub class, it will first try find out init of sub class if it is not found then it will call init of super class...."
   ]
  },
  {
   "cell_type": "code",
   "execution_count": null,
   "metadata": {},
   "outputs": [],
   "source": [
    "class A:\n",
    "    def __init__(self):\n",
    "        print(\"In A Init\")\n",
    "    def feature1(self):\n",
    "        print(\"Feature 1 is working\")\n",
    "    def feature2(self):\n",
    "        print(\"Feature 2 is working\")\n",
    "class B(A):\n",
    "    def __init__(self):\n",
    "        print(\"In B Init\")\n",
    "    def feature1(self):\n",
    "        print(\"Feature 1 is working\")\n",
    "    def feature4(self):\n",
    "        print(\"Feature 4 is working\")\n",
    "a1 = B()\n",
    "# Now it is calling its constructor bcoz see, its here..."
   ]
  },
  {
   "cell_type": "code",
   "execution_count": null,
   "metadata": {},
   "outputs": [],
   "source": [
    "# What if you want to call the parent class constructor also with sub class constructor then use super keyword like below-\n",
    "class A:\n",
    "    def __init__(self):\n",
    "        print(\"In A Init\")\n",
    "    def feature1(self):\n",
    "        print(\"Feature 1 is working\")\n",
    "    def feature2(self):\n",
    "        print(\"Feature 2 is working\")\n",
    "class B(A):\n",
    "    def __init__(self):\n",
    "        super().__init__()\n",
    "        print(\"In B Init\")\n",
    "    def feature1(self):\n",
    "        print(\"Feature 1 is working\")\n",
    "    def feature4(self):\n",
    "        print(\"Feature 4 is working\")\n",
    "a1 = B()\n",
    "# So basically when you create object of sub class it will call init of sub class first...if you have call super then it will first call init of super class then call init of sub class..."
   ]
  },
  {
   "cell_type": "code",
   "execution_count": null,
   "metadata": {},
   "outputs": [],
   "source": [
    "class A:\n",
    "    def __init__(self):\n",
    "        print(\"In A Init\")\n",
    "    def feature1(self):\n",
    "        print(\"Feature 1 is working\")\n",
    "    def feature2(self):\n",
    "        print(\"Feature 2 is working\")\n",
    "class B:\n",
    "    def __init__(self):\n",
    "        super().__init__()\n",
    "        print(\"In B Init\")\n",
    "    def feature3(self):\n",
    "        print(\"Feature 3 is working\")\n",
    "    def feature4(self):\n",
    "        print(\"Feature 4 is working\")\n",
    "class C(A,B):\n",
    "    def __init__(self):\n",
    "        print(\"In C Init\")\n",
    "a1 = C()"
   ]
  },
  {
   "cell_type": "code",
   "execution_count": null,
   "metadata": {},
   "outputs": [],
   "source": [
    "# Take a example of multiple inheritance, when we are inheriting a class from two other classes then suppose all three containing constructors, if you create object of sub class and calling super in subclass constructor then...which constructor will called??"
   ]
  },
  {
   "cell_type": "code",
   "execution_count": null,
   "metadata": {},
   "outputs": [],
   "source": [
    "class A:\n",
    "    def __init__(self):\n",
    "        print(\"In A Init\")\n",
    "    def feature1(self):\n",
    "        print(\"Feature 1 is working\")\n",
    "    def feature2(self):\n",
    "        print(\"Feature 2 is working\")\n",
    "class B:\n",
    "    def __init__(self):\n",
    "        super().__init__()\n",
    "        print(\"In B Init\")\n",
    "    def feature3(self):\n",
    "        print(\"Feature 3 is working\")\n",
    "    def feature4(self):\n",
    "        print(\"Feature 4 is working\")\n",
    "class C(A,B):\n",
    "    def __init__(self):\n",
    "        super().__init__()\n",
    "        print(\"In C Init\")\n",
    "a1 = C()\n",
    "# As we see it will execute a class constructor thats because it will travel from left to right"
   ]
  },
  {
   "cell_type": "code",
   "execution_count": 1,
   "metadata": {},
   "outputs": [
    {
     "name": "stdout",
     "output_type": "stream",
     "text": [
      "In A Init\n",
      "In C Init\n",
      "Feature 2 is working\n"
     ]
    }
   ],
   "source": [
    "class A:\n",
    "    def __init__(self):\n",
    "        print(\"In A Init\")\n",
    "    def feature1(self):\n",
    "        print(\"Feature 1 is working\")\n",
    "    def feature2(self):\n",
    "        print(\"Feature 2 is working\")\n",
    "class B:\n",
    "    def __init__(self):\n",
    "        super().__init__()\n",
    "        print(\"In B Init\")\n",
    "    def feature3(self):\n",
    "        print(\"Feature 3 is working\")\n",
    "    def feature4(self):\n",
    "        print(\"Feature 4 is working\")\n",
    "class C(A,B):\n",
    "    def __init__(self):\n",
    "        super().__init__()\n",
    "        print(\"In C Init\")\n",
    "    def feat(self):\n",
    "        super().feature2()\n",
    "a1 = C()\n",
    "a1.feat()"
   ]
  }
 ],
 "metadata": {
  "interpreter": {
   "hash": "f23faf4bfe871c203c8bec80520af5927fc7cb1ae3bd834ddf554ee587ad1c05"
  },
  "kernelspec": {
   "display_name": "Python 3.8.7 64-bit",
   "language": "python",
   "name": "python3"
  },
  "language_info": {
   "codemirror_mode": {
    "name": "ipython",
    "version": 3
   },
   "file_extension": ".py",
   "mimetype": "text/x-python",
   "name": "python",
   "nbconvert_exporter": "python",
   "pygments_lexer": "ipython3",
   "version": "3.8.7"
  },
  "orig_nbformat": 4
 },
 "nbformat": 4,
 "nbformat_minor": 2
}

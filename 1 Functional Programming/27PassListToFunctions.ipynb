{
 "cells": [
  {
   "cell_type": "code",
   "execution_count": null,
   "metadata": {},
   "outputs": [],
   "source": [
    "# PASS LIST TO PYTHON\n",
    "\n",
    "def count(lst):\n",
    "    even = 0\n",
    "    odd = 0\n",
    "    for i in lst:\n",
    "        if i%2==0: even+=1\n",
    "        else: odd+=1\n",
    "    return even,odd\n",
    "lst = [20,25,14,19,16,24,28,47,26]\n",
    "even,odd = count(lst)\n",
    "print(even)\n",
    "print(odd)"
   ]
  },
  {
   "cell_type": "code",
   "execution_count": null,
   "metadata": {},
   "outputs": [],
   "source": [
    "# PASS LIST TO PYTHON...IN THIS CODE PART WE ARE PRINTING THE VALUES OF EVEN AND ODD WITH THE HELP OF FORMAT FUNCTION THAT TAKES TWO ARGUMENTS THAT IS GIVEN BELOW...\n",
    "\n",
    "def count(lst):\n",
    "    even = 0\n",
    "    odd = 0\n",
    "    for i in lst:\n",
    "        if i%2==0: even+=1\n",
    "        else: odd+=1\n",
    "    return even,odd\n",
    "lst = [20,25,14,19,16,24,28,47,26]\n",
    "even,odd = count(lst)\n",
    "print(\"Even : {} And Odd : {}\".format(even,odd))"
   ]
  }
 ],
 "metadata": {
  "interpreter": {
   "hash": "f23faf4bfe871c203c8bec80520af5927fc7cb1ae3bd834ddf554ee587ad1c05"
  },
  "kernelspec": {
   "display_name": "Python 3.8.7 64-bit",
   "language": "python",
   "name": "python3"
  },
  "language_info": {
   "codemirror_mode": {
    "name": "ipython",
    "version": 3
   },
   "file_extension": ".py",
   "mimetype": "text/x-python",
   "name": "python",
   "nbconvert_exporter": "python",
   "pygments_lexer": "ipython3",
   "version": "3.8.7"
  },
  "orig_nbformat": 4
 },
 "nbformat": 4,
 "nbformat_minor": 2
}

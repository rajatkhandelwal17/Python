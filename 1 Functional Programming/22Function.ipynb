{
 "cells": [
  {
   "cell_type": "code",
   "execution_count": null,
   "metadata": {},
   "outputs": [],
   "source": [
    "def update(x):\n",
    "    print(id(x))\n",
    "    x = 100\n",
    "    print(id(x))\n",
    "\n",
    "a = 200\n",
    "print(id(a))\n",
    "update(a)\n",
    "print(a)\n",
    "print(id(a))"
   ]
  },
  {
   "cell_type": "code",
   "execution_count": null,
   "metadata": {},
   "outputs": [],
   "source": [
    "def update(lst):\n",
    "    print(id(lst))\n",
    "    lst[1] = 100\n",
    "    print(lst)\n",
    "    print(id(lst))\n",
    "\n",
    "lst = [50,20,150]\n",
    "print(id(lst))\n",
    "update(lst)\n",
    "print(lst)\n",
    "print(id(lst))"
   ]
  }
 ],
 "metadata": {
  "kernelspec": {
   "display_name": "Python 3.11.0 64-bit",
   "language": "python",
   "name": "python3"
  },
  "language_info": {
   "codemirror_mode": {
    "name": "ipython",
    "version": 3
   },
   "file_extension": ".py",
   "mimetype": "text/x-python",
   "name": "python",
   "nbconvert_exporter": "python",
   "pygments_lexer": "ipython3",
   "version": "3.11.0"
  },
  "orig_nbformat": 4,
  "vscode": {
   "interpreter": {
    "hash": "1c5ea0c728d2326585efb853d46e831422dbe7c30fb92f11700ae16f56b4f3c9"
   }
  }
 },
 "nbformat": 4,
 "nbformat_minor": 2
}

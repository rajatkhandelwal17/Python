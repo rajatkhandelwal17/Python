{
 "cells": [
  {
   "cell_type": "code",
   "execution_count": null,
   "metadata": {},
   "outputs": [],
   "source": [
    "# FIBONACCI SERIES UPTO N TERMS \n",
    "\n",
    "def fib(n):\n",
    "    a = 0\n",
    "    b = 1\n",
    "    if n==1: print(a)\n",
    "    else:\n",
    "        print(a)\n",
    "        print(b)\n",
    "        for i in range(2,n):\n",
    "            c = a + b\n",
    "            a = b\n",
    "            b = c\n",
    "            print(c)\n",
    "fib(5)"
   ]
  }
 ],
 "metadata": {
  "interpreter": {
   "hash": "f23faf4bfe871c203c8bec80520af5927fc7cb1ae3bd834ddf554ee587ad1c05"
  },
  "kernelspec": {
   "display_name": "Python 3.8.7 64-bit",
   "language": "python",
   "name": "python3"
  },
  "language_info": {
   "codemirror_mode": {
    "name": "ipython",
    "version": 3
   },
   "file_extension": ".py",
   "mimetype": "text/x-python",
   "name": "python",
   "nbconvert_exporter": "python",
   "pygments_lexer": "ipython3",
   "version": "3.8.7"
  },
  "orig_nbformat": 4
 },
 "nbformat": 4,
 "nbformat_minor": 2
}

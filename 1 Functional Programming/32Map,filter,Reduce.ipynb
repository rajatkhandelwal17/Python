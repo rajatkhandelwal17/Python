{
 "cells": [
  {
   "cell_type": "code",
   "execution_count": null,
   "metadata": {},
   "outputs": [],
   "source": [
    "# The map(), filter() and reduce() functions bring a bit of functional programming to Python. All three of these are convenience functions that can be replaced with List Comprehensions or loops, but provide a more elegant and short-hand approach to some problems."
   ]
  },
  {
   "cell_type": "code",
   "execution_count": null,
   "metadata": {},
   "outputs": [],
   "source": [
    "def is_even(n):\n",
    "    return n%2==0\n",
    "nums = [3,2,6,8,4,6,2,9]\n",
    "evens = list(filter(is_even, nums))\n",
    "print(evens)"
   ]
  },
  {
   "cell_type": "code",
   "execution_count": null,
   "metadata": {},
   "outputs": [],
   "source": [
    "nums = [3,2,6,8,4,6,2,9]\n",
    "evens = list(filter(lambda n: n%2==0, nums))\n",
    "print(evens)"
   ]
  },
  {
   "cell_type": "code",
   "execution_count": null,
   "metadata": {},
   "outputs": [],
   "source": [
    "def update(n):\n",
    "    return n+2\n",
    "nums = [3,2,6,8,4,6,2,9]\n",
    "evens = list(filter (lambda n:n%2 == 0,nums))\n",
    "doubles = list(map(update, evens))\n",
    "print(evens)"
   ]
  },
  {
   "cell_type": "code",
   "execution_count": null,
   "metadata": {},
   "outputs": [],
   "source": [
    "nums = [3,2,6,8,4,6,2,9]\n",
    "evens = list(filter(lambda n: n%2==0, nums))\n",
    "doubles = list(map(lambda n: n+2,evens))\n",
    "print(doubles)"
   ]
  },
  {
   "cell_type": "code",
   "execution_count": null,
   "metadata": {},
   "outputs": [],
   "source": [
    "nums = [3,2,6,8,4,6,2,9]\n",
    "evens = list(filter(lambda n: n%2==0, nums))\n",
    "doubles = list(map(lambda n: n*2,evens))\n",
    "print(doubles)"
   ]
  },
  {
   "cell_type": "code",
   "execution_count": null,
   "metadata": {},
   "outputs": [],
   "source": [
    "from functools import reduce\n",
    "def add_all(a,b):\n",
    "    return a+b\n",
    "\n",
    "nums = [3,2,6,8,4,6,2,9]\n",
    "evens = list(filter(lambda n: n%2==0, nums))\n",
    "doubles = list(map(lambda n: n*2,evens))\n",
    "\n",
    "sum = reduce(reduce(add_all, doubles))\n",
    "print(doubles)"
   ]
  },
  {
   "cell_type": "code",
   "execution_count": null,
   "metadata": {},
   "outputs": [],
   "source": [
    "from functools import reduce\n",
    "def add_all(a,b):\n",
    "    return a+b\n",
    "\n",
    "nums = [3,2,6,8,4,6,2,9]\n",
    "evens = list(filter(lambda n: n%2==0, nums))\n",
    "doubles = list(map(lambda n: n*2,evens))\n",
    "\n",
    "# After aunty not gibing toffeee\n",
    "sum = reduce(reduce(add_all, doubles))\n",
    "print(doubles)"
   ]
  }
 ],
 "metadata": {
  "language_info": {
   "name": "python"
  },
  "orig_nbformat": 4
 },
 "nbformat": 4,
 "nbformat_minor": 2
}

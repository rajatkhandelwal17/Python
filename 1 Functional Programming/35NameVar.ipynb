{
 "cells": [
  {
   "cell_type": "code",
   "execution_count": null,
   "metadata": {},
   "outputs": [],
   "source": [
    "# __name__ = __main__"
   ]
  },
  {
   "cell_type": "code",
   "execution_count": null,
   "metadata": {},
   "outputs": [],
   "source": [
    "# Since there is no main() function in Python, when the command to run a python program is given to the interpreter, the code that is at level 0 indentation is to be executed. However, before doing that, it will define a few special variables. \n",
    "\n",
    "# __name__ is one such special variable. If the source file is executed as the main program, the interpreter sets the __name__ variable to have a value “__main__”. If this file is being imported from another module, __name__ will be set to the module’s name.\n",
    "\n",
    "# __name__ is a built-in variable which evaluates to the name of the current module. Thus it can be used to check whether the current script is being run on its own or being imported somewhere else by combining it with if statement, as shown below."
   ]
  },
  {
   "cell_type": "code",
   "execution_count": null,
   "metadata": {},
   "outputs": [],
   "source": [
    "# File1.py\n",
    "\n",
    "print (\"File1 __name__ = %s\" %__name__)\n",
    "\n",
    "if __name__ == \"__main__\":\n",
    "\tprint (\"File1 is being run directly\")\n",
    "else:\n",
    "\tprint (\"File1 is being imported\")"
   ]
  },
  {
   "cell_type": "code",
   "execution_count": null,
   "metadata": {},
   "outputs": [],
   "source": [
    "# File2.py\n",
    "\n",
    "# import OOPS.ipynb\n",
    "\n",
    "print (\"File2 __name__ = %s\" %__name__)\n",
    "\n",
    "if __name__ == \"__main__\":\n",
    "\tprint (\"File2 is being run directly\")\n",
    "else:\n",
    "\tprint (\"File2 is being imported\")"
   ]
  },
  {
   "cell_type": "code",
   "execution_count": null,
   "metadata": {},
   "outputs": [],
   "source": [
    "# Now the interpreter is given the command to run File1.py.\n",
    "\n",
    "# python File1.py\n",
    "# Output :\n",
    "# File1 __name__ = __main__\n",
    "# File1 is being run directly\n",
    "\n",
    "\n",
    "# And then File2.py is run.\n",
    "\n",
    "# python File2.py\n",
    "# Output :\n",
    "# File1 __name__ = File1\n",
    "# File1 is being imported\n",
    "# File2 __name__ = __main__\n",
    "# File2 is being run directly"
   ]
  },
  {
   "cell_type": "code",
   "execution_count": null,
   "metadata": {},
   "outputs": [],
   "source": [
    "# As seen above, when File1.py is run directly, the interpreter sets the __name__ variable as __main__ and when it is run through File2.py by importing, the __name__ variable is set as the name of the python script, i.e. File1. Thus, it can be said that if __name__ == “__main__” is the part of the program that runs when the script is run from the command line using a command like python File1.py."
   ]
  }
 ],
 "metadata": {
  "interpreter": {
   "hash": "f23faf4bfe871c203c8bec80520af5927fc7cb1ae3bd834ddf554ee587ad1c05"
  },
  "kernelspec": {
   "display_name": "Python 3.8.7 64-bit",
   "language": "python",
   "name": "python3"
  },
  "language_info": {
   "codemirror_mode": {
    "name": "ipython",
    "version": 3
   },
   "file_extension": ".py",
   "mimetype": "text/x-python",
   "name": "python",
   "nbconvert_exporter": "python",
   "pygments_lexer": "ipython3",
   "version": "3.8.7"
  },
  "orig_nbformat": 4
 },
 "nbformat": 4,
 "nbformat_minor": 2
}

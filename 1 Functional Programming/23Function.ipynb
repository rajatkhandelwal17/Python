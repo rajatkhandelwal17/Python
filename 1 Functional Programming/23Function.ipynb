{
 "cells": [
  {
   "cell_type": "code",
   "execution_count": null,
   "metadata": {},
   "outputs": [],
   "source": [
    "# WHEN WE DEFINE A FUNCTION, AND PASS ARGUMENTS THEN THOSE ARGUMENTS ARE KNOWN AS FORMAL PARAMETERS...WHEREAS THE PARAMETERS THAT ARE PASSED WHILE CALLING THE FUNCTION THAT IS KNOWN AS ACTUAL PARAMETERS..."
   ]
  },
  {
   "cell_type": "code",
   "execution_count": null,
   "metadata": {},
   "outputs": [],
   "source": [
    "def add(a,b):\n",
    "    c = a+b\n",
    "    print(c)\n",
    "add(5,6)"
   ]
  },
  {
   "cell_type": "code",
   "execution_count": null,
   "metadata": {},
   "outputs": [],
   "source": [
    "# IN ABOVE CODE (A,B) IS FORMAL PARAMETERS WHEREAS (5,6) IS ACTUAL PARAMETERS..SO BASICALLY THERE ARE FOUR TYPES OF ACTUAL PARAMETERS/ARGUMENTS ARE::  1:POSITION ARGUMENT...2: KEYWORD ARGUMENT...3:DEFAULT ARGUMENT...4: VARIABLE LENGTH ARGUMENTS "
   ]
  },
  {
   "cell_type": "code",
   "execution_count": null,
   "metadata": {},
   "outputs": [],
   "source": [
    "# POSITIONAL ARGUMNETS: WHEN WE CALL THIS FUNCTION PERSON THEN BY PASSING ARGUMENTS IT IS BASICALLY ON THE BASIS OF INDEXING OR POSITIONS...SO IT IS POSITIONAL ARGUMENTS\n",
    "\n",
    "def person(name,age):\n",
    "    print(name)\n",
    "    print(age)\n",
    "person('Rajat', 28)"
   ]
  },
  {
   "cell_type": "code",
   "execution_count": null,
   "metadata": {},
   "outputs": [],
   "source": [
    "# READ THE CODE THEN AS WE PASS 28 BEFORE THEN THIS 28 WILL ASSIGNED TO NAME AND 'Rajat' IS PASSED TO AGE..WHEN WE DO OPERATION WITH AGE THEN THIS WILL THROW ERROR SO THAT'S WHY POSITIONAL ARGUMENTS OR POSITIONS ARE IMPORTANT...\n",
    "\n",
    "def person(name,age):\n",
    "    print(name)\n",
    "    print(age-5)\n",
    "person(28, 'Rajat')"
   ]
  },
  {
   "cell_type": "code",
   "execution_count": null,
   "metadata": {},
   "outputs": [],
   "source": [
    "# KEYWORD ARGUMENTS ARE THOSE ARGUMENTS...WHICH WHEN WE CALL FUNCTION THEN WE WRITE THE NAME OF ARGUMENT ALSO...\n",
    "\n",
    "def person(name,age):\n",
    "    print(name)\n",
    "    print(age)\n",
    "person(age = 28, name = 'Rajat')"
   ]
  },
  {
   "cell_type": "code",
   "execution_count": null,
   "metadata": {},
   "outputs": [],
   "source": [
    "# SUPPOSE WHILE CALLING THE FUNCTION IF USER DOES NOT WANT TO OR DO NOT GIVING ARGUMENTS THEN WE CAN PASS THE DEFAULT VALUES TO THOSE ARGUMENTS WHILE DEFINING THAT FUNCTION ALSO...SO THOSE ARGUMENTS ARE CALLED DEFAULT ARGUMENTS...\n",
    "\n",
    "def person(name,age=30):\n",
    "    print(name)\n",
    "    print(age)\n",
    "person('Rajat')\n",
    "person('Jyoti', 26)"
   ]
  },
  {
   "cell_type": "code",
   "execution_count": null,
   "metadata": {},
   "outputs": [],
   "source": [
    "def add(a,b):\n",
    "    c = a+b\n",
    "    print(c)\n",
    "add(5,6)"
   ]
  },
  {
   "cell_type": "code",
   "execution_count": null,
   "metadata": {},
   "outputs": [],
   "source": [
    "# WHEN THE USER IS NOT SURE ABOUT THE NUMBER OF ARGUMENTS WHETHER IT MAY BE 2 OR 3 OR 4 OR N..THEN IN THAT CASE WE CAN USE VARIABLE LENGTH ARGUMENTS LIKE WITH *..IT MEANS NUMBER OF ARGUMENTS AND THEN WE CAN PERFORM OPERATIONS WHAT YOU WANT TO DO..\n",
    "\n",
    "# def add(a,*b):\n",
    "#     c = a+b\n",
    "#     print(c)\n",
    "# add(5,6,4,6)\n",
    "\n",
    "# ABOVE CODE WILL THROW ERROR BECAUSE WE CAN NOT DIRECTLY ADD THE INTEGER OR NUMBER WITH THE TUPLE...REMEMBER WE HAVE TO USE LOOPING IN THESE TYPE OF CASES..\n",
    "\n",
    "def add(a,*b):\n",
    "    c = a\n",
    "    for i in b:\n",
    "        c = c+i\n",
    "    print(c)\n",
    "add(5,6,4,6)\n",
    "\n",
    "def add(*b):\n",
    "    c = 0\n",
    "    for i in b:\n",
    "        c = c+i\n",
    "    print(c)\n",
    "add(5,6,4,6)"
   ]
  }
 ],
 "metadata": {
  "interpreter": {
   "hash": "f23faf4bfe871c203c8bec80520af5927fc7cb1ae3bd834ddf554ee587ad1c05"
  },
  "kernelspec": {
   "display_name": "Python 3.8.7 64-bit",
   "language": "python",
   "name": "python3"
  },
  "language_info": {
   "codemirror_mode": {
    "name": "ipython",
    "version": 3
   },
   "file_extension": ".py",
   "mimetype": "text/x-python",
   "name": "python",
   "nbconvert_exporter": "python",
   "pygments_lexer": "ipython3",
   "version": "3.8.7"
  },
  "orig_nbformat": 4
 },
 "nbformat": 4,
 "nbformat_minor": 2
}

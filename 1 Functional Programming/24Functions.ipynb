{
 "cells": [
  {
   "cell_type": "code",
   "execution_count": null,
   "metadata": {},
   "outputs": [],
   "source": [
    "def person(name, *data):\n",
    "    print(name)\n",
    "    print(data)\n",
    "\n",
    "person('Rajat',28,'Jaipur', 9648856267)"
   ]
  },
  {
   "cell_type": "code",
   "execution_count": null,
   "metadata": {},
   "outputs": [],
   "source": [
    "# IN ABOVE CODE WE SEE THE TUPLE OR DATA..BUT WE CAN NOT DEFINE WHAT 28 IS...IS THIS AGE R IS THIS NUMBER...WHAT IS MUMBAI WORKPLACE OR HOME...YOU NEVER KNOW RIGHT...SO THERE IS A CONCEPT CALLED KEYWORD VARIABLE LENGTH ARGUMENTS THAT WORKS LIKE---\n",
    "\n",
    "def person(name, **data):\n",
    "    print(name)\n",
    "    print(data)\n",
    "\n",
    "person('Rajat',age=28,Home='Jaipur', Contact=9648856267)\n",
    "\n",
    "# NOTE THAT IN THIS WE HAVE TO USE DOUBLE STREAK WHILE PASSING ARGUMENTS IN DEFINING FUNCTIONS..."
   ]
  },
  {
   "cell_type": "code",
   "execution_count": null,
   "metadata": {},
   "outputs": [],
   "source": [
    "def person(name, **data):\n",
    "    print(name)\n",
    "    for i,j in data.items():\n",
    "        print(i,j)\n",
    "\n",
    "person('Rajat',Age=28,Home='Jaipur', Contact=9648856267)"
   ]
  }
 ],
 "metadata": {
  "interpreter": {
   "hash": "f23faf4bfe871c203c8bec80520af5927fc7cb1ae3bd834ddf554ee587ad1c05"
  },
  "kernelspec": {
   "display_name": "Python 3.8.7 64-bit",
   "language": "python",
   "name": "python3"
  },
  "language_info": {
   "codemirror_mode": {
    "name": "ipython",
    "version": 3
   },
   "file_extension": ".py",
   "mimetype": "text/x-python",
   "name": "python",
   "nbconvert_exporter": "python",
   "pygments_lexer": "ipython3",
   "version": "3.8.7"
  },
  "orig_nbformat": 4
 },
 "nbformat": 4,
 "nbformat_minor": 2
}

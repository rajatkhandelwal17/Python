{
 "cells": [
  {
   "cell_type": "code",
   "execution_count": null,
   "metadata": {},
   "outputs": [],
   "source": [
    "# NORMAL VARIABLE\n",
    "\n",
    "a = 10\n",
    "print(a)"
   ]
  },
  {
   "cell_type": "code",
   "execution_count": null,
   "metadata": {},
   "outputs": [],
   "source": [
    "# GLOBAL VARIABLE\n",
    "\n",
    "a = 10\n",
    "def something(a):\n",
    "    print(\"INSIDE: \",a)\n",
    "something(a)\n",
    "print(\"OUTSIDE: \",a)"
   ]
  },
  {
   "cell_type": "code",
   "execution_count": null,
   "metadata": {},
   "outputs": [],
   "source": [
    "# LOCAL VARIABLE...IT WILL SHOW ERROR IF YOU TRIES TO ACCESS THE VARIABLE THAT IS DECLARED IN A LOCAL FUNCTION\n",
    "\n",
    "a = 10\n",
    "def something(a):\n",
    "    a = 15\n",
    "    b = 100\n",
    "    print(a)\n",
    "something(a)\n",
    "print(a)\n",
    "# print(b)"
   ]
  },
  {
   "cell_type": "code",
   "execution_count": null,
   "metadata": {},
   "outputs": [],
   "source": [
    "# IF YOU WANT TO CHANGE THE VALUE OF GLOBAL VARIABLE FROM THE FUNCTION THEN WE MUST USE THE KEYWORD 'GLOBAL'\n",
    "\n",
    "a = 10\n",
    "def something():\n",
    "    global a\n",
    "    a = a - 5\n",
    "    print(\"INSIDE: \",a)\n",
    "something()\n",
    "print(\"OUTSIDE: \",a)"
   ]
  },
  {
   "cell_type": "code",
   "execution_count": null,
   "metadata": {},
   "outputs": [],
   "source": [
    "# IF YOU WANT TO USE GLOBAL AND LOCAL VARIABLES AT THE SAME FUNCTION THAT YOU CAN'T DO THIS IN NORMAL CODE...SO WE HAVE TO USE FUNCTION 'GLOBALS()' THAT RETURNS THE ADDRESS OF ALL THE GLOBAL VARIABLES...IF YOU WANT TO USE THE GLOBAL VARIABLE OF THE PARTICULAR NAME THEN YOU SHOULD WRITE GLOBALS()['a']...\n",
    "\n",
    "a = 10\n",
    "print(id(a))\n",
    "def something():\n",
    "    a = 9\n",
    "    x = globals()['a']\n",
    "    print(id(x))\n",
    "    print(\"INSIDE: \", a)\n",
    "something()\n",
    "print(\"OUTSIDE:\" ,a)"
   ]
  },
  {
   "cell_type": "code",
   "execution_count": null,
   "metadata": {},
   "outputs": [],
   "source": [
    "# REMEMBER IN THE ABOVE CODE IF YOU CHANGE THE VALUE OF X THEN IT WILL CREATE NEW VARIABLE..SO IF YOU WANT TO CHANGE THE VALUE OF GLOBAL VARIABLE THEN...globals()['a'] = 15\n",
    "\n",
    "a = 10\n",
    "print(id(a))\n",
    "def something():\n",
    "    a = 9\n",
    "    x = globals()['a']\n",
    "    print(id(x))\n",
    "    print(\"INSIDE: \", a)\n",
    "    globals()['a'] = 15\n",
    "something()\n",
    "print(\"OUTSIDE:\" ,a)"
   ]
  }
 ],
 "metadata": {
  "interpreter": {
   "hash": "f23faf4bfe871c203c8bec80520af5927fc7cb1ae3bd834ddf554ee587ad1c05"
  },
  "kernelspec": {
   "display_name": "Python 3.8.7 64-bit",
   "language": "python",
   "name": "python3"
  },
  "language_info": {
   "codemirror_mode": {
    "name": "ipython",
    "version": 3
   },
   "file_extension": ".py",
   "mimetype": "text/x-python",
   "name": "python",
   "nbconvert_exporter": "python",
   "pygments_lexer": "ipython3",
   "version": "3.8.7"
  },
  "orig_nbformat": 4
 },
 "nbformat": 4,
 "nbformat_minor": 2
}

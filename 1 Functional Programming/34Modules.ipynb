{
 "cells": [
  {
   "cell_type": "code",
   "execution_count": null,
   "metadata": {},
   "outputs": [],
   "source": [
    "# In Python, Modules are simply files with the “. py” extension containing Python code that can be imported inside another Python Program. In simple terms, we can consider a module to be the same as a code library or a file that contains a set of functions that you want to include in your application"
   ]
  },
  {
   "cell_type": "code",
   "execution_count": null,
   "metadata": {},
   "outputs": [],
   "source": [
    "# Suppose You are making a python file that is named calc.py / calc.ipynb whose code is given below n which we are providing two arguments then we are calculating for those 2 arguments whatever i want...\n",
    "\n",
    "def add(a,b):\n",
    "    return a+b\n",
    "\n",
    "def sub(a,b):\n",
    "    return a-b\n",
    "\n",
    "def multiply(a,b):\n",
    "    return a*b\n",
    "\n",
    "def division(a,b):\n",
    "    return a/b"
   ]
  },
  {
   "cell_type": "code",
   "execution_count": null,
   "metadata": {},
   "outputs": [],
   "source": [
    "# Here I am creating another file which named demo.py / demo.ipynb which is importing the calc.py / calc.ipynb because these two files are to be found in same directory and calling those functions that are present in imported file...So that File is acting as a module for demo file...\n",
    "\n",
    "# from calc import *\n",
    "# a = 5\n",
    "# b = 7\n",
    "\n",
    "# c = add(a,b)\n",
    "# c1 = sub(a,b)\n",
    "# c2 = multiply(a,b)\n",
    "# c3 = division(a,b)\n",
    "\n",
    "# print(c, c1, c2, c3)"
   ]
  }
 ],
 "metadata": {
  "language_info": {
   "name": "python"
  },
  "orig_nbformat": 4
 },
 "nbformat": 4,
 "nbformat_minor": 2
}

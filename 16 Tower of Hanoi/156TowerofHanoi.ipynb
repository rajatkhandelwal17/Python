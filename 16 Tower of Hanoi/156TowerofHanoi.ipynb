{
 "cells": [
  {
   "cell_type": "code",
   "execution_count": null,
   "metadata": {},
   "outputs": [],
   "source": [
    "class Solution:\n",
    "    def toh(self, N, fromm, to, aux):\n",
    "        if N==1:\n",
    "            print(\"move disk 1 from rod {0} to rod {1}\".format(fromm, to))\n",
    "            return 1\n",
    "        else:\n",
    "            i=self.toh(N-1, fromm, aux, to )\n",
    "            print(\"move disk {0} from rod {1} to rod {2}\".format(N,fromm, to ))\n",
    "            i=i+self.toh(N-1, aux, to, fromm)\n",
    "            return i+1\n",
    "\n",
    "import math\n",
    "\n",
    "\n",
    "def main():\n",
    "\n",
    "    T = int(input())\n",
    "\n",
    "    while(T > 0):\n",
    "        N = int(input())\n",
    "        ob = Solution()\n",
    "        print(ob.toh(N, 1, 3, 2))\n",
    "        T -= 1\n",
    "if __name__ == \"__main__\":\n",
    "    main()"
   ]
  }
 ],
 "metadata": {
  "kernelspec": {
   "display_name": "Python 3.10.5 64-bit",
   "language": "python",
   "name": "python3"
  },
  "language_info": {
   "codemirror_mode": {
    "name": "ipython",
    "version": 3
   },
   "file_extension": ".py",
   "mimetype": "text/x-python",
   "name": "python",
   "nbconvert_exporter": "python",
   "pygments_lexer": "ipython3",
   "version": "3.10.5"
  },
  "orig_nbformat": 4,
  "vscode": {
   "interpreter": {
    "hash": "fb4569285eef3a3450cb62085a5b1e0da4bce0af555edc33dcf29baf3acc1368"
   }
  }
 },
 "nbformat": 4,
 "nbformat_minor": 2
}

{
 "cells": [
  {
   "cell_type": "code",
   "execution_count": null,
   "metadata": {},
   "outputs": [],
   "source": [
    "# Multithreading in Python 3:-\n",
    "\n",
    "# A thread is the smallest unit of a program or process executed independently or scheduled by the Operating System. \n",
    "# In the computer system, an Operating System achieves multitasking by dividing the process into threads. \n",
    "# A thread is a lightweight process that ensures the execution of the process separately on the system. In Python 3, when multiple processors are running on a program, each processor runs simultaneously to execute its tasks separately."
   ]
  },
  {
   "cell_type": "code",
   "execution_count": null,
   "metadata": {},
   "outputs": [],
   "source": [
    "# Python Multithreading:-\n",
    "\n",
    "# Multithreading is a threading technique in Python programming to run multiple threads concurrently by rapidly switching between threads with a CPU help (called context switching\n",
    "\n",
    "# Besides, it allows sharing of its data space with the main threads inside a process that share information and communication with other threads easier than individual processes. Multithreading aims to perform multiple tasks simultaneously, which increases performance, speed and improves the rendering of the application."
   ]
  },
  {
   "cell_type": "code",
   "execution_count": null,
   "metadata": {},
   "outputs": [],
   "source": [
    "# When to use Multithreading in Python?\n",
    "\n",
    "# It is a very useful technique for time-saving and improving the performance of an application. Multithreading allows the programmer to divide application tasks into sub-tasks and simultaneously run them in a program. \n",
    "# It allows threads to communicate and share resources such as files, data, and memory to the same processor. Furthermore, it increases the user's responsiveness to continue running a program even if a part of the application is the length or blocked."
   ]
  },
  {
   "cell_type": "code",
   "execution_count": null,
   "metadata": {},
   "outputs": [],
   "source": [
    "# How to achieve multithreading in Python?\n",
    "# There are two main modules of multithreading used to handle threads in Python.\n",
    "\n",
    "# The thread module\n",
    "# The threading module"
   ]
  },
  {
   "cell_type": "code",
   "execution_count": null,
   "metadata": {},
   "outputs": [],
   "source": [
    "# Threading Modules:-\n",
    "\n",
    "# The threading module is a high-level implementation of multithreading used to deploy an application in Python. To use multithreading, we need to import the threading module in Python Program.\n",
    "\n",
    "# Thread Class Methods\n",
    "\n",
    "# 1.  start() = A start() method is used to initiate the activity of a thread. And it calls only once for each thread so that the execution of the thread can begin.\n",
    "# 2. run() = A run() method is used to define a thread's activity and can be overridden by a class that extends the threads class.\n",
    "# 3. join() = A join() method is used to block the execution of another code until the thread terminates."
   ]
  },
  {
   "cell_type": "code",
   "execution_count": null,
   "metadata": {},
   "outputs": [],
   "source": [
    "# Follow the given below steps to implement the threading module in Python Multithreading:\n",
    "# 1. Import the threading module:-\n",
    "\n",
    "# Create a new thread by importing the threading module, as shown.\n",
    "    # Syntax:\n",
    "    # import threading  \n",
    "\n",
    "# A threading module is made up of a Thread class, which is instantiated to create a Python thread."
   ]
  },
  {
   "cell_type": "code",
   "execution_count": null,
   "metadata": {},
   "outputs": [],
   "source": [
    "# 2. Declaration of the thread parameters: It contains the target function, argument, and kwargs as the parameter in the Thread() class.\n",
    "\n",
    "# Target: It defines the function name that is executed by the thread.\n",
    "# Args: It defines the arguments that are passed to the target function name."
   ]
  },
  {
   "cell_type": "code",
   "execution_count": null,
   "metadata": {},
   "outputs": [],
   "source": [
    "import threading \n",
    "from threading import *  \n",
    "\n",
    "def print_hello(n):  \n",
    "    print(\"Hello, how old are you \", n)  \n",
    "t1 = threading.Thread( target = print_hello, args =(18,)) \n",
    "\n",
    "# In the above code, we invoked the print_hello() function as the target parameter. The print_hello() contains one parameter n, which passed to the args parameter."
   ]
  },
  {
   "cell_type": "code",
   "execution_count": null,
   "metadata": {},
   "outputs": [],
   "source": [
    "# 3. Start a new thread: To start a thread in Python multithreading, call the thread class's object. The start() method can be called once for each thread object; otherwise, it throws an exception error.\n",
    "\n",
    "# Syntax:\n",
    "\n",
    "# t1.start()  \n",
    "# t2.start()  "
   ]
  },
  {
   "cell_type": "code",
   "execution_count": null,
   "metadata": {},
   "outputs": [],
   "source": [
    "import threading\n",
    "from threading import *\n",
    "\n",
    "def print_hello(n):  \n",
    "    print(\"Hello, how old are you? \", n)  \n",
    "T1 = threading.Thread( target = print_hello, args = (20,))  \n",
    "T1.start()  \n",
    "T1.join()\n",
    "print(\"Thank you\")\n",
    "\n",
    "# When the above program is executed, the join() method halts the execution of the main thread and waits until the thread t1 is completely executed. Once the t1 is successfully executed, the main thread starts its execution."
   ]
  },
  {
   "cell_type": "code",
   "execution_count": null,
   "metadata": {},
   "outputs": [],
   "source": [
    "import time\n",
    "import threading  \n",
    "from threading import *  \n",
    "\n",
    "def cal_sqre(num): \n",
    "    for n in num:   \n",
    "        time.sleep(0.3) \n",
    "        print(\"Square is :\",n*n)  \n",
    "  \n",
    "def cal_cube(num): \n",
    "    for n in num:\n",
    "        time.sleep(0.3)\n",
    "        print(\"Cube is :\",n*n*n)  \n",
    "  \n",
    "ar = [4,5,6,7,2] \n",
    "t = time.time()\n",
    "th1 = threading.Thread(target=cal_sqre, args=(ar,))  \n",
    "th2 = threading.Thread(target=cal_cube, args=(ar,))  \n",
    "th1.start()  \n",
    "th2.start()  \n",
    "th1.join()  \n",
    "th2.join()  \n",
    "print(\"Total time taking by threads is :\",time.time()-t)  \n",
    "print(\" Again executing the main thread\")  \n",
    "print(\" Thread 1 and Thread 2 have finished their execution.\")  "
   ]
  }
 ],
 "metadata": {
  "interpreter": {
   "hash": "f23faf4bfe871c203c8bec80520af5927fc7cb1ae3bd834ddf554ee587ad1c05"
  },
  "kernelspec": {
   "display_name": "Python 3.8.7 64-bit",
   "language": "python",
   "name": "python3"
  },
  "language_info": {
   "codemirror_mode": {
    "name": "ipython",
    "version": 3
   },
   "file_extension": ".py",
   "mimetype": "text/x-python",
   "name": "python",
   "nbconvert_exporter": "python",
   "pygments_lexer": "ipython3",
   "version": "3.8.7"
  },
  "orig_nbformat": 4
 },
 "nbformat": 4,
 "nbformat_minor": 2
}

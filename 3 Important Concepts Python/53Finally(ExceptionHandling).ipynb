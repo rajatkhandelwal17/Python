{
 "cells": [
  {
   "cell_type": "code",
   "execution_count": null,
   "metadata": {},
   "outputs": [],
   "source": [
    "# Finally Keyword in Python:-\n",
    "\n",
    "# Python provides a keyword finally, which is always executed after the try and except blocks. The final block always executes after normal termination of try block or after try block terminates due to some exception."
   ]
  },
  {
   "cell_type": "code",
   "execution_count": null,
   "metadata": {},
   "outputs": [],
   "source": [
    "# Syntax:\n",
    "\n",
    "# try:\n",
    "#     # Some Code.... \n",
    "# except:\n",
    "#     # optional block\n",
    "#     # Handling of exception (if required)\n",
    "# else:\n",
    "#     # execute if no exception\n",
    "# finally:\n",
    "#     # Some code .....(always executed)"
   ]
  },
  {
   "cell_type": "code",
   "execution_count": null,
   "metadata": {},
   "outputs": [],
   "source": [
    "a = 5\n",
    "b = 2\n",
    "try:\n",
    "    print(\"Resource is open\")\n",
    "    print(a/b)\n",
    "except ZeroDivisionError as e:\n",
    "    print(\"You Cannot divide a number by zero...\", e)\n",
    "finally:\n",
    "    print(\"Resource Closed\")"
   ]
  },
  {
   "cell_type": "code",
   "execution_count": null,
   "metadata": {},
   "outputs": [],
   "source": [
    "a = 5\n",
    "b = 0\n",
    "try:\n",
    "    print(\"Resource is open\")\n",
    "    print(a/b)\n",
    "except ZeroDivisionError as e:\n",
    "    print(\"You Cannot divide a number by zero...\", e)\n",
    "finally:\n",
    "    print(\"Resource Closed\")"
   ]
  },
  {
   "cell_type": "code",
   "execution_count": null,
   "metadata": {},
   "outputs": [],
   "source": [
    "a = 5\n",
    "b = 2\n",
    "try:\n",
    "    print(\"Resource Is Open\")\n",
    "    print(a/b)\n",
    "    k = int(input(\"Enter A Number\"))\n",
    "    print(k)\n",
    "except ZeroDivisionError as e:\n",
    "    print(\"You cannot divide a number by zero\", e)\n",
    "except ValueError as e:\n",
    "    print(\"Invalid Input\", e)\n",
    "except Exception as e:\n",
    "    print(\"Something Went Wrong...\")\n",
    "finally:\n",
    "    print(\"Resource Closed\")"
   ]
  }
 ],
 "metadata": {
  "interpreter": {
   "hash": "f23faf4bfe871c203c8bec80520af5927fc7cb1ae3bd834ddf554ee587ad1c05"
  },
  "kernelspec": {
   "display_name": "Python 3.8.7 64-bit",
   "language": "python",
   "name": "python3"
  },
  "language_info": {
   "codemirror_mode": {
    "name": "ipython",
    "version": 3
   },
   "file_extension": ".py",
   "mimetype": "text/x-python",
   "name": "python",
   "nbconvert_exporter": "python",
   "pygments_lexer": "ipython3",
   "version": "3.8.7"
  },
  "orig_nbformat": 4
 },
 "nbformat": 4,
 "nbformat_minor": 2
}

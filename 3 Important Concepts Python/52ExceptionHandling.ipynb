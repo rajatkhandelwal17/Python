{
 "cells": [
  {
   "cell_type": "code",
   "execution_count": null,
   "metadata": {},
   "outputs": [],
   "source": [
    "# Error in Python can be of Three types - Syntax errors, Logical errors and Exceptions\n",
    "\n",
    "# Errors are the problems in a program due to which the program will stop the execution.\n",
    "\n",
    "# Syntax Errors are those errors which are basically of syntaxes like semicolons etc.\n",
    "# Logical Errors are those errors which are found in logic also at run time. \n",
    "# Exceptions are raised when some internal events occur which changes the normal flow of the program or we can say some exceptions, sometimes which never occured or very rarely..."
   ]
  },
  {
   "cell_type": "code",
   "execution_count": null,
   "metadata": {},
   "outputs": [],
   "source": [
    "# Difference between Syntax Error and Exceptions:\n",
    "\n",
    "# Syntax Error: As the name suggests this error is caused by the wrong syntax in the code. It leads to the termination of the program.\n",
    "# Exceptions: Exceptions are raised when the program is syntactically correct, but the code resulted in an error. This error does not stop the execution of the program, however, it changes the normal flow of the program."
   ]
  },
  {
   "cell_type": "code",
   "execution_count": null,
   "metadata": {},
   "outputs": [],
   "source": [
    "amount = 10000\n",
    "if(amount > 2999):\n",
    "    print(\"This is error not exception because we provide 10000 and checking for gt 3000\")"
   ]
  },
  {
   "cell_type": "code",
   "execution_count": null,
   "metadata": {},
   "outputs": [],
   "source": [
    "marks = 10000\n",
    "print(marks / 0)\n",
    "print(\"This is an exception because it only occured When number is divided by zero\")\n",
    "print(\"This is the ZeroDivisionError as we are trying to divide a number by 0.\")"
   ]
  },
  {
   "cell_type": "code",
   "execution_count": null,
   "metadata": {},
   "outputs": [],
   "source": [
    "# Try and Except Statement – Catching Exceptions\n",
    "\n",
    "# Try and except statements are used to catch and handle exceptions in Python. Statements that can raise exceptions are kept inside the try clause and the statements that handle the exception are written inside except clause."
   ]
  },
  {
   "cell_type": "code",
   "execution_count": null,
   "metadata": {},
   "outputs": [],
   "source": [
    "# Try block contain those codes which can execute also, not execute also..\n",
    "# So we are writing basically to check that line of code, if that line of code executes without an error or exception then it will skips that except block...\n",
    "# Or if an error hits or an exception hits than first it will execute that except clause for that error after that it will moves furthur...\n",
    "\n",
    "# Here no error in given code then it will skips except clause\n",
    "a = 5\n",
    "b = 2\n",
    "try: print(a/b)\n",
    "except Exception: print(\"You can't divide a number by zero\")\n",
    "print(\"Bye\")"
   ]
  },
  {
   "cell_type": "code",
   "execution_count": null,
   "metadata": {},
   "outputs": [],
   "source": [
    "# Here error is present in given code then it will first executes except clause and move...\n",
    "a = 5\n",
    "b = 0\n",
    "try: print(a/b)\n",
    "except Exception: print(\"You can't divide a number by zero\")\n",
    "print(\"Bye\")"
   ]
  },
  {
   "cell_type": "code",
   "execution_count": null,
   "metadata": {},
   "outputs": [],
   "source": [
    "# If you don't know the name of error and want to know the name of the exception or error...\n",
    "a = 5\n",
    "b = 0\n",
    "try: print(a/b)\n",
    "except Exception as e: print(\"You can't divide a number by zero...\", e)\n",
    "print(\"Bye\")"
   ]
  },
  {
   "cell_type": "code",
   "execution_count": null,
   "metadata": {},
   "outputs": [],
   "source": [
    "a = [1, 2, 3]\n",
    "try:\n",
    "\tprint (\"Second element =\",(a[1]))\n",
    "\tprint (\"Fourth element =\",(a[3]))\n",
    "except:\n",
    "\tprint (\"An error occurred\")"
   ]
  },
  {
   "cell_type": "code",
   "execution_count": null,
   "metadata": {},
   "outputs": [],
   "source": [
    "# Catching Specific Exception:-\n",
    "\n",
    "# A try statement can have more than one except clause, to specify handlers for different exceptions. Please note that at most one handler will be executed. The general syntax for adding specific exceptions are – \n",
    "\n",
    "# try:\n",
    "#     # statement(s)\n",
    "# except IndexError:\n",
    "#     # statement(s)\n",
    "# except ValueError:\n",
    "#     # statement(s)"
   ]
  },
  {
   "cell_type": "code",
   "execution_count": null,
   "metadata": {},
   "outputs": [],
   "source": [
    "a = int(input())\n",
    "b = int(input())\n",
    "try:\n",
    "    print(a/b)\n",
    "    char = int(input())\n",
    "    print(char)\n",
    "except ValueError: print(\"You Can't input character when integer want...\")\n",
    "except ZeroDivisionError: print(\"You can't divide a number by zero\")"
   ]
  }
 ],
 "metadata": {
  "interpreter": {
   "hash": "f23faf4bfe871c203c8bec80520af5927fc7cb1ae3bd834ddf554ee587ad1c05"
  },
  "kernelspec": {
   "display_name": "Python 3.8.7 64-bit",
   "language": "python",
   "name": "python3"
  },
  "language_info": {
   "codemirror_mode": {
    "name": "ipython",
    "version": 3
   },
   "file_extension": ".py",
   "mimetype": "text/x-python",
   "name": "python",
   "nbconvert_exporter": "python",
   "pygments_lexer": "ipython3",
   "version": "3.8.7"
  },
  "orig_nbformat": 4
 },
 "nbformat": 4,
 "nbformat_minor": 2
}

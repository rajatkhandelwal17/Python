{
 "cells": [
  {
   "cell_type": "code",
   "execution_count": null,
   "metadata": {},
   "outputs": [],
   "source": [
    "# File Handling in Python:-\n",
    "\n",
    "# Python too supports file handling and allows users to handle files i.e., to read and write files, along with many other file handling options, to operate on files. \n",
    "\n",
    "# Python treats file differently as text or binary and this is important. Each line of code includes a sequence of characters and they form text file.\n",
    "\n",
    "# Each line of a file is terminated with a special character, called the EOL or End of Line characters like comma {,} or newline character. It ends the current line and tells the interpreter a new one has begun. "
   ]
  },
  {
   "cell_type": "code",
   "execution_count": null,
   "metadata": {},
   "outputs": [],
   "source": [
    "# Working of open() function:-\n",
    "\n",
    "# Before performing any operation on the file like read or write, first we have to open that file. For this, we should use Python’s inbuilt function open()\n",
    "\n",
    "# But at the time of opening, we have to specify the mode, which represents the purpose of the opening file.\n",
    "\n",
    "# f = open(filename, mode)"
   ]
  },
  {
   "cell_type": "code",
   "execution_count": null,
   "metadata": {},
   "outputs": [],
   "source": [
    "# r: Open an existing file for a read operation.\n",
    "# w: Open an existing file for a write operation. If the file already contains some data then it will be overridden.\n",
    "# a:  Open an existing file for append operation. It won’t override existing data.\n",
    "# r+: To read and write data into file. The previous data in the file will not be deleted\n",
    "# w+: To write and read data. It will override existing data.\n",
    "# a+: To append and read data from the file. It won’t override existing data."
   ]
  },
  {
   "cell_type": "code",
   "execution_count": null,
   "metadata": {},
   "outputs": [],
   "source": [
    "file = open('56Rajat.txt','r')\n",
    "for each in file:\n",
    "\tprint(each)"
   ]
  },
  {
   "cell_type": "code",
   "execution_count": null,
   "metadata": {},
   "outputs": [],
   "source": [
    "file = open(\"56Rajat.txt\",\"r\")\n",
    "print(file.read())"
   ]
  },
  {
   "cell_type": "code",
   "execution_count": null,
   "metadata": {},
   "outputs": [],
   "source": [
    "file = open(\"56Rajat.txt\",\"r\")\n",
    "print(file.read(5))"
   ]
  },
  {
   "cell_type": "code",
   "execution_count": null,
   "metadata": {},
   "outputs": [],
   "source": [
    "file = open('56Rajat.txt','w')\n",
    "file.write(\"This is the write command \")\n",
    "file.write(\"It allows us to write in a particular file \")\n",
    "file.close()\n",
    "file = open(\"56Rajat.txt\",\"r\")\n",
    "print(file.read())"
   ]
  },
  {
   "cell_type": "code",
   "execution_count": null,
   "metadata": {},
   "outputs": [],
   "source": [
    "file = open('56Rajat.txt','a')\n",
    "file.write(\"This will add this line\")\n",
    "file.close()\n",
    "file = open(\"56Rajat.txt\",\"r\")\n",
    "print(file.read())"
   ]
  },
  {
   "cell_type": "code",
   "execution_count": null,
   "metadata": {},
   "outputs": [],
   "source": [
    "with open(\"56Rajat.txt\") as file:\n",
    "\tdata = file.read()\n",
    "print(data)"
   ]
  },
  {
   "cell_type": "code",
   "execution_count": null,
   "metadata": {},
   "outputs": [],
   "source": [
    "with open(\"56Rajat.txt\", \"w\") as f:\n",
    "\tf.write(\"Hello World!!!\")\n",
    "with open(\"56Rajat.txt\") as file:\n",
    "\tdata = file.read()\n",
    "print(data)"
   ]
  },
  {
   "cell_type": "code",
   "execution_count": null,
   "metadata": {},
   "outputs": [],
   "source": [
    "with open(\"56Rajat.txt\", \"r\") as file:\n",
    "\tdata = file.readlines()\n",
    "for line in data:\n",
    "\tword = line.split()\n",
    "\tprint(word)"
   ]
  }
 ],
 "metadata": {
  "interpreter": {
   "hash": "f23faf4bfe871c203c8bec80520af5927fc7cb1ae3bd834ddf554ee587ad1c05"
  },
  "kernelspec": {
   "display_name": "Python 3.8.7 64-bit",
   "language": "python",
   "name": "python3"
  },
  "language_info": {
   "codemirror_mode": {
    "name": "ipython",
    "version": 3
   },
   "file_extension": ".py",
   "mimetype": "text/x-python",
   "name": "python",
   "nbconvert_exporter": "python",
   "pygments_lexer": "ipython3",
   "version": "3.8.7"
  },
  "orig_nbformat": 4
 },
 "nbformat": 4,
 "nbformat_minor": 2
}

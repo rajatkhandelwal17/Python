{
 "cells": [
  {
   "cell_type": "code",
   "execution_count": null,
   "metadata": {},
   "outputs": [],
   "source": [
    "def printLCS(s1,s2,n,m):\n",
    "    t= [[None for j in range(m+1)] for i in range(n+1)]\n",
    "    for i in range(n+1):\n",
    "        for j in range(m+1):\n",
    "            if i==0 or j==0: t[i][j] = 0\n",
    "    for i in range(1,n+1):\n",
    "        for j in range(1,m+1):\n",
    "            if s1[i-1] == s2[j-1]:\n",
    "                t[i][j] = 1+t[i-1][j-1]\n",
    "            else:\n",
    "                t[i][j] = max(t[i-1][j],t[i][j-1])\n",
    "    i = n\n",
    "    j = m\n",
    "    string = \"\"\n",
    "    while i>0 and j>0:\n",
    "        if s1[i-1] == s2[j-1]:\n",
    "            string += s1[i-1]\n",
    "            i-=1\n",
    "            j-=1\n",
    "        else:\n",
    "            if t[i-1][j] > t[i][j-1]:i-=1\n",
    "            else:j-=1\n",
    "    string = string[::-1]\n",
    "    return string\n",
    "\n",
    "\n",
    "\n",
    "\n",
    "if __name__== '__main__':\n",
    "    s1 = \"ABCDGH\"\n",
    "    s2 = \"AEDFHR\"\n",
    "    n = 6 \n",
    "    m = 6\n",
    "    ans = printLCS(s1,s2,n,m)\n",
    "    print(ans)"
   ]
  }
 ],
 "metadata": {
  "language_info": {
   "name": "python"
  },
  "orig_nbformat": 4
 },
 "nbformat": 4,
 "nbformat_minor": 2
}

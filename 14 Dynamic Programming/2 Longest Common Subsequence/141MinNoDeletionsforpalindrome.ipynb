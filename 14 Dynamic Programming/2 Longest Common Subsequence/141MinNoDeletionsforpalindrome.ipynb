{
 "cells": [
  {
   "cell_type": "code",
   "execution_count": null,
   "metadata": {},
   "outputs": [],
   "source": [
    "def lcs(s1,s2,x,y):\n",
    "    t = [[None for j in range(y+1)] for i in range(x+1)]\n",
    "    for i in range(x+1):\n",
    "        for j in range(y+1):\n",
    "            if  i == 0 or j ==0 : t[i][j] = 0\n",
    "            elif s1[i-1] == s2[j-1]: t[i][j] = 1 + t[i-1][j-1]\n",
    "            else:  t[i][j] = max(t[i-1][j],t[i][j-1] )\n",
    "    return t[x][y]\n",
    "\n",
    "class Solution:\n",
    "    def minDeletions(self, s1, n):\n",
    "        s2 = s1[::-1]\n",
    "        m = len(s2)\n",
    "        ans = lcs(s1,s2,n,m)\n",
    "        return n-ans\n",
    "\n",
    "if __name__ == '__main__': \n",
    "    t = int(input())\n",
    "    for _ in range(t):\n",
    "       \n",
    "        N = int(input())\n",
    "        Str = input().strip()\n",
    "        ob = Solution()\n",
    "        ans = ob.minDeletions(Str, N)\n",
    "        print(ans)"
   ]
  }
 ],
 "metadata": {
  "kernelspec": {
   "display_name": "Python 3.10.5 64-bit",
   "language": "python",
   "name": "python3"
  },
  "language_info": {
   "name": "python",
   "version": "3.10.5"
  },
  "orig_nbformat": 4,
  "vscode": {
   "interpreter": {
    "hash": "fb4569285eef3a3450cb62085a5b1e0da4bce0af555edc33dcf29baf3acc1368"
   }
  }
 },
 "nbformat": 4,
 "nbformat_minor": 2
}

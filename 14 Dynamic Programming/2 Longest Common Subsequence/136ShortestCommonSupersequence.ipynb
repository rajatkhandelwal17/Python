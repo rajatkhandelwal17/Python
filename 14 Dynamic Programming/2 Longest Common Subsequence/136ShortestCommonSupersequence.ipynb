{
 "cells": [
  {
   "cell_type": "code",
   "execution_count": null,
   "metadata": {},
   "outputs": [],
   "source": [
    "#User function Template for python3\n",
    "\n",
    "def Lcs(s1,s2,x,y):\n",
    "    t = [[None for j in range(y+1)] for i in range(x+1)]\n",
    "    for i in range(x+1):\n",
    "        for j in range(y+1):\n",
    "            if  i == 0 or j ==0 : t[i][j] = 0\n",
    "            elif s1[i-1] == s2[j-1]: t[i][j] = 1 + t[i-1][j-1]\n",
    "            else: t[i][j] = max(t[i-1][j],t[i][j-1] )\n",
    "    return t[x][y]\n",
    "\n",
    "\n",
    "class Solution:\n",
    "    \n",
    "    #Function to find length of shortest common supersequence of two strings.\n",
    "    def shortestCommonSupersequence(self, X, Y, m, n):\n",
    "        return m+n-Lcs(X,Y,m,n)\n",
    "#{ \n",
    " # Driver Code Starts\n",
    "#Initial Template for Python 3\n",
    "\n",
    "#contributed by RavinderSinghPB\n",
    "if __name__ == '__main__': \n",
    "    t=int(input())\n",
    "    for tcs in range(t):\n",
    "        X,Y=input().split()\n",
    "        \n",
    "        print(Solution().shortestCommonSupersequence(X,Y,len(X),len(Y)))\n",
    "        \n",
    "# } Driver Code Ends"
   ]
  }
 ],
 "metadata": {
  "language_info": {
   "name": "python"
  },
  "orig_nbformat": 4
 },
 "nbformat": 4,
 "nbformat_minor": 2
}

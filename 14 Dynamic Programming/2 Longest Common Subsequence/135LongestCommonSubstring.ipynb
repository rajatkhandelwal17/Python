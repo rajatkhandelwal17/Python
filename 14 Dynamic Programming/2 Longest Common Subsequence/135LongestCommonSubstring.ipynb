{
 "cells": [
  {
   "cell_type": "code",
   "execution_count": null,
   "metadata": {},
   "outputs": [],
   "source": [
    "#User function Template for python3\n",
    "\n",
    "class Solution:\n",
    "    def longestCommonSubstr(self, s1, s2, x, y):\n",
    "        t = [[0 for j in range(y+1)] for i in range(x+1)]\n",
    "        result = 0\n",
    "        for i in range(x+1):\n",
    "            for j in range(y+1):\n",
    "                if  i == 0 or j ==0 : t[i][j] = 0\n",
    "                elif s1[i-1] == s2[j-1]: \n",
    "                    t[i][j] = 1 + t[i-1][j-1]\n",
    "                    result = max(result,t[i][j])\n",
    "                else:\n",
    "                    t[i][j] = 0\n",
    "        return result\n",
    "\n",
    "\n",
    "#{ \n",
    " # Driver Code Starts\n",
    "#Initial Template for Python 3\n",
    "\n",
    "if __name__=='__main__':\n",
    "    t=int(input())\n",
    "    for _ in range(t):\n",
    "        n,m = input().strip().split(\" \")\n",
    "        n,m = int(n), int(m)\n",
    "        S1 = input().strip()\n",
    "        S2 = input().strip()\n",
    "        \n",
    "        \n",
    "        ob=Solution()\n",
    "        print(ob.longestCommonSubstr(S1, S2, n, m))\n",
    "# } Driver Code Ends"
   ]
  }
 ],
 "metadata": {
  "language_info": {
   "name": "python"
  },
  "orig_nbformat": 4
 },
 "nbformat": 4,
 "nbformat_minor": 2
}

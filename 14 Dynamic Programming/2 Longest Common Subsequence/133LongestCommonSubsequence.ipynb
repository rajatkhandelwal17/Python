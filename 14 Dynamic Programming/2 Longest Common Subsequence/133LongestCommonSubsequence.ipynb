{
 "cells": [
  {
   "cell_type": "code",
   "execution_count": null,
   "metadata": {},
   "outputs": [],
   "source": [
    "#User function Template for python3\n",
    "\n",
    "class Solution:\n",
    "    \n",
    "    #Function to find the length of longest common subsequence in two strings.\n",
    "    def lcs(self,x,y,s1,s2):\n",
    "        t = [[None for j in range(y+1)] for i in range(x+1)]\n",
    "        for i in range(x+1):\n",
    "            for j in range(y+1):\n",
    "                if  i == 0 or j ==0 : t[i][j] = 0\n",
    "                elif s1[i-1] == s2[j-1]: t[i][j] = 1 + t[i-1][j-1]\n",
    "                else:\n",
    "                    t[i][j] = max(t[i-1][j],t[i][j-1] )\n",
    "        return t[x][y]\n",
    "\n",
    "#{ \n",
    " # Driver Code Starts\n",
    "#Initial Template for Python 3\n",
    "import atexit\n",
    "import io\n",
    "import sys\n",
    "\n",
    "# Contributed by : Nagendra Jha\n",
    "\n",
    "if __name__ == '__main__':\n",
    "    test_cases = int(input())\n",
    "    for cases in range(test_cases):\n",
    "        x,y = map(int,input().strip().split())\n",
    "        s1 = str(input())\n",
    "        s2 = str(input())\n",
    "        ob=Solution()\n",
    "        print(ob.lcs(x,y,s1,s2))\n",
    "# } Driver Code Ends"
   ]
  }
 ],
 "metadata": {
  "language_info": {
   "name": "python"
  },
  "orig_nbformat": 4
 },
 "nbformat": 4,
 "nbformat_minor": 2
}

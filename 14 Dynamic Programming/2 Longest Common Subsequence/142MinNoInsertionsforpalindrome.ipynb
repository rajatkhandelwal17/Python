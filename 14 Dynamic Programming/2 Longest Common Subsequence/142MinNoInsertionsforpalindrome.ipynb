{
 "cells": [
  {
   "cell_type": "code",
   "execution_count": null,
   "metadata": {},
   "outputs": [],
   "source": [
    "def lcs(s1,s2,x,y):\n",
    "    t = [[None for j in range(y+1)] for i in range(x+1)]\n",
    "    for i in range(x+1):\n",
    "        for j in range(y+1):\n",
    "            if  i == 0 or j ==0 : t[i][j] = 0\n",
    "            elif s1[i-1] == s2[j-1]: t[i][j] = 1 + t[i-1][j-1]\n",
    "            else:  t[i][j] = max(t[i-1][j],t[i][j-1] )\n",
    "    return t[x][y]\n",
    "    \n",
    "class Solution:\n",
    "    def countMin(self, s1):\n",
    "        s2 = s1[::-1]\n",
    "        n = len(s1)\n",
    "        m = len(s2)\n",
    "        ans = lcs(s1,s2,n,m)\n",
    "        return n-ans\n",
    "\n",
    "\n",
    "#{ \n",
    " # Driver Code Starts\n",
    "#Initial Template for Python 3\n",
    "\n",
    "if __name__ == '__main__':\n",
    "\n",
    "    t = int(input())\n",
    "\n",
    "    for _ in range(t):\n",
    "        Str = input()\n",
    "        \n",
    "\n",
    "        solObj = Solution()\n",
    "\n",
    "        print(solObj.countMin(Str))\n",
    "# } Driver Code Ends"
   ]
  }
 ],
 "metadata": {
  "language_info": {
   "name": "python"
  },
  "orig_nbformat": 4
 },
 "nbformat": 4,
 "nbformat_minor": 2
}

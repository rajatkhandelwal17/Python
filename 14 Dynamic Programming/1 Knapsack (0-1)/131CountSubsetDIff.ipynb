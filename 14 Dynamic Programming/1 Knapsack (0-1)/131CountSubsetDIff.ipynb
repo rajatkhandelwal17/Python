{
 "cells": [
  {
   "cell_type": "code",
   "execution_count": null,
   "metadata": {},
   "outputs": [],
   "source": [
    "# Python3 program for the above approach\n",
    "\n",
    "# Function to count the number of ways to divide\n",
    "# the array into two subsets and such that the\n",
    "# difference between their sums is equal to diff\n",
    "def countSubset(arr, n, diff):\n",
    "\t\n",
    "\t# Store the sum of the set S1\n",
    "\tsum = 0\n",
    "\tfor i in range(n):\n",
    "\t\tsum += arr[i]\n",
    "\t\t\n",
    "\tsum += diff\n",
    "\tsum = sum // 2\n",
    "\n",
    "\t# Initializing the matrix\n",
    "\tt = [[0 for i in range(sum + 1)]\n",
    "\t\t\tfor i in range(n + 1)]\n",
    "\n",
    "\t# Number of ways to get sum\n",
    "\t# using 0 elements is 0\n",
    "\tfor j in range(sum + 1):\n",
    "\t\tt[0][j] = 0\n",
    "\n",
    "\t# Number of ways to get sum 0\n",
    "\t# using i elements is 1\n",
    "\tfor i in range(n + 1):\n",
    "\t\tt[i][0] = 1\n",
    "\n",
    "\t# Traverse the 2D array\n",
    "\tfor i in range(1, n + 1):\n",
    "\t\tfor j in range(1, sum + 1):\n",
    "\t\t\t\n",
    "\t\t\t# If the value is greater\n",
    "\t\t\t# than the sum store the\n",
    "\t\t\t# value of previous state\n",
    "\t\t\tif (arr[i - 1] > j):\n",
    "\t\t\t\tt[i][j] = t[i - 1][j]\n",
    "\t\t\telse:\n",
    "\t\t\t\tt[i][j] = t[i - 1][j] + t[i - 1][j - arr[i - 1]]\n",
    "\n",
    "\t# Return the result\n",
    "\treturn t[n][sum]\n",
    "\n",
    "# Driver Code\n",
    "if __name__ == '__main__':\n",
    "\t\n",
    "\t# Given Input\n",
    "\tdiff, n = 1, 4\n",
    "\tarr = [ 1, 1, 2, 3 ]\n",
    "\n",
    "\t# Function Call\n",
    "\tprint (countSubset(arr, n, diff))\n",
    "\n",
    "# This code is contributed by mohit kumar 29\n"
   ]
  }
 ],
 "metadata": {
  "kernelspec": {
   "display_name": "Python 3.10.5 64-bit",
   "language": "python",
   "name": "python3"
  },
  "language_info": {
   "codemirror_mode": {
    "name": "ipython",
    "version": 3
   },
   "file_extension": ".py",
   "mimetype": "text/x-python",
   "name": "python",
   "nbconvert_exporter": "python",
   "pygments_lexer": "ipython3",
   "version": "3.10.5"
  },
  "orig_nbformat": 4,
  "vscode": {
   "interpreter": {
    "hash": "fb4569285eef3a3450cb62085a5b1e0da4bce0af555edc33dcf29baf3acc1368"
   }
  }
 },
 "nbformat": 4,
 "nbformat_minor": 2
}

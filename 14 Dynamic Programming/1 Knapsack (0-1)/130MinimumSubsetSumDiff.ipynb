{
 "cells": [
  {
   "cell_type": "code",
   "execution_count": null,
   "metadata": {},
   "outputs": [],
   "source": [
    "import sys\n",
    "class Solution:\n",
    "    def minDifference(self, arr, n):\n",
    "        sum1 = sum(arr)\n",
    "        diff = sys.maxsize\n",
    "        t = [[False for j in range(sum1+1)]for i in range(n+1)]\n",
    "        for i in range(0,n+1): t[i][0] = True\n",
    "        for j in range(1,sum1+1): t[0][j] = False\n",
    "        for i in range(n+1):\n",
    "            for j in range(1,sum1+1):\n",
    "                if j < arr[i-1]: t[i][j] = t[i-1][j]\n",
    "                if j >= arr[i-1]: t[i][j] = t[i-1][j] or t[i-1][j-arr[i-1]]    \n",
    "        for i in range(sum1//2,-1,-1):\n",
    "            if t[n-1][i] == True: \n",
    "                diff = sum1 - 2*i\n",
    "                break\n",
    "        return diff\n",
    "        \n",
    "        \n",
    "#{ \n",
    " # Driver Code Starts\n",
    "#Initial Template for Python 3\n",
    "\n",
    "if __name__ == '__main__':\n",
    "    T=int(input())\n",
    "    for i in range(T):\n",
    "        N = int(input())\n",
    "        arr = [int(x) for x in input().split()]\n",
    "        ob = Solution()\n",
    "        ans = ob.minDifference(arr, N)\n",
    "        print(ans)\n",
    "\n",
    "# } Driver Code Ends"
   ]
  }
 ],
 "metadata": {
  "kernelspec": {
   "display_name": "Python 3.10.5 64-bit",
   "language": "python",
   "name": "python3"
  },
  "language_info": {
   "name": "python",
   "version": "3.10.5"
  },
  "orig_nbformat": 4,
  "vscode": {
   "interpreter": {
    "hash": "fb4569285eef3a3450cb62085a5b1e0da4bce0af555edc33dcf29baf3acc1368"
   }
  }
 },
 "nbformat": 4,
 "nbformat_minor": 2
}

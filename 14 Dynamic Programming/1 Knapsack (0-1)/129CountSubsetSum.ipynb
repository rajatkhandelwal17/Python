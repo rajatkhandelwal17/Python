{
 "cells": [
  {
   "cell_type": "code",
   "execution_count": null,
   "metadata": {},
   "outputs": [],
   "source": [
    "#User function Template for python3\n",
    "mod = 10**9+7\n",
    "\n",
    "class Solution:\n",
    "    def perfectSum(self, a, n, sum):\n",
    "    # Initializing the matrix\n",
    "        tab = [[0] * (sum + 1) for i in range(n + 1)]\n",
    "        tab[0][0] = 1\n",
    "        for i in range(1, sum + 1):\n",
    "            tab[0][i] = 0\n",
    "    \n",
    "        for i in range(1, n+1):\n",
    "            for j in range(sum + 1):\n",
    "                if a[i-1] <= j:\n",
    "                    tab[i][j] = tab[i-1][j] + tab[i-1][j-a[i-1]]\n",
    "                else:\n",
    "                    tab[i][j] = tab[i-1][j]\n",
    "        return tab[n][sum]%mod\n",
    "#{ \n",
    " # Driver Code Starts\n",
    "#Initial Template for Python 3\n",
    "\n",
    "if __name__ == '__main__':\n",
    "    T=int(input())\n",
    "    for i in range(T):\n",
    "        n,sum = input().split()\n",
    "        n,sum = int(n),int(sum)\n",
    "        arr = [int(x) for x in input().split()]\n",
    "        ob = Solution()\n",
    "        ans = ob.perfectSum(arr,n,sum)\n",
    "        print(ans)\n",
    "\n",
    "# } Driver Code Ends"
   ]
  }
 ],
 "metadata": {
  "kernelspec": {
   "display_name": "Python 3.10.5 64-bit",
   "language": "python",
   "name": "python3"
  },
  "language_info": {
   "name": "python",
   "version": "3.10.5"
  },
  "orig_nbformat": 4,
  "vscode": {
   "interpreter": {
    "hash": "fb4569285eef3a3450cb62085a5b1e0da4bce0af555edc33dcf29baf3acc1368"
   }
  }
 },
 "nbformat": 4,
 "nbformat_minor": 2
}

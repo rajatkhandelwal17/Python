{
 "cells": [
  {
   "cell_type": "code",
   "execution_count": null,
   "metadata": {},
   "outputs": [],
   "source": [
    "# User function Template for Python3\n",
    "\n",
    "def subsetsum(arr,n,s):\n",
    "    t = ([[False for j in range(s+1)]for i in range(n+1)])\n",
    "    for i in range(n+1):\n",
    "        t[i][0] = True\n",
    "    for j in range(1,s+1):\n",
    "        t[0][j] = False\n",
    "    for i in range(1,n+1):\n",
    "        for j in range(1,s+1):\n",
    "            if j < arr[i-1]: t[i][j] = t[i-1][j]\n",
    "            if j >= arr[i-1]: t[i][j] = (t[i-1][j] or t[i-1][j-arr[i-1]])\n",
    "    return t[n][s]\n",
    "\n",
    "class Solution:\n",
    "    def equalPartition(self, N, arr):\n",
    "        sum1 = sum(arr)\n",
    "        if sum1 %2 != 0: return 0\n",
    "        a = subsetsum(arr,N,sum1//2)\n",
    "        if a: return 1\n",
    "        else: return 0\n",
    "\n",
    "#{ \n",
    " # Driver Code Starts\n",
    "# Initial Template for Python3\n",
    "\n",
    "import sys\n",
    "input = sys.stdin.readline\n",
    "if __name__ == '__main__':\n",
    "    t = int(input())\n",
    "    for _ in range(t):\n",
    "        N = int(input())\n",
    "        arr = input().split()\n",
    "        for it in range(N):\n",
    "            arr[it] = int(arr[it])\n",
    "        \n",
    "        ob = Solution()\n",
    "        if (ob.equalPartition(N, arr) == 1):\n",
    "            print(\"YES\")\n",
    "        else:\n",
    "            print(\"NO\")\n",
    "# } Driver Code Ends"
   ]
  }
 ],
 "metadata": {
  "kernelspec": {
   "display_name": "Python 3.10.5 64-bit",
   "language": "python",
   "name": "python3"
  },
  "language_info": {
   "name": "python",
   "version": "3.10.5"
  },
  "orig_nbformat": 4,
  "vscode": {
   "interpreter": {
    "hash": "fb4569285eef3a3450cb62085a5b1e0da4bce0af555edc33dcf29baf3acc1368"
   }
  }
 },
 "nbformat": 4,
 "nbformat_minor": 2
}

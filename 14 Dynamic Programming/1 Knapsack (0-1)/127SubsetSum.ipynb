{
 "cells": [
  {
   "cell_type": "code",
   "execution_count": null,
   "metadata": {},
   "outputs": [],
   "source": [
    "#User function Template for python3\n",
    "\n",
    "# t = [[-1 for i in range(2000)]for j in range(2000)]\n",
    "\n",
    "\n",
    "class Solution:\n",
    "    def isSubsetSum (self, n, arr, sum):\n",
    "\n",
    "        t = ([[False for j in range(sum + 1)] for i in range(n + 1)])\n",
    "     \n",
    "        for i in range(n + 1): t[i][0] = True\n",
    "         \n",
    "        for i in range(1, sum + 1): t[0][i]= False\n",
    "             \n",
    "   \n",
    "        for i in range(1, n + 1):\n",
    "            for j in range(1, sum + 1):\n",
    "                if j < arr[i-1]: t[i][j] = t[i-1][j]\n",
    "                if j >= arr[i-1]: t[i][j] = (t[i-1][j] or t[i-1][j-arr[i-1]])\n",
    "     \n",
    "        return t[n][sum]\n",
    "\n",
    "        \n",
    "        \n",
    "\n",
    "\n",
    "#{ \n",
    " # Driver Code Starts\n",
    "#Initial Template for Python 3\n",
    "\n",
    "if __name__ == '__main__': \n",
    "    t = int (input ())\n",
    "    for _ in range (t):\n",
    "        N = int(input())\n",
    "        arr = input().split()\n",
    "        for itr in range(N):\n",
    "            arr[itr] = int(arr[itr])\n",
    "        sum = int(input())\n",
    "\n",
    "        ob = Solution()\n",
    "        if ob.isSubsetSum(N,arr,sum)==True:\n",
    "            print(1)\n",
    "        else :\n",
    "            print(0)\n",
    "            \n",
    "        \n",
    "\n",
    "# } Driver Code Ends"
   ]
  }
 ],
 "metadata": {
  "kernelspec": {
   "display_name": "Python 3.10.5 64-bit",
   "language": "python",
   "name": "python3"
  },
  "language_info": {
   "name": "python",
   "version": "3.10.5"
  },
  "orig_nbformat": 4,
  "vscode": {
   "interpreter": {
    "hash": "fb4569285eef3a3450cb62085a5b1e0da4bce0af555edc33dcf29baf3acc1368"
   }
  }
 },
 "nbformat": 4,
 "nbformat_minor": 2
}

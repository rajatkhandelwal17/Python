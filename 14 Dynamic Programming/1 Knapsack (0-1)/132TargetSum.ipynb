{
 "cells": [
  {
   "cell_type": "code",
   "execution_count": null,
   "metadata": {},
   "outputs": [],
   "source": [
    "#User function Template for python3\n",
    "\n",
    "def calc(arr,s,N):\n",
    "    k= [[0 for i in range (s+1)] for j in range (N+1)]\n",
    "    for i in range(N+1):\n",
    "        k[i][0]=1\n",
    "    for i in range(1,s+1):\n",
    "        k[0][i]= 0\n",
    "    for i in range(1,N+1):\n",
    "        for j in range(s+1):\n",
    "            if arr[i-1]<=j:\n",
    "               k[i][j]= k[i-1][j-arr[i-1]] + k[i-1][j]\n",
    "            else:\n",
    "               k[i][j]=k[i-1][j]\n",
    "    return k[N][s]\n",
    "\n",
    "\n",
    "class Solution:\n",
    "    def findTargetSumWays(self, arr, N, target):\n",
    "        s= (target + sum(arr))/2\n",
    "        if int(s)!=s:\n",
    "          return 0\n",
    "        s= (target + sum(arr))//2  \n",
    "        a= calc(arr,s,N)\n",
    "        return a \n",
    "\n",
    "\n",
    "#{ \n",
    " # Driver Code Starts\n",
    "#Initial Template for Python 3\n",
    "\n",
    "if __name__ == '__main__': \n",
    "    t = int (input ())\n",
    "    for _ in range (t):\n",
    "        N=int(input())\n",
    "        arr=list(map(int,input().split()))\n",
    "        target = int(input())\n",
    "        ob = Solution()\n",
    "        print(ob.findTargetSumWays(arr,N, target))\n",
    "# } Driver Code Ends"
   ]
  }
 ],
 "metadata": {
  "kernelspec": {
   "display_name": "Python 3.10.5 64-bit",
   "language": "python",
   "name": "python3"
  },
  "language_info": {
   "name": "python",
   "version": "3.10.5"
  },
  "orig_nbformat": 4,
  "vscode": {
   "interpreter": {
    "hash": "fb4569285eef3a3450cb62085a5b1e0da4bce0af555edc33dcf29baf3acc1368"
   }
  }
 },
 "nbformat": 4,
 "nbformat_minor": 2
}

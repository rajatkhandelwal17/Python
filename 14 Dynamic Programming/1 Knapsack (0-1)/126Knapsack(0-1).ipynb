{
 "cells": [
  {
   "cell_type": "code",
   "execution_count": null,
   "metadata": {},
   "outputs": [],
   "source": [
    "#User function Template for python3\n",
    "\n",
    "class Solution:\n",
    "    \n",
    "    #Function to return max value that can be put in knapsack of capacity W.\n",
    "    def knapSack(self,W, wt, val, n):\n",
    "        t = [[0 for j in range(W+1)]for i in range(n+1)]\n",
    "        for i in range(n+1):\n",
    "            for j in range(W+1):\n",
    "                if i == 0 or j == 0: t[i][j] = 0\n",
    "                elif wt[i-1] <= j:\n",
    "                    t[i][j] = max(val[i-1]+t[i-1][j-wt[i-1]],t[i-1][j])\n",
    "                else:\n",
    "                    t[i][j] = t[i-1][j]\n",
    "        return t[n][W]\n",
    "\n",
    "#{ \n",
    " # Driver Code Starts\n",
    "#Initial Template for Python 3\n",
    "import atexit\n",
    "import io\n",
    "import sys\n",
    "\n",
    "# Contributed by : Nagendra Jha\n",
    "\n",
    "if __name__ == '__main__':\n",
    "    test_cases = int(input())\n",
    "    for cases in range(test_cases):\n",
    "        n = int(input())\n",
    "        W = int(input())\n",
    "        val = list(map(int,input().strip().split()))\n",
    "        wt = list(map(int,input().strip().split()))\n",
    "        ob=Solution()\n",
    "        print(ob.knapSack(W,wt,val,n))\n",
    "# } Driver Code Ends"
   ]
  }
 ],
 "metadata": {
  "kernelspec": {
   "display_name": "Python 3.10.5 64-bit",
   "language": "python",
   "name": "python3"
  },
  "language_info": {
   "name": "python",
   "version": "3.10.5"
  },
  "orig_nbformat": 4,
  "vscode": {
   "interpreter": {
    "hash": "fb4569285eef3a3450cb62085a5b1e0da4bce0af555edc33dcf29baf3acc1368"
   }
  }
 },
 "nbformat": 4,
 "nbformat_minor": 2
}

{
 "cells": [
  {
   "cell_type": "code",
   "execution_count": null,
   "metadata": {},
   "outputs": [],
   "source": [
    "map={}\n",
    "def isScramble(S1: str, S2: str):\n",
    "    if len(S1) != len(S2): return False\n",
    "    n = len(S1)\n",
    "    if not n: return True\n",
    "    if S1 == S2: return True\n",
    "\n",
    "    if sorted(S1) != sorted(S2):\n",
    "        return False\n",
    "    if(S1+' '+S2 in map):\n",
    "        return map[S1+' '+S2]\n",
    "    \n",
    "    flag = False\n",
    "\n",
    "    for i in range(1, n):\n",
    "        if (isScramble(S1[:i], S2[:i]) and\n",
    "            isScramble(S1[i:], S2[i:])):\n",
    "            flag = True\n",
    "            return True\n",
    "\n",
    "        if (isScramble(S1[-i:], S2[:i]) and\n",
    "            isScramble(S1[:-i], S2[i:])):\n",
    "            flag = True\n",
    "            return True\n",
    "    \n",
    "    map[S1+\" \"+S2] = flag\n",
    "    \n",
    "    return False\n"
   ]
  }
 ],
 "metadata": {
  "language_info": {
   "name": "python"
  },
  "orig_nbformat": 4
 },
 "nbformat": 4,
 "nbformat_minor": 2
}

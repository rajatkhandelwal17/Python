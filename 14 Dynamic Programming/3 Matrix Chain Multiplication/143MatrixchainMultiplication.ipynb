{
 "cells": [
  {
   "cell_type": "code",
   "execution_count": null,
   "metadata": {},
   "outputs": [],
   "source": [
    "#User function Template for python3\n",
    "import sys\n",
    "class Solution:\n",
    "    def solve(self, arr, i, j):\n",
    "        global t\n",
    "        if(t[i][j]!=-1):\n",
    "            return t[i][j]\n",
    "\n",
    "        if(i>=j):\n",
    "            return 0\n",
    "        t[i][j] = sys.maxsize\n",
    "        for k in range(i,j):\n",
    "            t[i][j]=min(t[i][j],self.solve(arr,i,k)+self.solve(arr,k+1,j)+(arr[i-1]*arr[k]*arr[j]))\n",
    "\n",
    "        return t[i][j]\n",
    "        \n",
    "    def matrixMultiplication(self, N, arr):\n",
    "        i,j=1,N-1\n",
    "        global t\n",
    "        t=[[-1 for _ in range(N+1)] for _ in range(N+1)]\n",
    "        return self.solve(arr,i,j)\n",
    "\n",
    "        \n",
    "#{ \n",
    " # Driver Code Starts\n",
    "#Initial Template for Python 3\n",
    "\n",
    "if __name__ == '__main__':\n",
    "    t = int(input())\n",
    "    for _ in range(t):\n",
    "        N = int(input())\n",
    "        arr = input().split()\n",
    "        for i in range(N):\n",
    "            arr[i] = int(arr[i])\n",
    "        \n",
    "        ob = Solution()\n",
    "        print(ob.matrixMultiplication(N, arr))\n",
    "# } Driver Code Ends"
   ]
  }
 ],
 "metadata": {
  "language_info": {
   "name": "python"
  },
  "orig_nbformat": 4
 },
 "nbformat": 4,
 "nbformat_minor": 2
}

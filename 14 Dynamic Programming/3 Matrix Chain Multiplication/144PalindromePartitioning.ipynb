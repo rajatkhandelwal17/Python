{
 "cells": [
  {
   "cell_type": "code",
   "execution_count": null,
   "metadata": {},
   "outputs": [],
   "source": [
    "#User function Template for python3\n",
    "\n",
    "\n",
    "class Solution:\n",
    "    def isPalindrome(self,s: str) -> bool:\n",
    "        return s==s[::-1]\n",
    "    \n",
    "    def solve(self, s: str, i: int, j: int) -> int:      \n",
    "        global t\n",
    "        if(t[i][j]!=-1):\n",
    "            return t[i][j]\n",
    "        \n",
    "        if(i>=j):\n",
    "            t[i][j]=0\n",
    "            return 0\n",
    "        if(self.isPalindrome(s[i:j+1])):\n",
    "            t[i][j]=0\n",
    "            return 0\n",
    "        \n",
    "        _min=float('inf')\n",
    "        for k in range(i,j):\n",
    "            if(self.isPalindrome(s[i:k+1])):\n",
    "                temp=1+self.solve(s,k+1,j)\n",
    "                _min=min(_min,temp)\n",
    "        t[i][j]=_min\n",
    "        return _min\n",
    "        \n",
    "    def palindromicPartition(self, string):\n",
    "        n=len(string)\n",
    "        i,j=0,n-1\n",
    "        global t\n",
    "        t=[[-1 for _ in range(n+1)] for _ in range(n+1)]\n",
    "        \n",
    "        return self.solve(string,i,j)\n",
    "\n",
    "\n",
    "#{ \n",
    " # Driver Code Starts\n",
    "#Initial Template for Python 3\n",
    "\n",
    "if __name__ == '__main__':\n",
    "    t = int(input())\n",
    "    for _ in range (t):\n",
    "        string = input()\n",
    "        \n",
    "        ob = Solution()\n",
    "        print(ob.palindromicPartition(string))\n",
    "# } Driver Code Ends"
   ]
  }
 ],
 "metadata": {
  "language_info": {
   "name": "python"
  },
  "orig_nbformat": 4
 },
 "nbformat": 4,
 "nbformat_minor": 2
}

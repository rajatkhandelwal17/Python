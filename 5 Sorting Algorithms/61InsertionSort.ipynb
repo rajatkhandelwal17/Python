{
 "cells": [
  {
   "cell_type": "code",
   "execution_count": null,
   "metadata": {},
   "outputs": [],
   "source": [
    "# Insertion sort is a sorting algorithm that places an unsorted element at its suitable place in each iteration.\n",
    "\n",
    "# Insertion sort works similarly as we sort cards in our hand in a card game.\n",
    "\n",
    "# We assume that the first card is already sorted then, we select an unsorted card. If the unsorted card is greater than the card in hand, it is placed on the right otherwise, to the left. In the same way, other unsorted cards are taken and put in their right place."
   ]
  },
  {
   "cell_type": "code",
   "execution_count": null,
   "metadata": {},
   "outputs": [],
   "source": [
    "Insertion Sort Algorithm\n",
    "\n",
    "insertionSort(array)\n",
    "  mark first element as sorted\n",
    "  for each unsorted element X\n",
    "    'extract' the element X\n",
    "    for j <- lastSortedIndex down to 0\n",
    "      if current element j > X\n",
    "        move sorted element to the right by 1\n",
    "    break loop and insert X here\n",
    "end insertionSort"
   ]
  },
  {
   "cell_type": "code",
   "execution_count": null,
   "metadata": {},
   "outputs": [],
   "source": [
    "def insertion_sort(lst):\n",
    "    for i in range(1,len(lst)):\n",
    "        j = i-1\n",
    "        key = lst[i]\n",
    "        while j >= 0 and key<lst[j]:\n",
    "            lst[j+1] = lst[j]\n",
    "            j = j-1\n",
    "        lst[j+1] = key\n",
    "\n",
    "lst = [99,88,77,66,55,44,33,22,111,23,4]\n",
    "print(\"Unsorted List:\", lst)\n",
    "insertion_sort(lst)\n",
    "print(\"Sorted List:\", lst)"
   ]
  }
 ],
 "metadata": {
  "interpreter": {
   "hash": "f23faf4bfe871c203c8bec80520af5927fc7cb1ae3bd834ddf554ee587ad1c05"
  },
  "kernelspec": {
   "display_name": "Python 3.8.7 64-bit",
   "language": "python",
   "name": "python3"
  },
  "language_info": {
   "codemirror_mode": {
    "name": "ipython",
    "version": 3
   },
   "file_extension": ".py",
   "mimetype": "text/x-python",
   "name": "python",
   "nbconvert_exporter": "python",
   "pygments_lexer": "ipython3",
   "version": "3.8.7"
  },
  "orig_nbformat": 4
 },
 "nbformat": 4,
 "nbformat_minor": 2
}

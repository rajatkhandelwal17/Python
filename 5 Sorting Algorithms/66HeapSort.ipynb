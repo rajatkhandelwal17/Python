{
 "cells": [
  {
   "cell_type": "code",
   "execution_count": null,
   "metadata": {},
   "outputs": [],
   "source": [
    "# Heap Sort is a popular and efficient sorting algorithm in computer programming. Learning how to write the heap sort algorithm requires knowledge of two types of data structures - arrays and trees.\n",
    "\n",
    "# The initial set of numbers that we want to sort is stored in an array e.g. [10, 3, 76, 34, 23, 32] and after sorting, we get a sorted array [3,10,23,32,34,76].\n",
    "\n",
    "# Heap sort works by visualizing the elements of the array as a special kind of complete binary tree called a heap."
   ]
  },
  {
   "cell_type": "code",
   "execution_count": null,
   "metadata": {},
   "outputs": [],
   "source": [
    "# Relationship between Array Indexes and Tree Elements\n",
    "\n",
    "# A complete binary tree has an interesting property that we can use to find the children and parents of any node.\n",
    "\n",
    "# If the index of any element in the array is i, the element in the index 2i+1 will become the left child and element in 2i+2 index will become the right child. Also, the parent of any element at index i is given by the lower bound of (i-1)/2."
   ]
  },
  {
   "cell_type": "code",
   "execution_count": null,
   "metadata": {},
   "outputs": [],
   "source": [
    "# What is Heap Data Structure?\n",
    "# Heap is a special tree-based data structure. A binary tree is said to follow a heap data structure if\n",
    "\n",
    "# it is a complete binary tree\n",
    "# All nodes in the tree follow the property that they are greater than their children i.e. the largest element is at the root and both its children and smaller than the root and so on. Such a heap is called a max-heap. If instead, all nodes are smaller than their children, it is called a min-heap"
   ]
  },
  {
   "cell_type": "code",
   "execution_count": null,
   "metadata": {},
   "outputs": [],
   "source": [
    "# How to \"heapify\" a tree\n",
    "# Starting from a complete binary tree, we can modify it to become a Max-Heap by running a function called heapify on all the non-leaf elements of the heap.\n",
    "\n",
    "# Since heapify uses recursion, it can be difficult to grasp. So let's first think about how you would heapify a tree with just three elements."
   ]
  },
  {
   "cell_type": "code",
   "execution_count": null,
   "metadata": {},
   "outputs": [],
   "source": [
    "def heapify(data,n,i):\n",
    "    largest = i\n",
    "    left = 2*i+1\n",
    "    right = 2*i+2\n",
    "    if left < n and data[largest] < data[left]: largest = left\n",
    "    if right < n and data[largest] < data[right]: largest = right\n",
    "    if largest != i:\n",
    "        data[i],data[largest] = data[largest],data[i]\n",
    "        heapify(data,n,largest)\n",
    "\n",
    "def heapsort(data):\n",
    "    n = len(data)\n",
    "    for i in range(n//2,-1,-1): heapify(data,n,i)\n",
    "    for i in range(n-1,-1,-1):\n",
    "        data[0],data[i] = data[i],data[0]\n",
    "        heapify(data,i,0)\n",
    "\n",
    "data = [91,82,73,67,56,48,37,29,10]\n",
    "print(\"UnSorted Data:\",data)\n",
    "heapsort(data)\n",
    "print(\"Sorted Data:\",data)"
   ]
  }
 ],
 "metadata": {
  "language_info": {
   "name": "python"
  },
  "orig_nbformat": 4
 },
 "nbformat": 4,
 "nbformat_minor": 2
}

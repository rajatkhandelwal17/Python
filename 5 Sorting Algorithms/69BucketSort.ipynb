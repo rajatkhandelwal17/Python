{
 "cells": [
  {
   "cell_type": "code",
   "execution_count": null,
   "metadata": {},
   "outputs": [],
   "source": [
    "# Bucket Sort is a sorting algorithm that divides the unsorted array elements into several groups called buckets. Each bucket is then sorted by using any of the suitable sorting algorithms or recursively applying the same bucket algorithm.\n",
    "\n",
    "# Finally, the sorted buckets are combined to form a final sorted array."
   ]
  },
  {
   "cell_type": "code",
   "execution_count": null,
   "metadata": {},
   "outputs": [],
   "source": [
    "# Scatter Gather Approach\n",
    "\n",
    "# The process of bucket sort can be understood as a scatter-gather approach. Here, elements are first scattered into buckets then the elements in each bucket are sorted. Finally, the elements are gathered in order."
   ]
  },
  {
   "cell_type": "code",
   "execution_count": null,
   "metadata": {},
   "outputs": [],
   "source": [
    "def bucketSort(array):\n",
    "    bucket = []\n",
    "\n",
    "    for i in range(len(array)):\n",
    "        bucket.append([])\n",
    "\n",
    "    for j in array:\n",
    "        index_b = int(10 * j)\n",
    "        bucket[index_b].append(j)\n",
    "\n",
    "    for i in range(len(array)):\n",
    "        bucket[i] = sorted(bucket[i])\n",
    "\n",
    "    k = 0\n",
    "    for i in range(len(array)):\n",
    "        for j in range(len(bucket[i])):\n",
    "            array[k] = bucket[i][j]\n",
    "            k += 1\n",
    "    return array\n",
    "\n",
    "array = [0.42,0.32,0.33,0.52,0.37,0.47,0.51]\n",
    "print(\"Unsorted data:\",array)\n",
    "bucketSort(array)\n",
    "print(\"Sorted data:\",array)"
   ]
  }
 ],
 "metadata": {
  "kernelspec": {
   "display_name": "Python 3.10.5 64-bit",
   "language": "python",
   "name": "python3"
  },
  "language_info": {
   "codemirror_mode": {
    "name": "ipython",
    "version": 3
   },
   "file_extension": ".py",
   "mimetype": "text/x-python",
   "name": "python",
   "nbconvert_exporter": "python",
   "pygments_lexer": "ipython3",
   "version": "3.10.5"
  },
  "orig_nbformat": 4,
  "vscode": {
   "interpreter": {
    "hash": "fb4569285eef3a3450cb62085a5b1e0da4bce0af555edc33dcf29baf3acc1368"
   }
  }
 },
 "nbformat": 4,
 "nbformat_minor": 2
}

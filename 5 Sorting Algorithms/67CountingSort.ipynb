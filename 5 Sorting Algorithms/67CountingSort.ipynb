{
 "cells": [
  {
   "cell_type": "code",
   "execution_count": null,
   "metadata": {},
   "outputs": [],
   "source": [
    "# Counting sort is a sorting algorithm that sorts the elements of an array by counting the number of occurrences of each unique element in the array. The count is stored in an auxiliary array and the sorting is done by mapping the count as an index of the auxiliary array."
   ]
  },
  {
   "cell_type": "code",
   "execution_count": null,
   "metadata": {},
   "outputs": [],
   "source": [
    "# Counting Sort Algorithm\n",
    "\n",
    "# countingSort(array, size)\n",
    "#   max <- find largest element in array\n",
    "#   initialize count array with all zeros\n",
    "#   for j <- 0 to size\n",
    "#     find the total count of each unique element and \n",
    "#     store the count at jth index in count array\n",
    "#   for i <- 1 to max\n",
    "#     find the cumulative sum and store it in count array itself\n",
    "#   for j <- size down to 1\n",
    "#     restore the elements to array\n",
    "#     decrease count of each element restored by 1"
   ]
  },
  {
   "cell_type": "code",
   "execution_count": 7,
   "metadata": {},
   "outputs": [
    {
     "name": "stdout",
     "output_type": "stream",
     "text": [
      "Unsorted List: [4, 2, 2, 8, 3, 3, 1, 0, 0, 1, 2, 4, 5, 6, 78, 0, 0, 0]\n",
      "Sorted List:  [0, 0, 0, 0, 0, 1, 1, 2, 2, 2, 3, 3, 4, 4, 5, 6, 8, 78]\n"
     ]
    }
   ],
   "source": [
    "def countingsort(lst):\n",
    "    max1 = max(lst)\n",
    "    count = [0]*(max1+1)\n",
    "    cumulative_count = [0]*(max1+1)\n",
    "\n",
    "    for i in range(0,size):\n",
    "        count[lst[i]] += 1\n",
    "    cumulative_count[0] = count[0]\n",
    "    for i in range(1, len(count)):\n",
    "        cumulative_count[i] = cumulative_count[i-1]+count[i]\n",
    "    for i in range(size-1,-1,-1):\n",
    "        output[cumulative_count[lst[i]]-1] = lst[i]\n",
    "        cumulative_count[lst[i]]-=1\n",
    "\n",
    "lst = [4,2,2,8,3,3,1,0,0,1,2,4,5,6,78,0,0,0]\n",
    "print(\"Unsorted List:\",lst)\n",
    "size = len(lst)\n",
    "output = [0]*size\n",
    "countingsort(lst)\n",
    "print(\"Sorted List: \",output)"
   ]
  }
 ],
 "metadata": {
  "kernelspec": {
   "display_name": "Python 3.10.5 64-bit",
   "language": "python",
   "name": "python3"
  },
  "language_info": {
   "codemirror_mode": {
    "name": "ipython",
    "version": 3
   },
   "file_extension": ".py",
   "mimetype": "text/x-python",
   "name": "python",
   "nbconvert_exporter": "python",
   "pygments_lexer": "ipython3",
   "version": "3.10.5"
  },
  "orig_nbformat": 4,
  "vscode": {
   "interpreter": {
    "hash": "fb4569285eef3a3450cb62085a5b1e0da4bce0af555edc33dcf29baf3acc1368"
   }
  }
 },
 "nbformat": 4,
 "nbformat_minor": 2
}

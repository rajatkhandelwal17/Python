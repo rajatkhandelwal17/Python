{
 "cells": [
  {
   "cell_type": "code",
   "execution_count": null,
   "metadata": {},
   "outputs": [],
   "source": [
    "# Radix sort is a sorting algorithm that sorts the elements by first grouping the individual digits of the same place value. Then, sort the elements according to their increasing/decreasing order.\n",
    "\n",
    "# Suppose, we have an array of 8 elements. First, we will sort elements based on the value of the unit place. Then, we will sort elements based on the value of the tenth place. This process goes on until the last significant place."
   ]
  },
  {
   "cell_type": "code",
   "execution_count": null,
   "metadata": {},
   "outputs": [],
   "source": [
    "def countingsort(lst):\n",
    "    max1 = max(lst)\n",
    "    count = [0]*(max1+1)\n",
    "    cumulative_count = [0]*(max1+1)\n",
    "\n",
    "    for i in range(0,size):\n",
    "        count[lst[i]] += 1\n",
    "    cumulative_count[0] = count[0]\n",
    "    for i in range(1, len(count)):\n",
    "        cumulative_count[i] = cumulative_count[i-1]+count[i]\n",
    "    for i in range(0,size):\n",
    "        output[cumulative_count[lst[i]]-1] = lst[i]\n",
    "        cumulative_count[lst[i]]-=1\n",
    "\n",
    "def radixsort(lst):\n",
    "    global lst1\n",
    "    for i in range(0,size):\n",
    "        lst1.append(lst[i]%10)\n",
    "    countingsort(lst1)\n",
    "    globals()['lst1'] = []\n",
    "    for i in range(0,size):\n",
    "        lst1.append(lst[i]%100)\n",
    "    countingsort(lst1)\n",
    "    globals()['lst1'] = []\n",
    "    for i in range(0,size):\n",
    "        lst1.append(lst[i]%1000)\n",
    "    countingsort(lst1)\n",
    "\n",
    "lst = [121,432,564,23,1,45,788]\n",
    "lst1 = []\n",
    "print(\"Unsorted List:\",lst)\n",
    "size = len(lst)\n",
    "output = [0]*(size)\n",
    "radixsort(lst)\n",
    "print(\"Sorted List: \",output)"
   ]
  }
 ],
 "metadata": {
  "kernelspec": {
   "display_name": "Python 3.10.5 64-bit",
   "language": "python",
   "name": "python3"
  },
  "language_info": {
   "codemirror_mode": {
    "name": "ipython",
    "version": 3
   },
   "file_extension": ".py",
   "mimetype": "text/x-python",
   "name": "python",
   "nbconvert_exporter": "python",
   "pygments_lexer": "ipython3",
   "version": "3.10.5"
  },
  "orig_nbformat": 4,
  "vscode": {
   "interpreter": {
    "hash": "fb4569285eef3a3450cb62085a5b1e0da4bce0af555edc33dcf29baf3acc1368"
   }
  }
 },
 "nbformat": 4,
 "nbformat_minor": 2
}

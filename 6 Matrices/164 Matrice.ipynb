{
 "cells": [
  {
   "cell_type": "code",
   "execution_count": null,
   "metadata": {},
   "outputs": [],
   "source": [
    "# Search A element in a matrix"
   ]
  },
  {
   "cell_type": "code",
   "execution_count": null,
   "metadata": {},
   "outputs": [],
   "source": [
    "class Solution:\n",
    "    def searchMatrix(self, matrix, target) -> bool:\n",
    "        for i in range(0,len(matrix)):\n",
    "            for j in range(0,len(matrix[i])):\n",
    "                if matrix[i][j] == target:\n",
    "                    return True\n",
    "        return False\n",
    "\n",
    "obj1 = Solution()\n",
    "array = [[1,2,3,4,5],[6,7,8,9,10]]\n",
    "target = 9\n",
    "res = obj1.searchMatrix(array,target)\n",
    "if res == True: print(\"Found\")\n",
    "else: print(\"Not Found\")"
   ]
  }
 ],
 "metadata": {
  "kernelspec": {
   "display_name": "Python 3.10.5 64-bit",
   "language": "python",
   "name": "python3"
  },
  "language_info": {
   "codemirror_mode": {
    "name": "ipython",
    "version": 3
   },
   "file_extension": ".py",
   "mimetype": "text/x-python",
   "name": "python",
   "nbconvert_exporter": "python",
   "pygments_lexer": "ipython3",
   "version": "3.10.5"
  },
  "orig_nbformat": 4,
  "vscode": {
   "interpreter": {
    "hash": "fb4569285eef3a3450cb62085a5b1e0da4bce0af555edc33dcf29baf3acc1368"
   }
  }
 },
 "nbformat": 4,
 "nbformat_minor": 2
}

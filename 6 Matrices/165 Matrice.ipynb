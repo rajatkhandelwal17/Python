{
 "cells": [
  {
   "cell_type": "code",
   "execution_count": null,
   "metadata": {},
   "outputs": [],
   "source": [
    "# Find Median of matrix"
   ]
  },
  {
   "cell_type": "code",
   "execution_count": null,
   "metadata": {},
   "outputs": [],
   "source": [
    "class Solution:\n",
    "    def median(self, matrix, r, c):\n",
    "        lst = []\n",
    "        for i in range(0,len(matrix)):\n",
    "            for j in range(0,len(matrix[i])):\n",
    "                lst.append(matrix[i][j])\n",
    "        lst.sort()\n",
    "        median = (r*c)//2\n",
    "        return lst[median]\n",
    "        \n",
    "if __name__ == '__main__': \n",
    "    ob = Solution()\n",
    "    t = int (input ())\n",
    "    for _ in range (t):\n",
    "        r,c = map(int,input().strip().split())\n",
    "        matrix = [[0 for j in range(c)] for i in range(r)]\n",
    "        line1 = [int(x) for x in input().strip().split()]       \n",
    "        k = 0\n",
    "        for i in range(r):\n",
    "            for j in range (c):\n",
    "                matrix[i][j]=line1[k]\n",
    "                k+=1\n",
    "        ans = ob.median(matrix, r, c);\n",
    "        print(ans)"
   ]
  }
 ],
 "metadata": {
  "kernelspec": {
   "display_name": "Python 3.10.5 64-bit",
   "language": "python",
   "name": "python3"
  },
  "language_info": {
   "codemirror_mode": {
    "name": "ipython",
    "version": 3
   },
   "file_extension": ".py",
   "mimetype": "text/x-python",
   "name": "python",
   "nbconvert_exporter": "python",
   "pygments_lexer": "ipython3",
   "version": "3.10.5"
  },
  "orig_nbformat": 4,
  "vscode": {
   "interpreter": {
    "hash": "fb4569285eef3a3450cb62085a5b1e0da4bce0af555edc33dcf29baf3acc1368"
   }
  }
 },
 "nbformat": 4,
 "nbformat_minor": 2
}

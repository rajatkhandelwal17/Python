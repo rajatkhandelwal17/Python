{
 "cells": [
  {
   "cell_type": "code",
   "execution_count": null,
   "metadata": {},
   "outputs": [],
   "source": [
    "# Sort the matrice"
   ]
  },
  {
   "cell_type": "code",
   "execution_count": null,
   "metadata": {},
   "outputs": [],
   "source": [
    "class Solution:\n",
    "    def sortedMatrix(self,N,Mat):\n",
    "        lst = []\n",
    "        k = 0\n",
    "        for i in range(0,len(Mat)):\n",
    "            for j in range(0,len(Mat[i])):\n",
    "                lst.append(Mat[i][j])\n",
    "        lst.sort()\n",
    "        for i in range(0,len(Mat)):\n",
    "            for j in range(0,len(Mat[i])):\n",
    "                Mat[i][j] = lst[k]\n",
    "                k+=1\n",
    "        return Mat\n",
    "\n",
    "import math\n",
    "        \n",
    "if __name__=='__main__':\n",
    "    t=int(input())\n",
    "    for _ in range(t):\n",
    "        N=int(input())\n",
    "        v=[]\n",
    "        for i in range(N):\n",
    "            a=list(map(int,input().strip().split()))\n",
    "            v.append(a)\n",
    "        ob=Solution()\n",
    "        ans=ob.sortedMatrix(N,v)\n",
    "        for i in range(N):\n",
    "            for j in range(N):\n",
    "                print(ans[i][j],end=\" \")\n",
    "            print()"
   ]
  }
 ],
 "metadata": {
  "language_info": {
   "name": "python"
  },
  "orig_nbformat": 4
 },
 "nbformat": 4,
 "nbformat_minor": 2
}

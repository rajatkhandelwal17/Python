{
 "cells": [
  {
   "cell_type": "code",
   "execution_count": null,
   "metadata": {},
   "outputs": [],
   "source": [
    "# Merge Sort is one of the most popular sorting algorithms that is based on the principle of Divide and Conquer Algorithm.\n",
    "\n",
    "# Here, a problem is divided into multiple sub-problems. Each sub-problem is solved individually. Finally, sub-problems are combined to form the final solution."
   ]
  },
  {
   "cell_type": "code",
   "execution_count": null,
   "metadata": {},
   "outputs": [],
   "source": [
    "# Divide and Conquer Strategy\n",
    "# Using the Divide and Conquer technique, we divide a problem into subproblems. When the solution to each subproblem is ready, we 'combine' the results from the subproblems to solve the main problem.\n",
    "\n",
    "# Suppose we had to sort an array A. A subproblem would be to sort a sub-section of this array starting at index p and ending at index r, denoted as A[p..r].\n",
    "\n",
    "# Divide\n",
    "\n",
    "# If q is the half-way point between p and r, then we can split the subarray A[p..r] into two arrays A[p..q] and A[q+1, r].\n",
    "\n",
    "# Conquer\n",
    "\n",
    "# In the conquer step, we try to sort both the subarrays A[p..q] and A[q+1, r]. If we haven't yet reached the base case, we again divide both these subarrays and try to sort them.\n",
    "\n",
    "# Combine\n",
    "\n",
    "# When the conquer step reaches the base step and we get two sorted subarrays A[p..q] and A[q+1, r] for array A[p..r], we combine the results by creating a sorted array A[p..r] from two sorted subarrays A[p..q] and A[q+1, r]."
   ]
  },
  {
   "cell_type": "code",
   "execution_count": null,
   "metadata": {},
   "outputs": [],
   "source": [
    "# MergeSort Algorithm\n",
    "# The MergeSort function repeatedly divides the array into two halves until we reach a stage where we try to perform MergeSort on a subarray of size 1 i.e. p == r.\n",
    "\n",
    "# After that, the merge function comes into play and combines the sorted arrays into larger arrays until the whole array is merged.\n",
    "\n",
    "MergeSort(A, p, r):\n",
    "    if p > r \n",
    "        return\n",
    "    q = (p+r)/2\n",
    "    mergeSort(A, p, q)\n",
    "    mergeSort(A, q+1, r)\n",
    "    merge(A, p, q, r)\n",
    "# To sort an entire array, we need to call MergeSort(A, 0, length(A)-1).\n",
    "\n",
    "# As shown in the image below, the merge sort algorithm recursively divides the array into halves until we reach the base case of array with 1 element. After that, the merge function picks up the sorted sub-arrays and merges them to gradually sort the entire array."
   ]
  },
  {
   "cell_type": "code",
   "execution_count": null,
   "metadata": {},
   "outputs": [],
   "source": [
    "# The merge Step of Merge Sort\n",
    "# Every recursive algorithm is dependent on a base case and the ability to combine the results from base cases. Merge sort is no different. The most important part of the merge sort algorithm is, you guessed it, merge step.\n",
    "\n",
    "# The merge step is the solution to the simple problem of merging two sorted lists(arrays) to build one large sorted list(array).\n",
    "\n",
    "# The algorithm maintains three pointers, one for each of the two arrays and one for maintaining the current index of the final sorted array.\n",
    "\n",
    "# Have we reached the end of any of the arrays?\n",
    "#     No:\n",
    "#         Compare current elements of both arrays \n",
    "#         Copy smaller element into sorted array\n",
    "#         Move pointer of element containing smaller element\n",
    "#     Yes:\n",
    "#         Copy all remaining elements of non-empty array"
   ]
  },
  {
   "cell_type": "code",
   "execution_count": null,
   "metadata": {},
   "outputs": [],
   "source": [
    "def mergesort(lst):\n",
    "    if len(lst) > 1:\n",
    "        mid = len(lst)//2\n",
    "        list1 = lst[:mid]\n",
    "        list2 = lst[mid:]\n",
    "        mergesort(list1)\n",
    "        mergesort(list2)\n",
    "        i = j = k = 0\n",
    "        l = len(list1)\n",
    "        m = len(list2)\n",
    "        while i < l and j < m:\n",
    "            if list1[i] < list2[j]:\n",
    "                lst[k] = list1[i]\n",
    "                i+=1\n",
    "            else:\n",
    "                lst[k] = list2[j]\n",
    "                j+=1\n",
    "            k+=1\n",
    "        while i < l:\n",
    "            lst[k] = list1[i]\n",
    "            i+=1\n",
    "            k+=1\n",
    "        while j < m:\n",
    "            lst[k] = list2[j]\n",
    "            j+=1\n",
    "            k+=1\n",
    "\n",
    "\n",
    "lst = [999,0,771,883,646,555,11,22,33,44]\n",
    "print(\"Unsorted List:\",lst)\n",
    "mergesort(lst)\n",
    "print(\"Sorted List:\",lst)"
   ]
  }
 ],
 "metadata": {
  "kernelspec": {
   "display_name": "Python 3.10.5 64-bit",
   "language": "python",
   "name": "python3"
  },
  "language_info": {
   "name": "python",
   "version": "3.10.5"
  },
  "orig_nbformat": 4,
  "vscode": {
   "interpreter": {
    "hash": "fb4569285eef3a3450cb62085a5b1e0da4bce0af555edc33dcf29baf3acc1368"
   }
  }
 },
 "nbformat": 4,
 "nbformat_minor": 2
}

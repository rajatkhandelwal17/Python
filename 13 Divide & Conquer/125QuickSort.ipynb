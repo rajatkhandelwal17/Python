{
 "cells": [
  {
   "cell_type": "code",
   "execution_count": null,
   "metadata": {},
   "outputs": [],
   "source": [
    "# Quicksort is a sorting algorithm based on the divide and conquer approach where\n",
    "\n",
    "# An array is divided into subarrays by selecting a pivot element (element selected from the array).\n",
    "\n",
    "# While dividing the array, the pivot element should be positioned in such a way that elements less than pivot are kept on the left side and elements greater than pivot are on the right side of the pivot.\n",
    "# The left and right subarrays are also divided using the same approach. This process continues until each subarray contains a single element.\n",
    "# At this point, elements are already sorted. Finally, elements are combined to form a sorted array."
   ]
  },
  {
   "cell_type": "code",
   "execution_count": null,
   "metadata": {},
   "outputs": [],
   "source": [
    "Quick Sort Algorithm\n",
    "\n",
    "quickSort(array, leftmostIndex, rightmostIndex)\n",
    "  if (leftmostIndex < rightmostIndex)\n",
    "    pivotIndex <- partition(array,leftmostIndex, rightmostIndex)\n",
    "    quickSort(array, leftmostIndex, pivotIndex - 1)\n",
    "    quickSort(array, pivotIndex, rightmostIndex)\n",
    "\n",
    "partition(array, leftmostIndex, rightmostIndex)\n",
    "  set rightmostIndex as pivotIndex\n",
    "  storeIndex <- leftmostIndex - 1\n",
    "  for i <- leftmostIndex + 1 to rightmostIndex\n",
    "  if element[i] < pivotElement\n",
    "    swap element[i] and element[storeIndex]\n",
    "    storeIndex++\n",
    "  swap pivotElement and element[storeIndex+1]\n",
    "return storeIndex + 1"
   ]
  },
  {
   "cell_type": "code",
   "execution_count": null,
   "metadata": {},
   "outputs": [],
   "source": [
    "def partition(lst,l,h):\n",
    "    pivot = lst[l]\n",
    "    i = l + 1\n",
    "    j = h\n",
    "    while True:\n",
    "        while i<= j and lst[i]<=pivot: i+=1\n",
    "        while i<= j and lst[j]>pivot: j-=1\n",
    "        if i<=j: lst[i],lst[j] = lst[j],lst[i]\n",
    "        else: break\n",
    "    lst[l],lst[j] = lst[j],lst[l]\n",
    "    return j\n",
    "\n",
    "def quicksort(lst,l,h):\n",
    "    if l<=h:\n",
    "        j = partition(lst,l,h)\n",
    "        quicksort(lst,l,j-1)\n",
    "        quicksort(lst,j+1,h)\n",
    "\n",
    "lst = [64,96,12,8,16,14,1,16]\n",
    "print(\"Unsorted list:\", lst)\n",
    "quicksort(lst,0,7)\n",
    "print(\"Sorted List:\", lst)"
   ]
  }
 ],
 "metadata": {
  "kernelspec": {
   "display_name": "Python 3.10.5 64-bit",
   "language": "python",
   "name": "python3"
  },
  "language_info": {
   "name": "python",
   "version": "3.10.5"
  },
  "orig_nbformat": 4,
  "vscode": {
   "interpreter": {
    "hash": "fb4569285eef3a3450cb62085a5b1e0da4bce0af555edc33dcf29baf3acc1368"
   }
  }
 },
 "nbformat": 4,
 "nbformat_minor": 2
}
